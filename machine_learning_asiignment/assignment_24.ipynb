{
 "cells": [
  {
   "attachments": {},
   "cell_type": "markdown",
   "metadata": {},
   "source": [
    "1. What is your definition of clustering? What are a few clustering algorithms you might think of?\n",
    "<br>\n",
    "Ans - >\n",
    "clustering is a unsupervised approach. it is a method of identifing similar object and keepping them together.clustering is find a structute or pattern in a collection of unlabled data or complex data.\n",
    "\n",
    "the goal of clustering is to determine the intrensic groups of unlabled complex data where will produce the data as a same labeld in the same kind of shape of data.\n",
    "\n",
    "few algorithms of clusterings are:\n",
    "\n",
    "    1. k-mean clustering\n",
    "    2. herirachical clustering\n",
    "    3. DBSCAN \n",
    "\n",
    "2. What are some of the most popular clustering algorithm applications?\n",
    "<br>\n",
    "ans - >\n",
    " Application of clustering algorithm are:-\n",
    " <br> \n",
    " 1. for customer segment \n",
    " <br>\n",
    " 2. for data analysis \n",
    " <br>\n",
    " 3. As a dimensionality reduction technique\n",
    " <br>\n",
    "  4. for anamoly detection \n",
    "  <br>\n",
    "  5. To segment an image.\n",
    "  <br>\n",
    "  6. To improving the model performance\n",
    "\n",
    "3. When using K-Means, describe two strategies for selecting the appropriate number of clusters.\n",
    "<br>\n",
    "Ans - >. the k-mean is a clusterring approach in which a data is grouped into k-distinct non-overlapping cluster based on the distance from the k-centre. the value of k is specified first then algorithm assign the point to exactly one cluster.\n",
    "\n",
    "the optimum value of k is obtained by using the elbow method(wcc or inertia).\n",
    "\n",
    "5. Provide two examples of clustering algorithms that can handle large datasets. And two that look for high-density areas?\n",
    "<br>\n",
    "Ans - >\n",
    "Two examples of clustering algorithms that can handle large datasets are.\n",
    "<br>\n",
    "1 .Identifying fraudulent or criminal activity.\n",
    "<br>\n",
    "2 .Classifying network traffic\n",
    "<br>\n",
    "3 .Transection of the very less amount of money or more amount of money from the ATM(10,1M)\n",
    "6. Can you think of a scenario in which constructive learning will be advantageous? How can you go about putting it into action?\n",
    "<br>\n",
    "\n",
    "7. How do you tell the difference between anomaly and novelty detection?\n",
    "<br>\n",
    "Ans - >\n",
    "anamoly detection is similar to the novelty detection but not completely similar. the novelty detection is mainly concerned to identify the unabsorbed pattern in the obsrvation.\n",
    "\n",
    "8. What is a Gaussian mixture, and how does it work? What are some of the things you can do about it?\n",
    "<br>\n",
    "Ans - >\n",
    "A Gaussian mixture model is a probabilistic model that assumes all the data points are generated from a mixture of a finite number of Gaussian distributions with unknown parameters. Gaussian Mixture models are used for representing Normally Distributed subpopulations within an overall population. The advantage of Mixture models is that they do not require which subpopulation a data point belongs to. It allows the model to learn the subpopulations automatically.\n",
    "\n",
    "9. When using a Gaussian mixture model, can you name two techniques for determining the correct number of clusters?\n",
    "<br>Ans - >\n",
    "How can a Gaussian mixture model be used for clustering? Gaussian mixture models (GMMs) are often used for data clustering. You can use GMMs to perform either hard clustering or soft clustering on query data. To perform hard clustering, the GMM assigns query data points to the multivariate normal components that maximize the component posterior probability, given the data."
   ]
  }
 ],
 "metadata": {
  "kernelspec": {
   "display_name": "base",
   "language": "python",
   "name": "python3"
  },
  "language_info": {
   "name": "python",
   "version": "3.8.5 (default, Sep  3 2020, 21:29:08) [MSC v.1916 64 bit (AMD64)]"
  },
  "orig_nbformat": 4,
  "vscode": {
   "interpreter": {
    "hash": "49dc65a12af44c144fa20877bc914b34e80c2deae3989fd7a634dfb096a0b906"
   }
  }
 },
 "nbformat": 4,
 "nbformat_minor": 2
}
