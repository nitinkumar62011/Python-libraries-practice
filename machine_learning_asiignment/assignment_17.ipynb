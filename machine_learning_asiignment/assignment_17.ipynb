{
 "cells": [
  {
   "attachments": {},
   "cell_type": "markdown",
   "metadata": {},
   "source": [
    "1. Using a graph to illustrate slope and intercept, define basic linear regression."
   ]
  },
  {
   "cell_type": "code",
   "execution_count": 1,
   "metadata": {},
   "outputs": [
    {
     "data": {
      "image/png": "[encoded data removed]",
      "text/plain": [
       "<Figure size 432x288 with 1 Axes>"
      ]
     },
     "metadata": {
      "needs_background": "light"
     },
     "output_type": "display_data"
    }
   ],
   "source": [
    "import matplotlib.pyplot as plt\n",
    "import numpy as np\n",
    "x = np.linspace(-5,5,200)\n",
    "y = 5*x+1\n",
    "plt.plot(x, y, '-r', label='y=5x+1')\n",
    "plt.title('Graph of y=5x+1')\n",
    "plt.xlabel('x', color='#1C1233')\n",
    "plt.ylabel('y', color='#1C1233')\n",
    "plt.legend(loc='upper left')\n",
    "plt.grid()\n",
    "plt.show()"
   ]
  },
  {
   "attachments": {},
   "cell_type": "markdown",
   "metadata": {},
   "source": [
    "2. In a graph, explain the terms rise, run, and slope.\n",
    "<br>\n",
    "Ans - >\n",
    "The slope of a line measures the steepness of the line. Most of you are probably familiar with associating slope with \"rise over run\". Rise means how many units you move up or down from point to point. On the graph that would be a change in the y values. Run means how far left or right you move from point to point."
   ]
  },
  {
   "attachments": {},
   "cell_type": "markdown",
   "metadata": {},
   "source": [
    "3. Use a graph to demonstrate slope, linear positive slope, and linear negative slope, as well as the different conditions that contribute to the slope.\n",
    "# Ans : The steepness of a hill is called a slope. The same goes for the steepness of a line. The slope is defined as the\n",
    "#       ratio of the vertical change between two points, the rise, to the horizontal change between the same two points, \n",
    "#       the run.\n",
    "#       slope=rise/run=changeiny/changeinx\n",
    "#       The slope of a line is usually represented by the letter m. (x1, y1) represents the first point whereas (x2, y2) \n",
    "#       represents the second point.\n",
    "#       m=y2−y1/x2−x1\n",
    "#       It is important to keep the x-and y-coordinates in the same order in both the numerator and the denominator otherwise\n",
    "#       you will get the wrong slope."
   ]
  },
  {
   "attachments": {},
   "cell_type": "markdown",
   "metadata": {},
   "source": [
    "4. Use a graph to demonstrate curve linear negative slope and curve linear positive slope.\n",
    "<br>\n",
    "Ans - >\n",
    "Image result for a graph to demonstrate curve linear negative slope and curve linear positive slope.I f the signs are different then the answer is negative! If the slope is negative you can plot your next point by going down and right OR up and left. f the slope is positive you can plot your next point by going up and right OR down and left.\n",
    "\n",
    "5. Use a graph to show the maximum and low points of curves.\n",
    "<br>\n",
    "Ans - >\n",
    "To find the maximum/minimum of a curve you must first differentiate the function and then equate it to zero. This gives you one coordinate. To find the other you must resubstitute the one already found into the original function.\n",
    "\n",
    "6. Use the formulas for a and b to explain ordinary least squares.\n",
    "<br>\n",
    "Ans - >\n",
    "This best line is the Least Squares Regression Line (abbreviated as LSRL). This is true where ˆy is the predicted y-value given x, a is the y intercept, b and is the slope. For every x-value, the Least Squares Regression Line makes a predicted y-value that is close to the observed y-value, but usually slightly off.\n",
    "\n",
    "7. Provide a step-by-step explanation of the OLS algorithm.\n",
    "<br>\n",
    "Ans - >\n",
    "Ordinary Least Square Method : Set a difference between dependent variable and its estimation: Square the difference: Take summation for all data. To get the parameters that make the sum of square difference become minimum, take partial derivative for each parameter and equate it with zero,\n",
    "\n",
    "8. What is the regression's standard error? To represent the same, make a graph.\n",
    "<br>\n",
    "Ans - >\n",
    "The standard error of the regression (S), also known as the standard error of the estimate, represents the average distance that the observed values fall from the regression line. Conveniently, it tells you how wrong the regression model is on average using the units of the response variable.\n",
    "\n",
    "\n",
    "\n",
    "9. Provide an example of multiple linear regression.\n",
    "<br>\n",
    "Ans - >\n",
    "Multiple Linear Regression is one of the important regression algorithms which models the linear relationship between a single dependent continuous variable and more than one independent variable. Example: Prediction of CO2 emission based on engine size and number of cylinders in a car.\n",
    "\n",
    "10. Describe the regression analysis assumptions and the BLUE principle.\n",
    "<br>\n",
    "Ans - >\n",
    "There are four assumptions associated with a linear regression model:\n",
    "<br>\n",
    " Linearity: The relationship between X and the mean of Y is linear.<br>\n",
    "  Homoscedasticity: The variance of residual is the same for any value of X. <br>\n",
    "  Independence: Observations are independent of each other.<br>\n",
    "   BLUE is an acronym for the following: Best Linear Unbiased Estimator. In this context, the definition of “best” refers to the minimum variance or the narrowest sampling distribution.\n",
    "\n",
    "11. Describe two major issues with regression analysis.\n",
    "<br>\n",
    "Ans - >\n",
    "It involves very lengthy and complicated procedure of calculations and analysis. It cannot be used in case of qualitative phenomenon viz. honesty, crime etc. The overall idea of regression is to examine two things: (1) does a set of predictor variables do a good job in predicting an outcome (dependent) variable? (2) Which variables in particular are significant predictors of the outcome variable, and in what way do they–indicated by the magnitude and sign of the beta\n",
    "\n",
    "12. How can the linear regression model's accuracy be improved?\n",
    "<br>\n",
    "Ans - >\n",
    "8 Methods to Boost the Accuracy of a Model : <br>\n",
    "1. Add more data. Having more data is always a good idea. <br> \n",
    "2 . Treat missing and Outlier values. <br> \n",
    "3. Feature Engineering. <br>\n",
    "4 . Feature Selection. <br>\n",
    "5 . Multiple algorithms. <br>\n",
    "6. Algorithm Tuning. <br>\n",
    " 7. Ensemble methods.<br>\n",
    " 8 . Clustering approach.\n",
    "\n",
    "13. Using an example, describe the polynomial regression model in detail.\n",
    "<br>\n",
    "Ans - >\n",
    "In statistics, polynomial regression is a form of regression analysis in which the relationship between the independent variable x and the dependent variable y is modelled as an nth degree polynomial in x.For this reason, polynomial regression is considered to be a special case of multiple linear regression. Polynomial regression is one of the machine learning algorithms used for making predictions. For example, it is widely applied to predict the spread rate of COVID-19 and other infectious diseases.\n",
    "\n",
    "14. Provide a detailed explanation of logistic regression.\n",
    "<br>\n",
    "Ans - >\n",
    "Logistic regression is a statistical analysis method used to predict a data value based on prior observations of a data set.Based on historical data about earlier outcomes involving the same input criteria, it then scores new cases on their probability of falling into a particular outcome category.\n",
    "\n",
    "15. What are the logistic regression assumptions?\n",
    "<br>\n",
    "Ans - >\n",
    "Basic assumptions that must be met for logistic regression include independence of errors, linearity in the logit for continuous variables, absence of multicollinearity, and lack of strongly influential outliers.\n",
    "\n",
    "16. Go through the details of maximum likelihood estimation.\n",
    "<br>\n",
    "Ans - >\n",
    "Maximum likelihood estimation is a method that determines values for the parameters of a model. The parameter values are found such that they maximise the likelihood that the process described by the model produced the data that were actually observed."
   ]
  }
 ],
 "metadata": {
  "kernelspec": {
   "display_name": "base",
   "language": "python",
   "name": "python3"
  },
  "language_info": {
   "codemirror_mode": {
    "name": "ipython",
    "version": 3
   },
   "file_extension": ".py",
   "mimetype": "text/x-python",
   "name": "python",
   "nbconvert_exporter": "python",
   "pygments_lexer": "ipython3",
   "version": "3.8.5"
  },
  "orig_nbformat": 4,
  "vscode": {
   "interpreter": {
    "hash": "49dc65a12af44c144fa20877bc914b34e80c2deae3989fd7a634dfb096a0b906"
   }
  }
 },
 "nbformat": 4,
 "nbformat_minor": 2
}
