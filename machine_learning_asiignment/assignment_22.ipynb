{
 "cells": [
  {
   "attachments": {},
   "cell_type": "markdown",
   "metadata": {},
   "source": [
    "1. Is there any way to combine five different models that have all been trained on the same training data and have all achieved 95 percent precision? If so, how can you go about doing it? If not, what is the reason?\n",
    "<br>\n",
    "Ans - >\n",
    "we will combining them into a  ensemble technique(bagging,boosting and stacking), which will often give you even better results. It works better if the models are very different beacuse it have the knowldge about the all kind of data\n",
    "\n",
    "2. What's the difference between hard voting classifiers and soft voting classifiers?\n",
    "<br>\n",
    "ans - >\n",
    "In hard voting (also known as majority voting), every individual classifier votes for a class, and the majority wins. In statistical terms, the predicted target label of the ensemble is the mode of the distribution of individually predicted labels. In soft voting, every individual classifier provides a probability value that a specific data point belongs to a particular target class. The predictions are weighted by the classifier's importance and summed up. Then the target label with the greatest sum of weighted probabilities wins the vote.\n",
    "\n",
    "3. Is it possible to distribute a bagging ensemble's training through several servers to speed up the process? Pasting ensembles, boosting ensembles, Random Forests, and stacking ensembles are all options.\n",
    "Ans - >\n",
    "\n",
    "4. What is the advantage of evaluating out of the bag?\n",
    "<br>\n",
    "Ans - > the advantage of evaluating out of bag are that the model is never trained on the that data so it is used for evaluating the accuracy of the model. so,we do not need of cross validation and can use out of bag instance for that purpose.\n",
    "\n",
    "5. What distinguishes Extra-Trees from ordinary Random Forests? What good would this extra randomness do? Is it true that Extra-Tree Random Forests are slower or faster than normal Random Forests?\n",
    "<br>\n",
    "Ans - >\n",
    "\n",
    "6. Which hyperparameters and how do you tweak if your AdaBoost ensemble underfits the training data?\n",
    "<br>\n",
    "Ans - >\n",
    " try increasing the number of estimators or reducing the regularization hyperparameters of the base estimator, also try slightly increasing the learning rate.\n",
    "\n",
    "7. Should you raise or decrease the learning rate if your Gradient Boosting ensemble overfits the training set?\n",
    "<br>\n",
    "Ans - > decreasing the learning rate, early stopping to find the right number of predictors"
   ]
  }
 ],
 "metadata": {
  "language_info": {
   "name": "python"
  },
  "orig_nbformat": 4
 },
 "nbformat": 4,
 "nbformat_minor": 2
}
