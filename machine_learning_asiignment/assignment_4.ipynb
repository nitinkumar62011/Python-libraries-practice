{
 "cells": [
  {
   "attachments": {},
   "cell_type": "markdown",
   "metadata": {},
   "source": [
    "1. What are the key tasks involved in getting ready to work with machine learning modeling?\n",
    "<br>\n",
    "Ans - >\n",
    "The key tasks involved in getting the machine learning modeling are \n",
    "<br>\n",
    "1 .Understanding the business requirements \n",
    "<br>\n",
    "2 . Getting the data from the right source or multiple sources.\n",
    "<br>\n",
    "3 . preparing the data .\n",
    "<br>\n",
    "4 . diviing the data into training data,evaluation data and testing data.\n",
    "<br>\n",
    "5 .choosing the correct algorithm for creating the predictive modeling .\n",
    "<br>\n",
    "6 .Evaluating the model.\n",
    "<br>\n",
    "7 .Hyperparameterization of the model.\n",
    "<br>\n",
    "8 . Inferencing the model."
   ]
  },
  {
   "attachments": {},
   "cell_type": "markdown",
   "metadata": {},
   "source": [
    "2. What are the different forms of data used in machine learning? Give a specific example for each of\n",
    "them.\n",
    "Ans - > Generally data can be divided into five categories and categories are numerical data ,categorical data ,text data ,image data and time-series data.\n",
    "<br>\n",
    "1 .Numerical data - >Numerical data is represent the continous data and discreate data where we can perform the mathemaical operation .It is also called quantitative data .Example wise we can take height of person(5.5 f) , marks of student (99) and bank balance (9.5 cr) and rating (1 to 5).\n",
    "<br>\n",
    "2 . Categorical data - > It is represent the charcterstics .it does not have any kind of mathematical meaning and we can not take a average of the data ,it is only have some representaion in form of string and char that data is called categorical data .It is also called qualitative data.\n",
    "<br>\n",
    "3 . Text Data - >Text data is represent word of any document .For understanding the machine we need the convert the some vector format and numerical format.\n",
    "<br>\n",
    "4 .Image data - > Image data is data where object is present into the numerical array format which is mostly used in computer vision to trained the model.\n",
    "<br>\n",
    "5  . time-series data - >Time series data is a sequence of numbers collected at regular intervals over some period of time. It is very important, especially in particular fields like finance. Time series data has a temporal value attached to it, so this would be something like a date or a timestamp that you can look for trends in time. "
   ]
  },
  {
   "attachments": {},
   "cell_type": "markdown",
   "metadata": {},
   "source": [
    "3. Distinguish:\n",
    "\n",
    "1. Numeric vs. categorical attributes\n",
    "\n",
    "2. Feature selection vs. dimensionality reduction\n",
    "<br>\n",
    "ANs - > 1 a . Numerical data is a quantitive variable and it has some magnitude or value in the form of number and categorical data is a qualitative variable.\n",
    "<br>\n",
    "\n",
    "1 . b Numerical data have mean ,mode,median ,interval ,ratio whereas categorical data have oridinal , mode and nomial meaning.\n",
    "<br>\n",
    "2. Feature selection vs. dimensionality reduction\n",
    "2 > Feature selection - . it is a kind of way we reduce the number of feature in the dataset which is contributing in the prediction\n",
    "<br>\n",
    "dimensionality reduction- > Dimensionality reduction is typically choosing a new representation within which you can describe most but not all of the variance within your data, thereby retaining the relevant information, while reducing theamount of information necessary to represent it."
   ]
  },
  {
   "attachments": {},
   "cell_type": "markdown",
   "metadata": {},
   "source": [
    "4. Make quick notes on any two of the following:\n",
    "\n",
    "1. The histogram\n",
    "\n",
    "2. Use a scatter plot\n",
    "<br>\n",
    "3.PCA (Principal Component Analysis):\n",
    "<br>\n",
    "Ans - > \n",
    "The histogram: A Histogram is a graphical representation that organizes a group of data points into user-specified ranges. Similar in appearance to a bar graph, the histogram condenses a data series into an easily interpreted visual by taking many data points and grouping them into logical ranges or bins.\n",
    "\n",
    "Use a scatter plot: A scatter plot (aka scatter chart, scatter graph) uses dots to represent values for two different numeric variables. The position of each dot on the horizontal and vertical axis indicates values for an individual data point. Scatter plots are used to observe relationships between variables.\n",
    "\n",
    "PCA (Principal Component Analysis): Principal Component Analysis or PCA is a widely used technique for dimensionality reduction of the large data set. Reducing the number of components or features costs some accuracy and on the other hand, it makes the large data set simpler, easy to explore and visualize."
   ]
  },
  {
   "attachments": {},
   "cell_type": "markdown",
   "metadata": {},
   "source": [
    "5. Why is it necessary to investigate data? Is there a discrepancy in how qualitative and quantitative\n",
    "data are explored?\n",
    "<br>\n",
    "Ans - > \n",
    " If your data set is messy, building models will not help you to solve your problem. What will happen is Garbage In, Garbage Out. In order to build a powerful machine learning algorithm. We need to explore and understand our data set before we define a predictive task and solve it."
   ]
  },
  {
   "cell_type": "code",
   "execution_count": null,
   "metadata": {},
   "outputs": [],
   "source": []
  },
  {
   "attachments": {},
   "cell_type": "markdown",
   "metadata": {},
   "source": [
    "6. What are the various histogram shapes? What exactly are ‘bins&#39;?\n",
    "<br>\n",
    "Ans - >\n",
    "The different types of a Histogram are:\n",
    "\n",
    "Uniform Histogram\n",
    "<br>\n",
    "Symmetric Histogram\n",
    "<br>\n",
    "Bimodal Histogram\n",
    "<br>\n",
    "Probability Histogram.\n",
    "<br>\n",
    "The bin in a histogram is the choice of unit and spacing on the X-axis. All the data in a probability distribution represented visually by a histogram is filled into the corresponding bins. The height of each bin is a measurement of the frequency with which data appears inside the range of that bin in the distribution."
   ]
  },
  {
   "attachments": {},
   "cell_type": "markdown",
   "metadata": {},
   "source": [
    "7. How do we deal with data outliers?\n",
    "<br>\n",
    "Ans _ >\n",
    " We can use Z-Score or any of below methods to deal with data outliers:\n",
    "\n",
    "Univariate Method: This method looks for data points with extreme values on one variable.\n",
    "\n",
    "Multivariate Method: Here, we look for unusual combinations of all the variables.\n",
    "\n",
    "Minkowski Error: This method reduces the contribution of potential outliers in the training process.\n",
    "\n",
    "Z-Score: This can be done with just one line code as we have already calculated the Z-score.\n",
    "boston_df_o = boston_df_o[(z < 3).all(axis=1)]\n",
    "\n",
    "IQR Score: Calculate IQR score to filter out the outliers by keeping only valid values.\n",
    "boston_df_out = boston_df_o1[~((boston_df_o1 < (Q1 - 1.5 * IQR)) |(boston_df_o1 > (Q3 + 1.5 *IQR))).any(axis=1)]\n",
    "boston_df_out.shape\n",
    "\n",
    "Quantile function: Use quantile() to remove amount of data."
   ]
  },
  {
   "attachments": {},
   "cell_type": "markdown",
   "metadata": {},
   "source": [
    "8. What are the various central inclination measures? Why does mean vary too much from median in\n",
    "certain data sets?\n",
    "<br>\n",
    "Ans _>Mean, Median and Mode are Central Inclination Measures. Mean varies more than Median due to presence of outliers, as mean is averaging all points while median in like finding a middle number."
   ]
  },
  {
   "attachments": {},
   "cell_type": "markdown",
   "metadata": {},
   "source": [
    "9. Describe how a scatter plot can be used to investigate bivariate relationships. Is it possible to find outliers using a scatter plot ?\n",
    "<br>\n",
    "Ans - >A Scatter Plot (aka scatter chart, scatter graph) uses dots to represent values for two different numeric variables. The position of each dot on the horizontal and vertical axis indicates values for an individual data point. So this visualization gives us the idea of bivariate relationship.\n",
    "\n",
    "Scatter plot can also help finding outliers as outliers can be visualized at farther distance than regular data."
   ]
  },
  {
   "attachments": {},
   "cell_type": "markdown",
   "metadata": {},
   "source": [
    "10. Describe how cross-tabs can be used to figure out how two variables are related ?\n",
    "<br>\n",
    "ans - >Cross tabulation is a method to quantitatively analyze the relationship between multiple variables. Also known as contingency tables or cross tabs, cross tabulation groups variables to understand the correlation between different variables. It also shows how correlations change from one variable grouping to another."
   ]
  },
  {
   "cell_type": "markdown",
   "metadata": {},
   "source": []
  }
 ],
 "metadata": {
  "kernelspec": {
   "display_name": "base",
   "language": "python",
   "name": "python3"
  },
  "language_info": {
   "codemirror_mode": {
    "name": "ipython",
    "version": 3
   },
   "file_extension": ".py",
   "mimetype": "text/x-python",
   "name": "python",
   "nbconvert_exporter": "python",
   "pygments_lexer": "ipython3",
   "version": "3.8.5 (default, Sep  3 2020, 21:29:08) [MSC v.1916 64 bit (AMD64)]"
  },
  "orig_nbformat": 4,
  "vscode": {
   "interpreter": {
    "hash": "49dc65a12af44c144fa20877bc914b34e80c2deae3989fd7a634dfb096a0b906"
   }
  }
 },
 "nbformat": 4,
 "nbformat_minor": 2
}
