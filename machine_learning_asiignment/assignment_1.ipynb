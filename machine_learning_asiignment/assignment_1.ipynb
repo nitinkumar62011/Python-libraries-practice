{
 "cells": [
  {
   "cell_type": "code",
   "execution_count": null,
   "metadata": {},
   "outputs": [],
   "source": []
  },
  {
   "attachments": {},
   "cell_type": "markdown",
   "metadata": {},
   "source": [
    "1. What does one mean by the term &quot;machine learning&quot;?"
   ]
  },
  {
   "attachments": {},
   "cell_type": "markdown",
   "metadata": {},
   "source": [
    "Ans - > machine learning is the part of AI.here we fed the use data to machine after that machine(using cpu, gpu,RAM) find the some kind of pattern on fed data using the some kind of mathematical algorithm after find the pattern it will store the pattern in the some file(.txt,.pickle,.sav,.h5) , next time it will automatically predict the without being explicitely programmed."
   ]
  },
  {
   "attachments": {},
   "cell_type": "markdown",
   "metadata": {},
   "source": [
    "2.Can you think of 4 distinct types of issues where it shines?"
   ]
  },
  {
   "attachments": {},
   "cell_type": "markdown",
   "metadata": {},
   "source": [
    "Ans - >\n",
    "<p></p>\n",
    "  <h2>1. recomandation system</h2> - It is the most famous application in business field and entertainment industry  today so many companies are targeting the most valuable customers by giving the directed product based on the user choice . Example Youtube , netflix,Amazon \n",
    "  <p></p>\n",
    "  <h2>2 . Autonomus vehicle </h2>- this industry is also getting the more attention beacause of the deep learning . we are automating the vehicle to some extent and protecting the life people . lets suppose we can take example most of dangerous conditions we are not able to take a action so in this case car automatically will take some appropriate actions like stooping the car before hitting the any object . recently we have seen the accident of the famous indian crickter Rishabh pant car collision. if his car would had some kind of automatically triggered breaking system in the car , it would have been automatically triggered and Rishabh pant did not get any kind of accidental damage.\n",
    "  <p></p>\n",
    "  <h2> 3 Image Recognition </h2> - Image recognition is the famous application in ML filed.It is used to identify the object, place,person on given data. application is face recognition , and automatic attendence system.\n",
    "  <h2>4 . healthcare </h2> -in the healthcare we are also discovering the drugs and treatments of the disease . Example cancer treatment\n",
    "  <p></p>\n",
    "  so likewise we have many different types of filed\n",
    "  Autonoums drone , Aggricultural , text and speech recognition\n"
   ]
  },
  {
   "cell_type": "markdown",
   "metadata": {},
   "source": []
  },
  {
   "attachments": {},
   "cell_type": "markdown",
   "metadata": {},
   "source": [
    "3.What is a labeled training set, and how does it work?"
   ]
  },
  {
   "attachments": {},
   "cell_type": "markdown",
   "metadata": {},
   "source": [
    "Ans - > we have split the data in two part traing and testing, traing data is given to the algorithm for finding the pattern.so in the traing data set we have to thing feature and label . so while the training we pass the feature and label and label helps to find the loss or error so next time we can do the some minimizing operation . so here label is nothing it is predicted or actual value of the alogorithm."
   ]
  },
  {
   "cell_type": "code",
   "execution_count": null,
   "metadata": {},
   "outputs": [],
   "source": []
  },
  {
   "attachments": {},
   "cell_type": "markdown",
   "metadata": {},
   "source": [
    "4.What are the two most important tasks that are supervised?\n",
    "<br>\n",
    "ANs - >\n",
    "<p> classification and regression</p> "
   ]
  },
  {
   "attachments": {},
   "cell_type": "markdown",
   "metadata": {},
   "source": [
    "5.Can you think of four examples of unsupervised tasks?\n",
    "<br>\n",
    "Ans - > clustering , dimensionality reduction , visualization and association rule learning"
   ]
  },
  {
   "attachments": {},
   "cell_type": "markdown",
   "metadata": {},
   "source": [
    "6.State the machine learning model that would be best to make a robot walk through various\n",
    "unfamiliar terrains?\n",
    "<br>\n",
    "Ans - > Reinforcement Learning will allow to robot walk through various terrains unfamiliar terrains because in the RL robot will learn from the environment data and will be able to walk ."
   ]
  },
  {
   "attachments": {},
   "cell_type": "markdown",
   "metadata": {},
   "source": [
    "7.Which algorithm will you use to divide your customers into different groups?\n",
    "<br> \n",
    "ans - > unsupervised algorithm will divide our customers into different groups. Here i will use two algorithms KMean+ and DBSCAN algorithm to divide the customers into different groups."
   ]
  },
  {
   "attachments": {},
   "cell_type": "markdown",
   "metadata": {},
   "source": [
    "8.Will you consider the problem of spam detection to be a supervised or unsupervised learning\n",
    "problem?<br>\n",
    "Ans - > spam detection is supervised learning problem because here we have already label."
   ]
  },
  {
   "cell_type": "markdown",
   "metadata": {},
   "source": []
  },
  {
   "attachments": {},
   "cell_type": "markdown",
   "metadata": {},
   "source": [
    "9.What is the concept of an online learning system?<br>\n",
    "Ans - >\n",
    "In online learning system will learn continuously ,and data will be given in stram batch continous."
   ]
  },
  {
   "attachments": {},
   "cell_type": "markdown",
   "metadata": {},
   "source": [
    "10.What is out-of-core learning, and how does it differ from core learning?\n",
    "<br>\n",
    "ans - > Out-of-core learning system is a system that can handle data that cannot fit into your computer memory. It uses online learning system to feed data in small bits."
   ]
  },
  {
   "attachments": {},
   "cell_type": "markdown",
   "metadata": {},
   "source": [
    "11.What kind of learning algorithm makes predictions using a similarity measure?\n",
    "<br>\n",
    "Ans - > Instance based learning."
   ]
  },
  {
   "attachments": {},
   "cell_type": "markdown",
   "metadata": {},
   "source": [
    "12.What&#39;s the difference between a model parameter and a hyperparameter in a learning\n",
    "algorithm?"
   ]
  },
  {
   "attachments": {},
   "cell_type": "markdown",
   "metadata": {},
   "source": [
    "ANs - >\n",
    " Model parameter determines how a model will predict given a new instance. Model usually has more than one parameter (i.e. slope of a linear model). Hyperparameter is a parameter for the learning algorithm, not of a model."
   ]
  },
  {
   "attachments": {},
   "cell_type": "markdown",
   "metadata": {},
   "source": [
    "13.What are the criteria that model-based learning algorithms look for? What is the most popular\n",
    "method they use to achieve success? What method do they use to make predictions?"
   ]
  },
  {
   "attachments": {},
   "cell_type": "markdown",
   "metadata": {},
   "source": [
    "ANs - >  Model based learning algorithm search for the optimal value of parameters in a model that will give the best results for the new instances. We often use a cost function or similar to determine what the parameter value has to be in order to minimize the function. The model makes prediction by using the value of the new instance and the parameters in its function."
   ]
  },
  {
   "attachments": {},
   "cell_type": "markdown",
   "metadata": {},
   "source": [
    "14.Can you name four of the most important Machine Learning challenges?"
   ]
  },
  {
   "attachments": {},
   "cell_type": "markdown",
   "metadata": {},
   "source": [
    "Ans -> \n",
    "1 . less data\n",
    "<br>\n",
    "2. we need more computation power \n",
    "<br>\n",
    "3 . overfitting the model\n",
    "<br>\n",
    "4 . underfitting the model\n",
    "<br>\n",
    "5 . Not good data\n",
    "<br>\n"
   ]
  },
  {
   "attachments": {},
   "cell_type": "markdown",
   "metadata": {},
   "source": [
    "15.What happens if the model performs well on the training data but fails to generalize the results\n",
    "to new situations? Can you think of three different options?"
   ]
  },
  {
   "attachments": {},
   "cell_type": "markdown",
   "metadata": {},
   "source": [
    "Ans - >\n",
    "Model will be the overfit\n",
    "<br>\n",
    "1 . we will get more data.\n",
    "<br>\n",
    "2 .  we have to deal with outlier ,null and  noise\n",
    "<br>\n",
    "3 . we have to choose best model and do hyperparameter tuning"
   ]
  },
  {
   "attachments": {},
   "cell_type": "markdown",
   "metadata": {},
   "source": [
    "16.What exactly is a test set, and why would you need one?\n"
   ]
  },
  {
   "attachments": {},
   "cell_type": "markdown",
   "metadata": {},
   "source": [
    "Ans - > Test data is the unseen data for the while the traing the model and using the test data we can check the accuracy of the model.\n",
    "using the test data we can determine the how much good the model and bad the model.\n"
   ]
  },
  {
   "attachments": {},
   "cell_type": "markdown",
   "metadata": {},
   "source": [
    "17.What is a validation set&#39;s purpose?"
   ]
  },
  {
   "attachments": {},
   "cell_type": "markdown",
   "metadata": {},
   "source": [
    "Ans - > validation set data tell the model accuracy while the training of the model on training data set"
   ]
  },
  {
   "attachments": {},
   "cell_type": "markdown",
   "metadata": {},
   "source": [
    "18.What precisely is the train-dev kit, when will you need it, how do you put it to use?"
   ]
  },
  {
   "attachments": {},
   "cell_type": "markdown",
   "metadata": {},
   "source": [
    "ANs - > Cross-validation is a tool to compare models without needing a separate validation set. It is preferred over validation set because we can save from breaking of part of the training set to create a validation set, as having more data is valuable regardless."
   ]
  },
  {
   "attachments": {},
   "cell_type": "markdown",
   "metadata": {},
   "source": [
    "19.What could go wrong if you use the test set to tune hyperparameters?"
   ]
  },
  {
   "attachments": {},
   "cell_type": "markdown",
   "metadata": {},
   "source": [
    "Ans - > If you tune hyperparameters using the test sets, then it may not perform well on the out-of-sample data because the model is tuned just for that specific set or seen dataset."
   ]
  },
  {
   "cell_type": "markdown",
   "metadata": {},
   "source": []
  }
 ],
 "metadata": {
  "kernelspec": {
   "display_name": "dogcat",
   "language": "python",
   "name": "python3"
  },
  "language_info": {
   "codemirror_mode": {
    "name": "ipython",
    "version": 3
   },
   "file_extension": ".py",
   "mimetype": "text/x-python",
   "name": "python",
   "nbconvert_exporter": "python",
   "pygments_lexer": "ipython3",
   "version": "3.6.13"
  },
  "orig_nbformat": 4,
  "vscode": {
   "interpreter": {
    "hash": "2e8543ae9f21516f2c119dce958e3bd727b59b5836fec464d61cecf8c27b1534"
   }
  }
 },
 "nbformat": 4,
 "nbformat_minor": 2
}
