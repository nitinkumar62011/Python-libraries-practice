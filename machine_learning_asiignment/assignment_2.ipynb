{
 "cells": [
  {
   "cell_type": "markdown",
   "metadata": {},
   "source": [
    "1. What is the concept of human learning? Please give two examples."
   ]
  },
  {
   "attachments": {},
   "cell_type": "markdown",
   "metadata": {},
   "source": [
    "Ans -> human learning is that kind of learning which is need to higher order mental process(50-100 billonn neuron and 1000 trilian connection) ,thinking ,resoning and intelligence etc .we are learning so many things from the child days.\n",
    "<br>\n",
    "1 . Learning through observation--modeling or observatinonal learning\n",
    "<br>\n",
    "2 .learning through association -- classsical conditional learning .\n",
    "<br>\n",
    "3 learning through consequeces -operant conditional"
   ]
  },
  {
   "attachments": {},
   "cell_type": "markdown",
   "metadata": {},
   "source": [
    "2. What different forms of human learning are there? Are there any machine learning equivalents?\n",
    "<br>\n",
    "Ans =>Different forms of human learning are modeling or observational learning ,classical learning and operant conditional learning.\n",
    "operant conditional learning is the reinforcement learning where machine learn from the environment based on the reward parameter and penalty parameter.\n",
    "<br>\n",
    "deep learning is based on the human neural network .\n",
    "<br>\n",
    "and we have supervised and unsupervised learning ."
   ]
  },
  {
   "attachments": {},
   "cell_type": "markdown",
   "metadata": {},
   "source": [
    "3. What is machine learning, and how does it work? What are the key responsibilities of machine\n",
    "learning?\n",
    "<br>\n",
    "Ans - > machine learning is the part of AI.here we fed the use data to machine after that machine(using cpu, gpu,RAM) find the some kind of pattern on fed data using the some kind of mathematical algorithm after find the pattern it will store the pattern in the some file(.txt,.pickle,.sav,.h5) , next time it will automatically predict the without being explicitely programmed.\n",
    "<br>\n",
    "it works on identifying the pattern on the data and involves human minimal intervention.\n",
    "<br>\n",
    "Key responsbility of machine learning is highly predictable based on the used data set and retrain to itself when model is degrading\n"
   ]
  },
  {
   "attachments": {},
   "cell_type": "markdown",
   "metadata": {},
   "source": [
    "4. Define the terms &quot;penalty&quot; and &quot;reward&quot; in the context of reinforcement learning.\n",
    "<br>\n",
    "Ans - > Penalty is imposed in training phase for the model when it predict the wrong , in other words it sets the algorithm one step back. A reward is gained for every correct prediction or classification, which means the algorithm goes one step ahead towards making itself more effective. Hundreds of such iterations are performed over and over for the model to become ready."
   ]
  },
  {
   "cell_type": "markdown",
   "metadata": {},
   "source": []
  }
 ],
 "metadata": {
  "kernelspec": {
   "display_name": "dogcat",
   "language": "python",
   "name": "python3"
  },
  "language_info": {
   "codemirror_mode": {
    "name": "ipython",
    "version": 3
   },
   "file_extension": ".py",
   "mimetype": "text/x-python",
   "name": "python",
   "nbconvert_exporter": "python",
   "pygments_lexer": "ipython3",
   "version": "3.6.13"
  },
  "orig_nbformat": 4,
  "vscode": {
   "interpreter": {
    "hash": "2e8543ae9f21516f2c119dce958e3bd727b59b5836fec464d61cecf8c27b1534"
   }
  }
 },
 "nbformat": 4,
 "nbformat_minor": 2
}
