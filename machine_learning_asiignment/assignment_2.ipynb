{
 "cells": [
  {
   "cell_type": "markdown",
   "metadata": {},
   "source": [
    "1. What is the concept of human learning? Please give two examples."
   ]
  },
  {
   "attachments": {},
   "cell_type": "markdown",
   "metadata": {},
   "source": [
    "Ans -> human learning is that kind of learning which is need to higher order mental process(50-100 billonn neuron and 1000 trilian connection) ,thinking ,resoning and intelligence etc .we are learning so many things from the child days.\n",
    "<br>\n",
    "1 . Learning through observation--modeling or observatinonal learning\n",
    "<br>\n",
    "2 .learning through association -- classsical conditional learning .\n",
    "<br>\n",
    "3 learning through consequeces -operant conditional"
   ]
  },
  {
   "attachments": {},
   "cell_type": "markdown",
   "metadata": {},
   "source": [
    "2. What different forms of human learning are there? Are there any machine learning equivalents?\n",
    "<br>\n",
    "Ans =>Different forms of human learning are modeling or observational learning ,classical learning and operant conditional learning.\n",
    "operant conditional learning is the reinforcement learning where machine learn from the environment based on the reward parameter and penalty parameter.\n",
    "<br>\n",
    "deep learning is based on the human neural network .\n",
    "<br>\n",
    "and we have supervised and unsupervised learning ."
   ]
  },
  {
   "attachments": {},
   "cell_type": "markdown",
   "metadata": {},
   "source": [
    "3. What is machine learning, and how does it work? What are the key responsibilities of machine\n",
    "learning?\n",
    "<br>\n",
    "Ans - > machine learning is the part of AI.here we fed the use data to machine after that machine(using cpu, gpu,RAM) find the some kind of pattern on fed data using the some kind of mathematical algorithm after find the pattern it will store the pattern in the some file(.txt,.pickle,.sav,.h5) , next time it will automatically predict the without being explicitely programmed.\n",
    "<br>\n",
    "it works on identifying the pattern on the data and involves human minimal intervention.\n",
    "<br>\n",
    "Key responsbility of machine learning is highly predictable based on the used data set and retrain to itself when model is degrading\n"
   ]
  },
  {
   "attachments": {},
   "cell_type": "markdown",
   "metadata": {},
   "source": [
    "4. Define the terms &quot;penalty&quot; and &quot;reward&quot; in the context of reinforcement learning.\n",
    "<br>\n",
    "Ans - > Penalty is imposed in training phase for the model when it predict the wrong , in other words it sets the algorithm one step back. A reward is gained for every correct prediction or classification, which means the algorithm goes one step ahead towards making itself more effective. Hundreds of such iterations are performed over and over for the model to become ready."
   ]
  },
  {
   "attachments": {},
   "cell_type": "markdown",
   "metadata": {},
   "source": [
    "5. Explain the term &quot;learning as a search&quot;?\n",
    "<br>\n",
    "Ans - >  Learning can be viewed as a search through the space of all sentences in a concept description language for a sentence that best describes the data. Alternatively, it can be viewed as a search through all hypotheses in a hypothesis space."
   ]
  },
  {
   "attachments": {},
   "cell_type": "markdown",
   "metadata": {},
   "source": [
    "6. What are the various goals of machine learning? What is the relationship between these and\n",
    "human learning?\n",
    "<br>\n",
    "Ans - >The goal of machine learning are to provide the better accuracy of prediction ,it is achieve the understanding process about the nature ,about the computatonal view of learning behavior and to implement the learning capability in computer.\n",
    "Humans have the ability to learn, however with the progress in artificial intelligence, machine learning has become a resource which can augment or even replace human learning. Learning does not happen all at once, but it builds upon and is shaped by previous knowledge."
   ]
  },
  {
   "attachments": {},
   "cell_type": "markdown",
   "metadata": {},
   "source": [
    "7. Illustrate the various elements of machine learning using a real-life illustration.\n",
    "<br>\n",
    "Ans - >The various element of machine learning are \n",
    "<br>\n",
    "1 . Understanding the problem.\n",
    "<br>\n",
    "2 . Gathering the data from sources.\n",
    "<br>\n",
    "3 .pre-processing the data.\n",
    "<br>\n",
    "4 . Creating the model.\n",
    "<br>\n",
    "5 . choosing the right algorithm with clustring approach.\n",
    "<br>\n",
    "6 . Cost and loss function\n",
    "<br>\n",
    "7 . Evaluation\n"
   ]
  },
  {
   "attachments": {},
   "cell_type": "markdown",
   "metadata": {},
   "source": [
    "8. Provide an example of the abstraction method.\n",
    "<br>\n",
    "Ans - > In Machine Learning, Abstraction is supported primarily at the level of modules. This can be justified in two ways: first, Data abstraction is mostly a question of program interfaces and therefore it arises naturally at the point where we have to consider program composition and modules."
   ]
  },
  {
   "attachments": {},
   "cell_type": "markdown",
   "metadata": {},
   "source": [
    "9. What is the concept of generalization? What function does it play in the machine learning\n",
    "process?\n",
    "<br>\n",
    "Ans - > Meaning of generalization is create the robust model and generic model from the training data . In the simple word generalization is if unseen data is given to the model then the model is how well worked out or correct prediction with the unseen data.\n",
    "<br>\n",
    "In machine learning have function L1(lasso) ,L2(ridge) and Elasticnet."
   ]
  },
  {
   "attachments": {},
   "cell_type": "markdown",
   "metadata": {},
   "source": [
    "10 .What is classification, exactly? What are the main distinctions between classification and regression?\n",
    "<br>\n",
    "Ans - > Classificatiom means our predictive model will predict the input data as a discreate class label or whole number which can be classified between the two or more object .Main distinction between classificatiom and regression is classificatiom model will predict the discreate class label and regression model will predict the continuous value."
   ]
  },
  {
   "attachments": {},
   "cell_type": "markdown",
   "metadata": {},
   "source": [
    "11. What is regression, and how does it work? Give an example of a real-world problem that was\n",
    "solved using regression.\n",
    "<br>\n",
    "Ans - >Regression is a Supervised Machine Learning technique which is used to predict continuous values. The ultimate goal of a regression algorithm is to plot a best-fit line or a curve between the data and in the decision tree it take the average of the data in the same branch of tree.\n",
    "\n",
    "The three main metrics that are used for evaluating the trained regression model are Variance, Bias and Error.\n",
    "\n",
    "A simple linear regression real life example could mean you finding the marks of student based on the study_hours,IQ of student , attendece of class , and performance in the class ,class_test_score . "
   ]
  },
  {
   "attachments": {},
   "cell_type": "markdown",
   "metadata": {},
   "source": [
    "12. Describe the clustering mechanism in detail.\n",
    "<br>\n",
    "Ans - > Cluster is the task where we have to define the data point or population of data into the n number of group such that all data point in the group is allmost same shape ans size .mechanism is initially we have defined the K point and it will calculate the distance from the centeroid of the Cluster and seggregate into the respective cluster. "
   ]
  },
  {
   "attachments": {},
   "cell_type": "markdown",
   "metadata": {},
   "source": [
    "13. Make brief observations on two of the following topics:\n",
    "Ans - > <br>\n",
    "\n",
    "i. Machine learning algorithms are used\n",
    "ii. Studying under supervision --> Here we already know the output of the input value when we are creating the machine learning model.\n",
    "iii. Studying without supervision -- > Here we have to make a cluster for finding the pattern of the dataset.\n",
    "\n",
    "\n",
    "iv. Reinforcement learning is a form of learning based on positive reinforcement."
   ]
  },
  {
   "cell_type": "markdown",
   "metadata": {},
   "source": []
  }
 ],
 "metadata": {
  "kernelspec": {
   "display_name": "dogcat",
   "language": "python",
   "name": "python3"
  },
  "language_info": {
   "codemirror_mode": {
    "name": "ipython",
    "version": 3
   },
   "file_extension": ".py",
   "mimetype": "text/x-python",
   "name": "python",
   "nbconvert_exporter": "python",
   "pygments_lexer": "ipython3",
   "version": "3.6.13 |Anaconda, Inc.| (default, Mar 16 2021, 11:37:27) [MSC v.1916 64 bit (AMD64)]"
  },
  "orig_nbformat": 4,
  "vscode": {
   "interpreter": {
    "hash": "2e8543ae9f21516f2c119dce958e3bd727b59b5836fec464d61cecf8c27b1534"
   }
  }
 },
 "nbformat": 4,
 "nbformat_minor": 2
}
