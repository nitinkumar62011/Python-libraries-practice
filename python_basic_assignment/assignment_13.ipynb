{
 "cells": [
  {
   "cell_type": "code",
   "execution_count": null,
   "metadata": {},
   "outputs": [],
   "source": []
  },
  {
   "attachments": {},
   "cell_type": "markdown",
   "metadata": {},
   "source": [
    "1. What advantages do Excel spreadsheets have over CSV spreadsheets?"
   ]
  },
  {
   "attachments": {},
   "cell_type": "markdown",
   "metadata": {},
   "source": [
    "Ans . - >\n",
    " -  >  Excel advantages over CSV\n",
    " -  >  It is a binary file that holds information about all the worksheets in a workbook\n",
    " -  >  it can  not only stores data but can also do operations on the data\n",
    " -  >  Files saved in excel cannot be opened or edited by text editors\n",
    " -  >  large files user is much easier in Excel for the end user. Also, \n",
    "    you can have additional functions like selecting individual cells for import, \n",
    "    convert dates and time automatically, reading formulas and their results, filters, sorting, etc\n",
    " -  >  Apart from text, data can also be stored in form of charts and graphs\n",
    " -  >  it  can connect to external data sources to fetch data. You can use custom add-in in Excel to increase its functionality. \n",
    " -  >  Excel allows for Review of Data with detailed tracking and commenting feature\n",
    " -  >  In Excel, spreadsheets can have values of data types other than strings; cells can have different fonts, sizes, \n",
    "   or color settings; cells can have varying widths and heights; adjacent cells can be  merged\n"
   ]
  },
  {
   "attachments": {},
   "cell_type": "markdown",
   "metadata": {},
   "source": [
    "2.What do you pass to csv.reader() and csv.writer() to create reader and writer objects?"
   ]
  },
  {
   "cell_type": "code",
   "execution_count": 1,
   "metadata": {},
   "outputs": [
    {
     "data": {
      "text/plain": [
       "[['title', 'author', 'year'],\n",
       " ['The Weirdstone of Brisingamen', 'Alan Garner', '1960'],\n",
       " ['Perdido Street Station', 'China Miéville', '2000'],\n",
       " ['Thud!', 'Terry Pratchett', '2005'],\n",
       " ['The Spellman Files', 'Lisa Lutz', '2007'],\n",
       " ['Small Gods', 'Terry Pratchett', '1992']]"
      ]
     },
     "execution_count": 1,
     "metadata": {},
     "output_type": "execute_result"
    }
   ],
   "source": [
    "import csv\n",
    "exFile = open('book.csv')\n",
    "exreader = csv.reader(exFile)\n",
    "exData = list(exreader)\n",
    "exData"
   ]
  },
  {
   "cell_type": "markdown",
   "metadata": {},
   "source": [
    "3. What modes do File objects for reader and writer objects need to be opened in?"
   ]
  },
  {
   "attachments": {},
   "cell_type": "markdown",
   "metadata": {},
   "source": [
    " ans - > read-binary ('rb) and write-binary  ('wb)"
   ]
  },
  {
   "attachments": {},
   "cell_type": "markdown",
   "metadata": {},
   "source": [
    "4. What method takes a list argument and writes it to a CSV file?"
   ]
  },
  {
   "attachments": {},
   "cell_type": "markdown",
   "metadata": {},
   "source": [
    "Ans - > writerow() method"
   ]
  },
  {
   "attachments": {},
   "cell_type": "markdown",
   "metadata": {},
   "source": [
    "5. What do the keyword arguments delimiter and line terminator do?"
   ]
  },
  {
   "attachments": {},
   "cell_type": "markdown",
   "metadata": {},
   "source": [
    "- >  delimiter argument changes the string used to separate cells in a row. \n",
    "- > lineterminator argument changes the string used to separate rows."
   ]
  },
  {
   "attachments": {},
   "cell_type": "markdown",
   "metadata": {},
   "source": [
    "6. What function takes a string of JSON data and returns a Python data structure?"
   ]
  },
  {
   "cell_type": "code",
   "execution_count": null,
   "metadata": {},
   "outputs": [],
   "source": [
    "# json.loads()"
   ]
  },
  {
   "attachments": {},
   "cell_type": "markdown",
   "metadata": {},
   "source": [
    "7. What function takes a Python data structure and returns a string of JSON data?"
   ]
  },
  {
   "cell_type": "code",
   "execution_count": null,
   "metadata": {},
   "outputs": [],
   "source": [
    "# json.dumps()"
   ]
  }
 ],
 "metadata": {
  "kernelspec": {
   "display_name": "mlflow_P",
   "language": "python",
   "name": "python3"
  },
  "language_info": {
   "codemirror_mode": {
    "name": "ipython",
    "version": 3
   },
   "file_extension": ".py",
   "mimetype": "text/x-python",
   "name": "python",
   "nbconvert_exporter": "python",
   "pygments_lexer": "ipython3",
   "version": "3.9.7"
  },
  "orig_nbformat": 4,
  "vscode": {
   "interpreter": {
    "hash": "84a8255b5310c3fc3d793eccb8d6973103a193bf5559a61140ca4bea19180625"
   }
  }
 },
 "nbformat": 4,
 "nbformat_minor": 2
}
