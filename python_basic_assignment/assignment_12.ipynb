{
 "cells": [
  {
   "attachments": {},
   "cell_type": "markdown",
   "metadata": {},
   "source": [
    "1. In what modes should the PdfFileReader() and PdfFileWriter() File objects will be opened?"
   ]
  },
  {
   "attachments": {},
   "cell_type": "markdown",
   "metadata": {},
   "source": [
    "Ans - > PdfFileReader() open in 'rb' mode and PdfFileWriter() open in 'wb\" mode."
   ]
  },
  {
   "attachments": {},
   "cell_type": "markdown",
   "metadata": {},
   "source": [
    "2. From a PdfFileReader object, how do you get a Page object for page 5?\n",
    "# we have getPage() function and it will return the page of pdf"
   ]
  },
  {
   "cell_type": "code",
   "execution_count": 11,
   "metadata": {},
   "outputs": [
    {
     "name": "stdout",
     "output_type": "stream",
     "text": [
      "Requirement already satisfied: PyPDF2 in c:\\users\\nitin\\anaconda3\\envs\\mlflow_p\\lib\\site-packages (2.12.1)\n",
      "Requirement already satisfied: typing_extensions>=3.10.0.0 in c:\\users\\nitin\\anaconda3\\envs\\mlflow_p\\lib\\site-packages (from PyPDF2) (4.0.0)\n"
     ]
    }
   ],
   "source": [
    "!pip install PyPDF2\n",
    "import PyPDF2 as pdf"
   ]
  },
  {
   "cell_type": "code",
   "execution_count": 12,
   "metadata": {},
   "outputs": [
    {
     "data": {
      "text/plain": [
       "'Sensors 2022 ,22, 3321 5 of 17\\nAB1a.ei,AintoMj,B1b.ej,BintoMi,A2. Reportej,BAdditional InputsAdditional Outputs3. Statusej,B\\nei,AStatusAej,BStatusBMi,AMj,BMachinetoMachine\\nFigure 2. Distributed architecture to report faulty drones using anonymous ephemeral identiﬁers.\\nIn contrast to the approach depicted in Figure 1, drones exchange lists of ephemeral identities\\nand locally update their status without the necessity of central intermediary services. The main\\ndifferences with respect to the centralized version are in Steps 2 and 3, which are conducted now in a\\nmachine-to-machine mode.\\nIn contrast to the approach illustrated in Figure 1, drones can now request and obtain\\nlists of ephemeral identities and locally check whether or not their neighbors are potentially\\nfaulty. Remote cloud and edge services can be used as a redundant resource to store,\\nforward, and broadcast lists of potentially defective drones identiﬁed by their ephemeral\\nidentities. In some mission-speciﬁc applications, a delegation of distributed processing\\nto edge nodes and cloud services leads to assumptions and issues, which are not always\\npossible to solve—for example, in situations where the deployment of dedicated infrastruc-\\nture and centralization is not possible. At the same time, the use of distributed computing\\nwith collaborative drones may lead to more complex scenarios when managing, e.g., fault\\ndiagnosis, which is a promising future research ﬁeld in collaborative drone scenarios with\\nwell-established foundations from cooperative multi-agent systems [ 22,23]. We consider\\nthat further work remains to address such additional scenarios.\\n3. Countering Drone Threats\\nDrones can be used in illicit activities. Several cases have been documented lately.\\nIn Saudi Arabia, terrorists used drones to attack oil pumping stations [ 24]. A Turkish\\ncompany has developed an autonomous suicide drone [ 25]. Drones ﬂying close to airports,\\nbusiness centers, and elsewhere in densely populated areas pose a direct danger to critical\\ninfrastructure and humans. There are numerous incidents involving rogue drones violating\\nairspace. Drones have also been used to smuggle drugs into the walls of jails [ 10]. These\\nincidents call for technology to protect infrastructures and populations from harmful\\nactivities perpetrated leveraging drones.\\n3.1. Problem Description\\nThe problem is threefold:\\n1. Spotting and Following. When do drones enter a given airspace? Are they friends or\\nadversaries? What tasks are drones specially ﬁtted for? Are they armed? Loaded?\\nWhat is their kind? How many rotors do they have? Are they small? Micro? Are they\\nequipped with infrared cameras? Are drones autonomous or under the command and\\ncontrol of a human pilot? What are the whereabouts of spotted drones?\\n2. Intention determination. What is the drones’ mission? Are they looking around infras-\\ntructures? Searching? Are they preparing for a strike? What is their target? Are they'"
      ]
     },
     "execution_count": 12,
     "metadata": {},
     "output_type": "execute_result"
    }
   ],
   "source": [
    "import PyPDF2 as pdf\n",
    "pdfObj = open(\"sensor.pdf\",'rb')\n",
    "pdfReader = pdf.PdfFileReader(pdfObj)\n",
    "pageObj = pdfReader.getPage(4)\n",
    "pageObj.extractText()"
   ]
  },
  {
   "attachments": {},
   "cell_type": "markdown",
   "metadata": {},
   "source": [
    "3. What PdfFileReader variable stores the number of pages in the PDF document?\n",
    "Ans it will store the integer number of page of its object"
   ]
  },
  {
   "cell_type": "code",
   "execution_count": 13,
   "metadata": {},
   "outputs": [
    {
     "data": {
      "text/plain": [
       "17"
      ]
     },
     "execution_count": 13,
     "metadata": {},
     "output_type": "execute_result"
    }
   ],
   "source": [
    "import PyPDF2 as pdf\n",
    "pdfFileObj = open(\"sensor.pdf\",'rb')\n",
    "pdfReader = pdf.PdfFileReader(pdfFileObj)\n",
    "pdfReader.numPages"
   ]
  },
  {
   "attachments": {},
   "cell_type": "markdown",
   "metadata": {},
   "source": [
    "4. If a PdfFileReader object’s PDF is encrypted with the password swordfish, what must you do\n",
    "before you can obtain Page objects from it?"
   ]
  },
  {
   "attachments": {},
   "cell_type": "markdown",
   "metadata": {},
   "source": [
    "# we have to decrypte the pdf file using the following CODE :\n",
    "# pdfReader.decrypt('swordfish')"
   ]
  },
  {
   "attachments": {},
   "cell_type": "markdown",
   "metadata": {},
   "source": [
    "5. What methods do you use to rotate a page?"
   ]
  },
  {
   "attachments": {},
   "cell_type": "markdown",
   "metadata": {},
   "source": [
    "Ans - >rotateClockwise() and rotateCounterClockwise() methods. here we need to pass degrees to rotate is passed as an integer argument\n",
    "# fileObject.rotateClockwise(180)\n"
   ]
  },
  {
   "attachments": {},
   "cell_type": "markdown",
   "metadata": {},
   "source": [
    "6. What is the difference between a Run object and a Paragraph object?\n",
    "# Ans - >  Paragraph object A document have multiple paragraph . A pragraph start from newline and capture the total lenth and contains multiple run object.\n",
    "# Run object - > it is the collection of multiple characters which is present in the paragraph\n",
    "\n"
   ]
  },
  {
   "attachments": {},
   "cell_type": "markdown",
   "metadata": {},
   "source": [
    "7. How do you obtain a list of Paragraph objects for a Document object that’s stored in a variable\n",
    "named doc?"
   ]
  },
  {
   "cell_type": "code",
   "execution_count": 14,
   "metadata": {},
   "outputs": [
    {
     "name": "stdout",
     "output_type": "stream",
     "text": [
      "Requirement already satisfied: python-docx in c:\\users\\nitin\\anaconda3\\envs\\mlflow_p\\lib\\site-packages (0.8.11)\n",
      "Requirement already satisfied: lxml>=2.3.2 in c:\\users\\nitin\\anaconda3\\envs\\mlflow_p\\lib\\site-packages (from python-docx) (4.9.2)\n"
     ]
    },
    {
     "data": {
      "text/plain": [
       "[<docx.text.paragraph.Paragraph at 0x1d3a08d5400>,\n",
       " <docx.text.paragraph.Paragraph at 0x1d3a08efee0>,\n",
       " <docx.text.paragraph.Paragraph at 0x1d3a08ef670>,\n",
       " <docx.text.paragraph.Paragraph at 0x1d3a08ef5e0>,\n",
       " <docx.text.paragraph.Paragraph at 0x1d3a08efd30>,\n",
       " <docx.text.paragraph.Paragraph at 0x1d3a08ef490>,\n",
       " <docx.text.paragraph.Paragraph at 0x1d3a08efeb0>,\n",
       " <docx.text.paragraph.Paragraph at 0x1d3a090a220>,\n",
       " <docx.text.paragraph.Paragraph at 0x1d3a090a0d0>,\n",
       " <docx.text.paragraph.Paragraph at 0x1d3a090a130>,\n",
       " <docx.text.paragraph.Paragraph at 0x1d3a090a190>,\n",
       " <docx.text.paragraph.Paragraph at 0x1d3a090a1f0>,\n",
       " <docx.text.paragraph.Paragraph at 0x1d3a090a2e0>,\n",
       " <docx.text.paragraph.Paragraph at 0x1d3a090a2b0>,\n",
       " <docx.text.paragraph.Paragraph at 0x1d3a090a310>,\n",
       " <docx.text.paragraph.Paragraph at 0x1d3a090a340>,\n",
       " <docx.text.paragraph.Paragraph at 0x1d3a090a400>,\n",
       " <docx.text.paragraph.Paragraph at 0x1d3a090a460>,\n",
       " <docx.text.paragraph.Paragraph at 0x1d3a090a4c0>,\n",
       " <docx.text.paragraph.Paragraph at 0x1d3a090a5b0>,\n",
       " <docx.text.paragraph.Paragraph at 0x1d3a090a580>,\n",
       " <docx.text.paragraph.Paragraph at 0x1d3a090a670>,\n",
       " <docx.text.paragraph.Paragraph at 0x1d3a090a610>,\n",
       " <docx.text.paragraph.Paragraph at 0x1d3a090a730>,\n",
       " <docx.text.paragraph.Paragraph at 0x1d3a090a6d0>,\n",
       " <docx.text.paragraph.Paragraph at 0x1d3a090a7f0>,\n",
       " <docx.text.paragraph.Paragraph at 0x1d3a090a790>,\n",
       " <docx.text.paragraph.Paragraph at 0x1d3a090a8b0>,\n",
       " <docx.text.paragraph.Paragraph at 0x1d3a090a850>,\n",
       " <docx.text.paragraph.Paragraph at 0x1d3a090a970>,\n",
       " <docx.text.paragraph.Paragraph at 0x1d3a090a910>,\n",
       " <docx.text.paragraph.Paragraph at 0x1d3a090a4f0>,\n",
       " <docx.text.paragraph.Paragraph at 0x1d3a090a9a0>,\n",
       " <docx.text.paragraph.Paragraph at 0x1d3a090abb0>,\n",
       " <docx.text.paragraph.Paragraph at 0x1d3a090aa90>,\n",
       " <docx.text.paragraph.Paragraph at 0x1d3a090ac40>,\n",
       " <docx.text.paragraph.Paragraph at 0x1d3a090aa60>,\n",
       " <docx.text.paragraph.Paragraph at 0x1d3a090ad00>,\n",
       " <docx.text.paragraph.Paragraph at 0x1d3a090abe0>,\n",
       " <docx.text.paragraph.Paragraph at 0x1d3a090adf0>,\n",
       " <docx.text.paragraph.Paragraph at 0x1d3a090ad60>,\n",
       " <docx.text.paragraph.Paragraph at 0x1d3a090ad30>,\n",
       " <docx.text.paragraph.Paragraph at 0x1d3a090ae50>,\n",
       " <docx.text.paragraph.Paragraph at 0x1d3a090ae20>,\n",
       " <docx.text.paragraph.Paragraph at 0x1d3a090ad90>,\n",
       " <docx.text.paragraph.Paragraph at 0x1d3a090ae80>,\n",
       " <docx.text.paragraph.Paragraph at 0x1d3a090af70>,\n",
       " <docx.text.paragraph.Paragraph at 0x1d3a090af40>,\n",
       " <docx.text.paragraph.Paragraph at 0x1d3a091c040>,\n",
       " <docx.text.paragraph.Paragraph at 0x1d3a091c0a0>,\n",
       " <docx.text.paragraph.Paragraph at 0x1d3a091c220>,\n",
       " <docx.text.paragraph.Paragraph at 0x1d3a091c100>,\n",
       " <docx.text.paragraph.Paragraph at 0x1d3a091c2e0>,\n",
       " <docx.text.paragraph.Paragraph at 0x1d3a091c1c0>,\n",
       " <docx.text.paragraph.Paragraph at 0x1d3a091c3a0>,\n",
       " <docx.text.paragraph.Paragraph at 0x1d3a091c280>,\n",
       " <docx.text.paragraph.Paragraph at 0x1d3a091c490>,\n",
       " <docx.text.paragraph.Paragraph at 0x1d3a091c340>,\n",
       " <docx.text.paragraph.Paragraph at 0x1d3a091c520>,\n",
       " <docx.text.paragraph.Paragraph at 0x1d3a091c400>,\n",
       " <docx.text.paragraph.Paragraph at 0x1d3a0776430>,\n",
       " <docx.text.paragraph.Paragraph at 0x1d3a0794100>,\n",
       " <docx.text.paragraph.Paragraph at 0x1d3a0275400>,\n",
       " <docx.text.paragraph.Paragraph at 0x1d3a090bb50>,\n",
       " <docx.text.paragraph.Paragraph at 0x1d3a090bbb0>,\n",
       " <docx.text.paragraph.Paragraph at 0x1d3a090bc10>,\n",
       " <docx.text.paragraph.Paragraph at 0x1d3a090bc70>,\n",
       " <docx.text.paragraph.Paragraph at 0x1d3a090bcd0>,\n",
       " <docx.text.paragraph.Paragraph at 0x1d3a090bd30>,\n",
       " <docx.text.paragraph.Paragraph at 0x1d3a090bd90>,\n",
       " <docx.text.paragraph.Paragraph at 0x1d3a090bdf0>,\n",
       " <docx.text.paragraph.Paragraph at 0x1d3a090be50>,\n",
       " <docx.text.paragraph.Paragraph at 0x1d3a090beb0>,\n",
       " <docx.text.paragraph.Paragraph at 0x1d3a090bf10>,\n",
       " <docx.text.paragraph.Paragraph at 0x1d3a090bf70>,\n",
       " <docx.text.paragraph.Paragraph at 0x1d3a090bfd0>,\n",
       " <docx.text.paragraph.Paragraph at 0x1d3a0941070>,\n",
       " <docx.text.paragraph.Paragraph at 0x1d3a09410d0>,\n",
       " <docx.text.paragraph.Paragraph at 0x1d3a0941130>,\n",
       " <docx.text.paragraph.Paragraph at 0x1d3a0941190>,\n",
       " <docx.text.paragraph.Paragraph at 0x1d3a09411f0>,\n",
       " <docx.text.paragraph.Paragraph at 0x1d3a0941250>,\n",
       " <docx.text.paragraph.Paragraph at 0x1d3a09412b0>,\n",
       " <docx.text.paragraph.Paragraph at 0x1d3a0941310>,\n",
       " <docx.text.paragraph.Paragraph at 0x1d3a0941370>,\n",
       " <docx.text.paragraph.Paragraph at 0x1d3a09413d0>,\n",
       " <docx.text.paragraph.Paragraph at 0x1d3a0941430>,\n",
       " <docx.text.paragraph.Paragraph at 0x1d3a0941490>,\n",
       " <docx.text.paragraph.Paragraph at 0x1d3a09414f0>,\n",
       " <docx.text.paragraph.Paragraph at 0x1d3a0941550>]"
      ]
     },
     "execution_count": 14,
     "metadata": {},
     "output_type": "execute_result"
    }
   ],
   "source": [
    "!pip install python-docx\n",
    "import docx\n",
    "doc = docx.Document('sample1.docx')\n",
    "doc.paragraphs"
   ]
  },
  {
   "attachments": {},
   "cell_type": "markdown",
   "metadata": {},
   "source": [
    "8. What type of object has bold, underline, italic, strike, and outline variables?\n",
    "# Ans Run object"
   ]
  },
  {
   "attachments": {},
   "cell_type": "markdown",
   "metadata": {},
   "source": [
    "9. What is the difference between False, True, and None for the bold variable?"
   ]
  },
  {
   "attachments": {},
   "cell_type": "markdown",
   "metadata": {},
   "source": [
    "\n",
    "True : the attribute is always enabled, no matter what other styles are applied to the run. \n",
    "False : the attribute is always disabled.\n",
    "None : defaults to whatever the run’s style is set to"
   ]
  },
  {
   "attachments": {},
   "cell_type": "markdown",
   "metadata": {},
   "source": [
    "10. How do you create a Document object for a new Word document?"
   ]
  },
  {
   "cell_type": "code",
   "execution_count": 15,
   "metadata": {},
   "outputs": [],
   "source": [
    "# docx.Document()"
   ]
  },
  {
   "attachments": {},
   "cell_type": "markdown",
   "metadata": {},
   "source": [
    "11. How do you add a paragraph with the text &#39;Hello, there!&#39; to a Document object stored in a\n",
    "variable named doc?"
   ]
  },
  {
   "cell_type": "code",
   "execution_count": 16,
   "metadata": {},
   "outputs": [],
   "source": [
    "import docx\n",
    "docObjetc = docx.Document()\n",
    "\n",
    "doc.add_paragraph('Hi everyone I am  nitin kumar')\n",
    "doc.save('nitin.docx')"
   ]
  },
  {
   "attachments": {},
   "cell_type": "markdown",
   "metadata": {},
   "source": [
    "12. What integers represent the levels of headings available in Word documents?"
   ]
  },
  {
   "attachments": {},
   "cell_type": "markdown",
   "metadata": {},
   "source": [
    "0 to 4 intger\n",
    " integer 0 for  makes the heading the Title style, which is used for the top of the document. Integers 1 to 4 are for various heading levels, with 1 being the main heading and 4 the lowest subheading"
   ]
  }
 ],
 "metadata": {
  "kernelspec": {
   "display_name": "mlflow_P",
   "language": "python",
   "name": "python3"
  },
  "language_info": {
   "codemirror_mode": {
    "name": "ipython",
    "version": 3
   },
   "file_extension": ".py",
   "mimetype": "text/x-python",
   "name": "python",
   "nbconvert_exporter": "python",
   "pygments_lexer": "ipython3",
   "version": "3.9.7"
  },
  "orig_nbformat": 4,
  "vscode": {
   "interpreter": {
    "hash": "84a8255b5310c3fc3d793eccb8d6973103a193bf5559a61140ca4bea19180625"
   }
  }
 },
 "nbformat": 4,
 "nbformat_minor": 2
}
