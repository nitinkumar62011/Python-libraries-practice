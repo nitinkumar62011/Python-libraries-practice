{
 "cells": [
  {
   "attachments": {},
   "cell_type": "markdown",
   "metadata": {},
   "source": [
    "1. Set the variable test1 to the string &#39;This is a test of the emergency text system,&#39; and save test1 to a\n",
    "file named test.txt."
   ]
  },
  {
   "cell_type": "code",
   "execution_count": 1,
   "metadata": {},
   "outputs": [],
   "source": [
    "test1='This is a test of the emergency text system'\n",
    "file=open('test.txt','w+')\n",
    "file.write(test1)\n",
    "file.close()"
   ]
  },
  {
   "attachments": {},
   "cell_type": "markdown",
   "metadata": {},
   "source": [
    "2. Read the contents of the file test.txt into the variable test2. Is there a difference between test 1\n",
    "and test 2?"
   ]
  },
  {
   "cell_type": "code",
   "execution_count": 4,
   "metadata": {},
   "outputs": [
    {
     "name": "stdout",
     "output_type": "stream",
     "text": [
      "This is a test of the emergency text system\n"
     ]
    },
    {
     "data": {
      "text/plain": [
       "True"
      ]
     },
     "execution_count": 4,
     "metadata": {},
     "output_type": "execute_result"
    }
   ],
   "source": [
    "file=open('test.txt')\n",
    "test2=file.read()\n",
    "print(test2)\n",
    "file.close()\n",
    "test1 == test2"
   ]
  },
  {
   "attachments": {},
   "cell_type": "markdown",
   "metadata": {},
   "source": [
    "3. Create a CSV file called books.csv by using these lines:\n",
    "title,author,year\n",
    "The Weirdstone of Brisingamen,Alan Garner,1960\n",
    "Perdido Street Station,China Miéville,2000\n",
    "Thud!,Terry Pratchett,2005\n",
    "The Spellman Files,Lisa Lutz,2007\n",
    "Small Gods,Terry Pratchett,1992"
   ]
  },
  {
   "cell_type": "code",
   "execution_count": 6,
   "metadata": {},
   "outputs": [],
   "source": [
    "data=\"\"\"title,author,year\n",
    "The Weirdstone of Brisingamen,Alan Garner,1960\n",
    "Perdido Street Station,China Miéville,2000\n",
    "Thud!,Terry Pratchett,2005\n",
    "The Spellman Files,Lisa Lutz,2007\n",
    "Small Gods,Terry Pratchett,1992\"\"\"\n",
    "with open('book.csv','w+') as file:\n",
    "    file.write(data)"
   ]
  },
  {
   "attachments": {},
   "cell_type": "markdown",
   "metadata": {},
   "source": [
    "4. Use the sqlite3 module to create a SQLite database called books.db, and a table called books with\n",
    "these fields: title (text), author (text), and year (integer)."
   ]
  },
  {
   "cell_type": "code",
   "execution_count": 9,
   "metadata": {},
   "outputs": [],
   "source": [
    "import sqlite3\n",
    "db=sqlite3.connect('books.db')\n",
    "cur=db.cursor()\n",
    "cur.execute(\"create table books(title text, author text,year int)\")\n",
    "db.commit()\n"
   ]
  },
  {
   "attachments": {},
   "cell_type": "markdown",
   "metadata": {},
   "source": [
    "5. Read books.csv and insert its data into the book table."
   ]
  },
  {
   "cell_type": "code",
   "execution_count": 25,
   "metadata": {},
   "outputs": [
    {
     "name": "stdout",
     "output_type": "stream",
     "text": [
      "{'title': 'The Weirdstone of Brisingamen', 'author': 'Alan Garner', 'year': '1960'}\n",
      "{'title': 'Perdido Street Station', 'author': 'China Miéville', 'year': '2000'}\n",
      "{'title': 'Thud!', 'author': 'Terry Pratchett', 'year': '2005'}\n",
      "{'title': 'The Spellman Files', 'author': 'Lisa Lutz', 'year': '2007'}\n",
      "{'title': 'Small Gods', 'author': 'Terry Pratchett', 'year': '1992'}\n"
     ]
    }
   ],
   "source": [
    "import csv\n",
    "with open(\"book.csv\",'rt') as file:\n",
    "    bookData=csv.DictReader(file)\n",
    "    \n",
    "    for book in bookData:\n",
    "        print(book)\n",
    "        cur.execute(\"insert into books values(?,?,?)\",(book['title'],book['author'],book['year']))\n",
    "db.commit()"
   ]
  },
  {
   "attachments": {},
   "cell_type": "markdown",
   "metadata": {},
   "source": [
    "6. Select and print the title column from the book table in alphabetical order."
   ]
  },
  {
   "cell_type": "code",
   "execution_count": 27,
   "metadata": {},
   "outputs": [
    {
     "name": "stdout",
     "output_type": "stream",
     "text": [
      "Perdido Street Station\n",
      "Small Gods\n",
      "The Spellman Files\n",
      "The Weirdstone of Brisingamen\n",
      "Thud!\n"
     ]
    }
   ],
   "source": [
    "query='select title from books order by title asc'\n",
    "for i in cur.execute(query):\n",
    "    print(i[0])"
   ]
  },
  {
   "attachments": {},
   "cell_type": "markdown",
   "metadata": {},
   "source": [
    "7. From the book table, select and print all columns in the order of publication."
   ]
  },
  {
   "cell_type": "code",
   "execution_count": 29,
   "metadata": {},
   "outputs": [
    {
     "name": "stdout",
     "output_type": "stream",
     "text": [
      "('The Weirdstone of Brisingamen', 'Alan Garner', 1960)\n",
      "('Small Gods', 'Terry Pratchett', 1992)\n",
      "('Perdido Street Station', 'China Miéville', 2000)\n",
      "('Thud!', 'Terry Pratchett', 2005)\n",
      "('The Spellman Files', 'Lisa Lutz', 2007)\n"
     ]
    }
   ],
   "source": [
    "query='select * from books order by year asc'\n",
    "for i in cur.execute(query):\n",
    "    print(i)"
   ]
  },
  {
   "attachments": {},
   "cell_type": "markdown",
   "metadata": {},
   "source": [
    "8. Use the sqlalchemy module to connect to the sqlite3 database books.db that you just made in\n",
    "exercise 6."
   ]
  },
  {
   "cell_type": "code",
   "execution_count": 31,
   "metadata": {},
   "outputs": [
    {
     "name": "stdout",
     "output_type": "stream",
     "text": [
      "('Perdido Street Station',)\n",
      "('Small Gods',)\n",
      "('The Spellman Files',)\n",
      "('The Weirdstone of Brisingamen',)\n",
      "('Thud!',)\n"
     ]
    }
   ],
   "source": [
    "import sqlalchemy\n",
    "conn = sqlalchemy.create_engine('sqlite:///books.db')\n",
    "sql = 'select title from books order by title asc'\n",
    "rows = conn.execute(sql)\n",
    "for row in rows:\n",
    "     print(row)\n",
    "\n"
   ]
  },
  {
   "attachments": {},
   "cell_type": "markdown",
   "metadata": {},
   "source": [
    "9. Install the Redis server and the Python redis library (pip install redis) on your computer. Create a\n",
    "Redis hash called test with the fields count (1) and name (&#39;Fester Bestertester&#39;). Print all the fields for\n",
    "test.\n"
   ]
  },
  {
   "cell_type": "code",
   "execution_count": 42,
   "metadata": {},
   "outputs": [
    {
     "ename": "ConnectionError",
     "evalue": "Error 10061 connecting to localhost:6379. No connection could be made because the target machine actively refused it.",
     "output_type": "error",
     "traceback": [
      "\u001b[1;31m---------------------------------------------------------------------------\u001b[0m",
      "\u001b[1;31mConnectionRefusedError\u001b[0m                    Traceback (most recent call last)",
      "File \u001b[1;32mc:\\Users\\nitin\\anaconda3\\envs\\mlflow_P\\lib\\site-packages\\redis\\connection.py:598\u001b[0m, in \u001b[0;36mConnection.connect\u001b[1;34m(self)\u001b[0m\n\u001b[0;32m    597\u001b[0m \u001b[39mtry\u001b[39;00m:\n\u001b[1;32m--> 598\u001b[0m     sock \u001b[39m=\u001b[39m \u001b[39mself\u001b[39;49m\u001b[39m.\u001b[39;49mretry\u001b[39m.\u001b[39;49mcall_with_retry(\n\u001b[0;32m    599\u001b[0m         \u001b[39mlambda\u001b[39;49;00m: \u001b[39mself\u001b[39;49m\u001b[39m.\u001b[39;49m_connect(), \u001b[39mlambda\u001b[39;49;00m error: \u001b[39mself\u001b[39;49m\u001b[39m.\u001b[39;49mdisconnect(error)\n\u001b[0;32m    600\u001b[0m     )\n\u001b[0;32m    601\u001b[0m \u001b[39mexcept\u001b[39;00m socket\u001b[39m.\u001b[39mtimeout:\n",
      "File \u001b[1;32mc:\\Users\\nitin\\anaconda3\\envs\\mlflow_P\\lib\\site-packages\\redis\\retry.py:46\u001b[0m, in \u001b[0;36mRetry.call_with_retry\u001b[1;34m(self, do, fail)\u001b[0m\n\u001b[0;32m     45\u001b[0m \u001b[39mtry\u001b[39;00m:\n\u001b[1;32m---> 46\u001b[0m     \u001b[39mreturn\u001b[39;00m do()\n\u001b[0;32m     47\u001b[0m \u001b[39mexcept\u001b[39;00m \u001b[39mself\u001b[39m\u001b[39m.\u001b[39m_supported_errors \u001b[39mas\u001b[39;00m error:\n",
      "File \u001b[1;32mc:\\Users\\nitin\\anaconda3\\envs\\mlflow_P\\lib\\site-packages\\redis\\connection.py:599\u001b[0m, in \u001b[0;36mConnection.connect.<locals>.<lambda>\u001b[1;34m()\u001b[0m\n\u001b[0;32m    597\u001b[0m \u001b[39mtry\u001b[39;00m:\n\u001b[0;32m    598\u001b[0m     sock \u001b[39m=\u001b[39m \u001b[39mself\u001b[39m\u001b[39m.\u001b[39mretry\u001b[39m.\u001b[39mcall_with_retry(\n\u001b[1;32m--> 599\u001b[0m         \u001b[39mlambda\u001b[39;00m: \u001b[39mself\u001b[39;49m\u001b[39m.\u001b[39;49m_connect(), \u001b[39mlambda\u001b[39;00m error: \u001b[39mself\u001b[39m\u001b[39m.\u001b[39mdisconnect(error)\n\u001b[0;32m    600\u001b[0m     )\n\u001b[0;32m    601\u001b[0m \u001b[39mexcept\u001b[39;00m socket\u001b[39m.\u001b[39mtimeout:\n",
      "File \u001b[1;32mc:\\Users\\nitin\\anaconda3\\envs\\mlflow_P\\lib\\site-packages\\redis\\connection.py:664\u001b[0m, in \u001b[0;36mConnection._connect\u001b[1;34m(self)\u001b[0m\n\u001b[0;32m    663\u001b[0m \u001b[39mif\u001b[39;00m err \u001b[39mis\u001b[39;00m \u001b[39mnot\u001b[39;00m \u001b[39mNone\u001b[39;00m:\n\u001b[1;32m--> 664\u001b[0m     \u001b[39mraise\u001b[39;00m err\n\u001b[0;32m    665\u001b[0m \u001b[39mraise\u001b[39;00m \u001b[39mOSError\u001b[39;00m(\u001b[39m\"\u001b[39m\u001b[39msocket.getaddrinfo returned an empty list\u001b[39m\u001b[39m\"\u001b[39m)\n",
      "File \u001b[1;32mc:\\Users\\nitin\\anaconda3\\envs\\mlflow_P\\lib\\site-packages\\redis\\connection.py:652\u001b[0m, in \u001b[0;36mConnection._connect\u001b[1;34m(self)\u001b[0m\n\u001b[0;32m    651\u001b[0m \u001b[39m# connect\u001b[39;00m\n\u001b[1;32m--> 652\u001b[0m sock\u001b[39m.\u001b[39;49mconnect(socket_address)\n\u001b[0;32m    654\u001b[0m \u001b[39m# set the socket_timeout now that we're connected\u001b[39;00m\n",
      "\u001b[1;31mConnectionRefusedError\u001b[0m: [WinError 10061] No connection could be made because the target machine actively refused it",
      "\nDuring handling of the above exception, another exception occurred:\n",
      "\u001b[1;31mConnectionError\u001b[0m                           Traceback (most recent call last)",
      "Cell \u001b[1;32mIn[42], line 3\u001b[0m\n\u001b[0;32m      1\u001b[0m \u001b[39mimport\u001b[39;00m \u001b[39mredis\u001b[39;00m\n\u001b[0;32m      2\u001b[0m conn \u001b[39m=\u001b[39m redis\u001b[39m.\u001b[39mRedis()\n\u001b[1;32m----> 3\u001b[0m conn\u001b[39m.\u001b[39;49mdelete(\u001b[39m'\u001b[39;49m\u001b[39mtest\u001b[39;49m\u001b[39m'\u001b[39;49m)\n\u001b[0;32m      5\u001b[0m conn\u001b[39m.\u001b[39mhmset(\u001b[39m'\u001b[39m\u001b[39mtest\u001b[39m\u001b[39m'\u001b[39m, {\u001b[39m'\u001b[39m\u001b[39mcount\u001b[39m\u001b[39m'\u001b[39m: \u001b[39m1\u001b[39m, \u001b[39m'\u001b[39m\u001b[39mname\u001b[39m\u001b[39m'\u001b[39m: \u001b[39m'\u001b[39m\u001b[39mFester Bestertester\u001b[39m\u001b[39m'\u001b[39m})\n\u001b[0;32m      7\u001b[0m conn\u001b[39m.\u001b[39mhgetall(\u001b[39m'\u001b[39m\u001b[39mtest\u001b[39m\u001b[39m'\u001b[39m)\n",
      "File \u001b[1;32mc:\\Users\\nitin\\anaconda3\\envs\\mlflow_P\\lib\\site-packages\\redis\\commands\\core.py:1611\u001b[0m, in \u001b[0;36mBasicKeyCommands.delete\u001b[1;34m(self, *names)\u001b[0m\n\u001b[0;32m   1607\u001b[0m \u001b[39mdef\u001b[39;00m \u001b[39mdelete\u001b[39m(\u001b[39mself\u001b[39m, \u001b[39m*\u001b[39mnames: KeyT) \u001b[39m-\u001b[39m\u001b[39m>\u001b[39m ResponseT:\n\u001b[0;32m   1608\u001b[0m     \u001b[39m\"\"\"\u001b[39;00m\n\u001b[0;32m   1609\u001b[0m \u001b[39m    Delete one or more keys specified by ``names``\u001b[39;00m\n\u001b[0;32m   1610\u001b[0m \u001b[39m    \"\"\"\u001b[39;00m\n\u001b[1;32m-> 1611\u001b[0m     \u001b[39mreturn\u001b[39;00m \u001b[39mself\u001b[39;49m\u001b[39m.\u001b[39;49mexecute_command(\u001b[39m\"\u001b[39;49m\u001b[39mDEL\u001b[39;49m\u001b[39m\"\u001b[39;49m, \u001b[39m*\u001b[39;49mnames)\n",
      "File \u001b[1;32mc:\\Users\\nitin\\anaconda3\\envs\\mlflow_P\\lib\\site-packages\\redis\\client.py:1255\u001b[0m, in \u001b[0;36mRedis.execute_command\u001b[1;34m(self, *args, **options)\u001b[0m\n\u001b[0;32m   1253\u001b[0m pool \u001b[39m=\u001b[39m \u001b[39mself\u001b[39m\u001b[39m.\u001b[39mconnection_pool\n\u001b[0;32m   1254\u001b[0m command_name \u001b[39m=\u001b[39m args[\u001b[39m0\u001b[39m]\n\u001b[1;32m-> 1255\u001b[0m conn \u001b[39m=\u001b[39m \u001b[39mself\u001b[39m\u001b[39m.\u001b[39mconnection \u001b[39mor\u001b[39;00m pool\u001b[39m.\u001b[39mget_connection(command_name, \u001b[39m*\u001b[39m\u001b[39m*\u001b[39moptions)\n\u001b[0;32m   1257\u001b[0m \u001b[39mtry\u001b[39;00m:\n\u001b[0;32m   1258\u001b[0m     \u001b[39mreturn\u001b[39;00m conn\u001b[39m.\u001b[39mretry\u001b[39m.\u001b[39mcall_with_retry(\n\u001b[0;32m   1259\u001b[0m         \u001b[39mlambda\u001b[39;00m: \u001b[39mself\u001b[39m\u001b[39m.\u001b[39m_send_command_parse_response(\n\u001b[0;32m   1260\u001b[0m             conn, command_name, \u001b[39m*\u001b[39margs, \u001b[39m*\u001b[39m\u001b[39m*\u001b[39moptions\n\u001b[0;32m   1261\u001b[0m         ),\n\u001b[0;32m   1262\u001b[0m         \u001b[39mlambda\u001b[39;00m error: \u001b[39mself\u001b[39m\u001b[39m.\u001b[39m_disconnect_raise(conn, error),\n\u001b[0;32m   1263\u001b[0m     )\n",
      "File \u001b[1;32mc:\\Users\\nitin\\anaconda3\\envs\\mlflow_P\\lib\\site-packages\\redis\\connection.py:1389\u001b[0m, in \u001b[0;36mConnectionPool.get_connection\u001b[1;34m(self, command_name, *keys, **options)\u001b[0m\n\u001b[0;32m   1385\u001b[0m     \u001b[39mself\u001b[39m\u001b[39m.\u001b[39m_in_use_connections\u001b[39m.\u001b[39madd(connection)\n\u001b[0;32m   1387\u001b[0m \u001b[39mtry\u001b[39;00m:\n\u001b[0;32m   1388\u001b[0m     \u001b[39m# ensure this connection is connected to Redis\u001b[39;00m\n\u001b[1;32m-> 1389\u001b[0m     connection\u001b[39m.\u001b[39;49mconnect()\n\u001b[0;32m   1390\u001b[0m     \u001b[39m# connections that the pool provides should be ready to send\u001b[39;00m\n\u001b[0;32m   1391\u001b[0m     \u001b[39m# a command. if not, the connection was either returned to the\u001b[39;00m\n\u001b[0;32m   1392\u001b[0m     \u001b[39m# pool before all data has been read or the socket has been\u001b[39;00m\n\u001b[0;32m   1393\u001b[0m     \u001b[39m# closed. either way, reconnect and verify everything is good.\u001b[39;00m\n\u001b[0;32m   1394\u001b[0m     \u001b[39mtry\u001b[39;00m:\n",
      "File \u001b[1;32mc:\\Users\\nitin\\anaconda3\\envs\\mlflow_P\\lib\\site-packages\\redis\\connection.py:604\u001b[0m, in \u001b[0;36mConnection.connect\u001b[1;34m(self)\u001b[0m\n\u001b[0;32m    602\u001b[0m     \u001b[39mraise\u001b[39;00m \u001b[39mTimeoutError\u001b[39;00m(\u001b[39m\"\u001b[39m\u001b[39mTimeout connecting to server\u001b[39m\u001b[39m\"\u001b[39m)\n\u001b[0;32m    603\u001b[0m \u001b[39mexcept\u001b[39;00m \u001b[39mOSError\u001b[39;00m \u001b[39mas\u001b[39;00m e:\n\u001b[1;32m--> 604\u001b[0m     \u001b[39mraise\u001b[39;00m \u001b[39mConnectionError\u001b[39;00m(\u001b[39mself\u001b[39m\u001b[39m.\u001b[39m_error_message(e))\n\u001b[0;32m    606\u001b[0m \u001b[39mself\u001b[39m\u001b[39m.\u001b[39m_sock \u001b[39m=\u001b[39m sock\n\u001b[0;32m    607\u001b[0m \u001b[39mtry\u001b[39;00m:\n",
      "\u001b[1;31mConnectionError\u001b[0m: Error 10061 connecting to localhost:6379. No connection could be made because the target machine actively refused it."
     ]
    }
   ],
   "source": [
    "import redis\n",
    "conn = redis.Redis()\n",
    "conn.delete('test')\n",
    "\n",
    "conn.hmset('test', {'count': 1, 'name': 'Fester Bestertester'})\n",
    "\n",
    "conn.hgetall('test')\n"
   ]
  },
  {
   "attachments": {},
   "cell_type": "markdown",
   "metadata": {},
   "source": [
    "10. Increment the count field of test and print it."
   ]
  },
  {
   "cell_type": "code",
   "execution_count": 44,
   "metadata": {},
   "outputs": [
    {
     "ename": "ConnectionError",
     "evalue": "Error 10061 connecting to localhost:6379. No connection could be made because the target machine actively refused it.",
     "output_type": "error",
     "traceback": [
      "\u001b[1;31m---------------------------------------------------------------------------\u001b[0m",
      "\u001b[1;31mConnectionRefusedError\u001b[0m                    Traceback (most recent call last)",
      "File \u001b[1;32mc:\\Users\\nitin\\anaconda3\\envs\\mlflow_P\\lib\\site-packages\\redis\\connection.py:598\u001b[0m, in \u001b[0;36mConnection.connect\u001b[1;34m(self)\u001b[0m\n\u001b[0;32m    597\u001b[0m \u001b[39mtry\u001b[39;00m:\n\u001b[1;32m--> 598\u001b[0m     sock \u001b[39m=\u001b[39m \u001b[39mself\u001b[39;49m\u001b[39m.\u001b[39;49mretry\u001b[39m.\u001b[39;49mcall_with_retry(\n\u001b[0;32m    599\u001b[0m         \u001b[39mlambda\u001b[39;49;00m: \u001b[39mself\u001b[39;49m\u001b[39m.\u001b[39;49m_connect(), \u001b[39mlambda\u001b[39;49;00m error: \u001b[39mself\u001b[39;49m\u001b[39m.\u001b[39;49mdisconnect(error)\n\u001b[0;32m    600\u001b[0m     )\n\u001b[0;32m    601\u001b[0m \u001b[39mexcept\u001b[39;00m socket\u001b[39m.\u001b[39mtimeout:\n",
      "File \u001b[1;32mc:\\Users\\nitin\\anaconda3\\envs\\mlflow_P\\lib\\site-packages\\redis\\retry.py:46\u001b[0m, in \u001b[0;36mRetry.call_with_retry\u001b[1;34m(self, do, fail)\u001b[0m\n\u001b[0;32m     45\u001b[0m \u001b[39mtry\u001b[39;00m:\n\u001b[1;32m---> 46\u001b[0m     \u001b[39mreturn\u001b[39;00m do()\n\u001b[0;32m     47\u001b[0m \u001b[39mexcept\u001b[39;00m \u001b[39mself\u001b[39m\u001b[39m.\u001b[39m_supported_errors \u001b[39mas\u001b[39;00m error:\n",
      "File \u001b[1;32mc:\\Users\\nitin\\anaconda3\\envs\\mlflow_P\\lib\\site-packages\\redis\\connection.py:599\u001b[0m, in \u001b[0;36mConnection.connect.<locals>.<lambda>\u001b[1;34m()\u001b[0m\n\u001b[0;32m    597\u001b[0m \u001b[39mtry\u001b[39;00m:\n\u001b[0;32m    598\u001b[0m     sock \u001b[39m=\u001b[39m \u001b[39mself\u001b[39m\u001b[39m.\u001b[39mretry\u001b[39m.\u001b[39mcall_with_retry(\n\u001b[1;32m--> 599\u001b[0m         \u001b[39mlambda\u001b[39;00m: \u001b[39mself\u001b[39;49m\u001b[39m.\u001b[39;49m_connect(), \u001b[39mlambda\u001b[39;00m error: \u001b[39mself\u001b[39m\u001b[39m.\u001b[39mdisconnect(error)\n\u001b[0;32m    600\u001b[0m     )\n\u001b[0;32m    601\u001b[0m \u001b[39mexcept\u001b[39;00m socket\u001b[39m.\u001b[39mtimeout:\n",
      "File \u001b[1;32mc:\\Users\\nitin\\anaconda3\\envs\\mlflow_P\\lib\\site-packages\\redis\\connection.py:664\u001b[0m, in \u001b[0;36mConnection._connect\u001b[1;34m(self)\u001b[0m\n\u001b[0;32m    663\u001b[0m \u001b[39mif\u001b[39;00m err \u001b[39mis\u001b[39;00m \u001b[39mnot\u001b[39;00m \u001b[39mNone\u001b[39;00m:\n\u001b[1;32m--> 664\u001b[0m     \u001b[39mraise\u001b[39;00m err\n\u001b[0;32m    665\u001b[0m \u001b[39mraise\u001b[39;00m \u001b[39mOSError\u001b[39;00m(\u001b[39m\"\u001b[39m\u001b[39msocket.getaddrinfo returned an empty list\u001b[39m\u001b[39m\"\u001b[39m)\n",
      "File \u001b[1;32mc:\\Users\\nitin\\anaconda3\\envs\\mlflow_P\\lib\\site-packages\\redis\\connection.py:652\u001b[0m, in \u001b[0;36mConnection._connect\u001b[1;34m(self)\u001b[0m\n\u001b[0;32m    651\u001b[0m \u001b[39m# connect\u001b[39;00m\n\u001b[1;32m--> 652\u001b[0m sock\u001b[39m.\u001b[39;49mconnect(socket_address)\n\u001b[0;32m    654\u001b[0m \u001b[39m# set the socket_timeout now that we're connected\u001b[39;00m\n",
      "\u001b[1;31mConnectionRefusedError\u001b[0m: [WinError 10061] No connection could be made because the target machine actively refused it",
      "\nDuring handling of the above exception, another exception occurred:\n",
      "\u001b[1;31mConnectionError\u001b[0m                           Traceback (most recent call last)",
      "Cell \u001b[1;32mIn[44], line 1\u001b[0m\n\u001b[1;32m----> 1\u001b[0m conn\u001b[39m.\u001b[39;49mhincrby(\u001b[39m'\u001b[39;49m\u001b[39mtest\u001b[39;49m\u001b[39m'\u001b[39;49m, \u001b[39m'\u001b[39;49m\u001b[39mcount\u001b[39;49m\u001b[39m'\u001b[39;49m, \u001b[39m3\u001b[39;49m)\n\u001b[0;32m      3\u001b[0m conn\u001b[39m.\u001b[39mhget(\u001b[39m'\u001b[39m\u001b[39mtest\u001b[39m\u001b[39m'\u001b[39m, \u001b[39m'\u001b[39m\u001b[39mcount\u001b[39m\u001b[39m'\u001b[39m)\n",
      "File \u001b[1;32mc:\\Users\\nitin\\anaconda3\\envs\\mlflow_P\\lib\\site-packages\\redis\\commands\\core.py:4804\u001b[0m, in \u001b[0;36mHashCommands.hincrby\u001b[1;34m(self, name, key, amount)\u001b[0m\n\u001b[0;32m   4796\u001b[0m \u001b[39mdef\u001b[39;00m \u001b[39mhincrby\u001b[39m(\n\u001b[0;32m   4797\u001b[0m     \u001b[39mself\u001b[39m, name: \u001b[39mstr\u001b[39m, key: \u001b[39mstr\u001b[39m, amount: \u001b[39mint\u001b[39m \u001b[39m=\u001b[39m \u001b[39m1\u001b[39m\n\u001b[0;32m   4798\u001b[0m ) \u001b[39m-\u001b[39m\u001b[39m>\u001b[39m Union[Awaitable[\u001b[39mint\u001b[39m], \u001b[39mint\u001b[39m]:\n\u001b[0;32m   4799\u001b[0m     \u001b[39m\"\"\"\u001b[39;00m\n\u001b[0;32m   4800\u001b[0m \u001b[39m    Increment the value of ``key`` in hash ``name`` by ``amount``\u001b[39;00m\n\u001b[0;32m   4801\u001b[0m \n\u001b[0;32m   4802\u001b[0m \u001b[39m    For more information see https://redis.io/commands/hincrby\u001b[39;00m\n\u001b[0;32m   4803\u001b[0m \u001b[39m    \"\"\"\u001b[39;00m\n\u001b[1;32m-> 4804\u001b[0m     \u001b[39mreturn\u001b[39;00m \u001b[39mself\u001b[39;49m\u001b[39m.\u001b[39;49mexecute_command(\u001b[39m\"\u001b[39;49m\u001b[39mHINCRBY\u001b[39;49m\u001b[39m\"\u001b[39;49m, name, key, amount)\n",
      "File \u001b[1;32mc:\\Users\\nitin\\anaconda3\\envs\\mlflow_P\\lib\\site-packages\\redis\\client.py:1255\u001b[0m, in \u001b[0;36mRedis.execute_command\u001b[1;34m(self, *args, **options)\u001b[0m\n\u001b[0;32m   1253\u001b[0m pool \u001b[39m=\u001b[39m \u001b[39mself\u001b[39m\u001b[39m.\u001b[39mconnection_pool\n\u001b[0;32m   1254\u001b[0m command_name \u001b[39m=\u001b[39m args[\u001b[39m0\u001b[39m]\n\u001b[1;32m-> 1255\u001b[0m conn \u001b[39m=\u001b[39m \u001b[39mself\u001b[39m\u001b[39m.\u001b[39mconnection \u001b[39mor\u001b[39;00m pool\u001b[39m.\u001b[39mget_connection(command_name, \u001b[39m*\u001b[39m\u001b[39m*\u001b[39moptions)\n\u001b[0;32m   1257\u001b[0m \u001b[39mtry\u001b[39;00m:\n\u001b[0;32m   1258\u001b[0m     \u001b[39mreturn\u001b[39;00m conn\u001b[39m.\u001b[39mretry\u001b[39m.\u001b[39mcall_with_retry(\n\u001b[0;32m   1259\u001b[0m         \u001b[39mlambda\u001b[39;00m: \u001b[39mself\u001b[39m\u001b[39m.\u001b[39m_send_command_parse_response(\n\u001b[0;32m   1260\u001b[0m             conn, command_name, \u001b[39m*\u001b[39margs, \u001b[39m*\u001b[39m\u001b[39m*\u001b[39moptions\n\u001b[0;32m   1261\u001b[0m         ),\n\u001b[0;32m   1262\u001b[0m         \u001b[39mlambda\u001b[39;00m error: \u001b[39mself\u001b[39m\u001b[39m.\u001b[39m_disconnect_raise(conn, error),\n\u001b[0;32m   1263\u001b[0m     )\n",
      "File \u001b[1;32mc:\\Users\\nitin\\anaconda3\\envs\\mlflow_P\\lib\\site-packages\\redis\\connection.py:1389\u001b[0m, in \u001b[0;36mConnectionPool.get_connection\u001b[1;34m(self, command_name, *keys, **options)\u001b[0m\n\u001b[0;32m   1385\u001b[0m     \u001b[39mself\u001b[39m\u001b[39m.\u001b[39m_in_use_connections\u001b[39m.\u001b[39madd(connection)\n\u001b[0;32m   1387\u001b[0m \u001b[39mtry\u001b[39;00m:\n\u001b[0;32m   1388\u001b[0m     \u001b[39m# ensure this connection is connected to Redis\u001b[39;00m\n\u001b[1;32m-> 1389\u001b[0m     connection\u001b[39m.\u001b[39;49mconnect()\n\u001b[0;32m   1390\u001b[0m     \u001b[39m# connections that the pool provides should be ready to send\u001b[39;00m\n\u001b[0;32m   1391\u001b[0m     \u001b[39m# a command. if not, the connection was either returned to the\u001b[39;00m\n\u001b[0;32m   1392\u001b[0m     \u001b[39m# pool before all data has been read or the socket has been\u001b[39;00m\n\u001b[0;32m   1393\u001b[0m     \u001b[39m# closed. either way, reconnect and verify everything is good.\u001b[39;00m\n\u001b[0;32m   1394\u001b[0m     \u001b[39mtry\u001b[39;00m:\n",
      "File \u001b[1;32mc:\\Users\\nitin\\anaconda3\\envs\\mlflow_P\\lib\\site-packages\\redis\\connection.py:604\u001b[0m, in \u001b[0;36mConnection.connect\u001b[1;34m(self)\u001b[0m\n\u001b[0;32m    602\u001b[0m     \u001b[39mraise\u001b[39;00m \u001b[39mTimeoutError\u001b[39;00m(\u001b[39m\"\u001b[39m\u001b[39mTimeout connecting to server\u001b[39m\u001b[39m\"\u001b[39m)\n\u001b[0;32m    603\u001b[0m \u001b[39mexcept\u001b[39;00m \u001b[39mOSError\u001b[39;00m \u001b[39mas\u001b[39;00m e:\n\u001b[1;32m--> 604\u001b[0m     \u001b[39mraise\u001b[39;00m \u001b[39mConnectionError\u001b[39;00m(\u001b[39mself\u001b[39m\u001b[39m.\u001b[39m_error_message(e))\n\u001b[0;32m    606\u001b[0m \u001b[39mself\u001b[39m\u001b[39m.\u001b[39m_sock \u001b[39m=\u001b[39m sock\n\u001b[0;32m    607\u001b[0m \u001b[39mtry\u001b[39;00m:\n",
      "\u001b[1;31mConnectionError\u001b[0m: Error 10061 connecting to localhost:6379. No connection could be made because the target machine actively refused it."
     ]
    }
   ],
   "source": [
    "conn.hincrby('test', 'count', 3)\n",
    "\n",
    "conn.hget('test', 'count')\n"
   ]
  }
 ],
 "metadata": {
  "kernelspec": {
   "display_name": "mlflow_P",
   "language": "python",
   "name": "python3"
  },
  "language_info": {
   "codemirror_mode": {
    "name": "ipython",
    "version": 3
   },
   "file_extension": ".py",
   "mimetype": "text/x-python",
   "name": "python",
   "nbconvert_exporter": "python",
   "pygments_lexer": "ipython3",
   "version": "3.9.7"
  },
  "orig_nbformat": 4,
  "vscode": {
   "interpreter": {
    "hash": "84a8255b5310c3fc3d793eccb8d6973103a193bf5559a61140ca4bea19180625"
   }
  }
 },
 "nbformat": 4,
 "nbformat_minor": 2
}
