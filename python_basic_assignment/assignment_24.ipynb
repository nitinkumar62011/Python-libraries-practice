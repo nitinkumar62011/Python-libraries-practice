{
 "cells": [
  {
   "cell_type": "markdown",
   "metadata": {},
   "source": [
    "1. What is the relationship between def statements and lambda expressions ?\n",
    "\n",
    "Ans .  def is keyword for the crating the user ddefined function and lambda is also keyword to creating the function without names that is meaning anonymous fuction. def can hold the multiple statements but lamda can hold only one statement and lamda will return the object of the function"
   ]
  },
  {
   "cell_type": "markdown",
   "metadata": {},
   "source": [
    "2. What is the benefit of lambda?\n",
    "\n",
    "ans .  it will reduce the length of code and it will create the object of fuction adhoc base. It can be called immediately.\n"
   ]
  },
  {
   "cell_type": "markdown",
   "metadata": {},
   "source": []
  },
  {
   "cell_type": "markdown",
   "metadata": {},
   "source": [
    "3. Compare and contrast map, filter, and reduce.\n",
    "\n",
    "Ans .   map applies as a transformation to an element.\n",
    "The map() function iterates through all items in the given iterable and executes the function we \n",
    "passed as an argument on each of them.\n",
    "Syntax : map(function, iterable(s))\n",
    "\n",
    "\n",
    "filter accumulates only elements matching a condition.\n",
    "filter() forms a new list that contains only elements that satisfy a certain condition, i.e. the function we \n",
    "passed returns True\n",
    "Syntax : filter(function, iterable(s))\n",
    "\n",
    "\n",
    "reduce accumulates all elements to a single value, by using immutable values\n",
    "reduce() works by calling the function we passed for the first two items in the sequence. The result returned by \n",
    "the function is used in another call to function alongside with the next (third in this case), element\n",
    "Syntax : reduce(function, sequence[, initial])\n"
   ]
  },
  {
   "cell_type": "markdown",
   "metadata": {},
   "source": [
    "4. What are function annotations, and how are they used?\n",
    "\n",
    "Ans . Function annotations are the way to access the arguments of a function and the return the value of the  function.\n",
    "      Here we can pass the some argument randomly and optional in function annotations and they are used to type check the function by declaring the its type of the parameter and then it will return the value for function.\n",
    "\n",
    "      Function annotaion are:\n",
    "      1.\n",
    "      def function(a:'int) ->'int:\n",
    "        pass\n",
    "    2.Annotations for simple parameters:\n",
    "    def function(x: 'float'=10.8, y: 'argument2'):\n",
    "      \n",
    "\n",
    "3 .Annotations for return values:\n",
    "    def function(a: expression) -> 'int':\n",
    "        The annotations for the return value is written after the ‘->’ symbol.\n",
    "\n"
   ]
  },
  {
   "cell_type": "markdown",
   "metadata": {},
   "source": [
    "5. What are recursive functions, and how are they used?\n",
    "Ans. A function calling itself again and angin inside the its function based on the some termination condition that kind of function is called\n",
    "recursive function.\n",
    "way to use recursive function\n",
    "\n",
    "def recusiveFunction(N):                                                                                                                  \n",
    "    if N in [some base condition]:                                                                                                         \n",
    "       return value                                                                                                                     \n",
    "    else:                                                                                                                                         \n",
    "        #call the itself                                                                                                                          \n",
    "        recusiveFunction(N-1)                                                                                                  "
   ]
  },
  {
   "cell_type": "markdown",
   "metadata": {},
   "source": []
  },
  {
   "cell_type": "markdown",
   "metadata": {},
   "source": [
    "6. What are some general design guidelines for coding functions?\n",
    "- >Ans .  - > \n",
    "    - >  Use indentaion means 4-space.\n",
    "     - >  Docstring means tell about the function ,variable and its uses\n",
    "   - >  Use proper comment which is very helpfull for other programmer.\n",
    "   - >   Give the proper function name and variable.\n",
    "   - >   Do not use the identifier for function name and variable name.\n",
    "   - >   if you are writing a code using class and object always use the constructor and use 'self' first argument for class function.           \n",
    "   - >   use ':' after function or conditional statement.\n",
    "     "
   ]
  },
  {
   "cell_type": "markdown",
   "metadata": {},
   "source": [
    "7. Name three or more ways that functions can communicate results to a caller.\n",
    "Ans . - > \n",
    "- >   Function can return single value\n",
    "- >   it Can return multiple values, tuple\n",
    "- >   it can return list,dictionary\n",
    "- >   it can return function object\n",
    "- >   it can return class object"
   ]
  },
  {
   "cell_type": "code",
   "execution_count": 1,
   "metadata": {},
   "outputs": [
    {
     "data": {
      "text/plain": [
       "3"
      ]
     },
     "execution_count": 1,
     "metadata": {},
     "output_type": "execute_result"
    }
   ],
   "source": [
    "a=3\n",
    "a"
   ]
  },
  {
   "cell_type": "markdown",
   "metadata": {},
   "source": []
  }
 ],
 "metadata": {
  "kernelspec": {
   "display_name": "Python 3.6.13 ('dogcat')",
   "language": "python",
   "name": "python3"
  },
  "language_info": {
   "codemirror_mode": {
    "name": "ipython",
    "version": 3
   },
   "file_extension": ".py",
   "mimetype": "text/x-python",
   "name": "python",
   "nbconvert_exporter": "python",
   "pygments_lexer": "ipython3",
   "version": "3.6.13"
  },
  "orig_nbformat": 4,
  "vscode": {
   "interpreter": {
    "hash": "2e8543ae9f21516f2c119dce958e3bd727b59b5836fec464d61cecf8c27b1534"
   }
  }
 },
 "nbformat": 4,
 "nbformat_minor": 2
}
