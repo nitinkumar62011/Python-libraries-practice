{
 "cells": [
  {
   "attachments": {},
   "cell_type": "markdown",
   "metadata": {},
   "source": [
    "1. Assign the value 7 to the variable guess_me. Then, write the conditional tests (if, else, and elif) to\n",
    "print the string &#39;too low&#39; if guess_me is less than 7, &#39;too high&#39; if greater than 7, and &#39;just right&#39; if equal\n",
    "to 7."
   ]
  },
  {
   "cell_type": "code",
   "execution_count": 2,
   "metadata": {},
   "outputs": [
    {
     "name": "stdout",
     "output_type": "stream",
     "text": [
      "Equal to 7\n"
     ]
    }
   ],
   "source": [
    "guess_me =7\n",
    "guess_number=int(input(\"Enter the guess_number\"))\n",
    "if guess_number<guess_me:\n",
    "    print(\"too low 7\")\n",
    "elif guess_number>guess_me:\n",
    "    print(\"too high 7\")\n",
    "elif guess_number==guess_me:\n",
    "    print(\"Equal to 7\")"
   ]
  },
  {
   "attachments": {},
   "cell_type": "markdown",
   "metadata": {},
   "source": [
    "2. Assign the value 7 to the variable guess_me and the value 1 to the variable start. Write a while\n",
    "loop that compares start with guess_me. Print too low if start is less than guess me. If start equals\n",
    "guess_me, print &#39;found it!&#39; and exit the loop. If start is greater than guess_me, print &#39;oops&#39; and exit\n",
    "the loop. Increment start at the end of the loop."
   ]
  },
  {
   "cell_type": "code",
   "execution_count": 5,
   "metadata": {},
   "outputs": [
    {
     "name": "stdout",
     "output_type": "stream",
     "text": [
      "too low 7\n",
      "too low 7\n",
      "too low 7\n",
      "too low 7\n",
      "Equal to 7 and found it in  5\n"
     ]
    }
   ],
   "source": [
    "guess_me=7\n",
    "start=1\n",
    "\n",
    "while True:\n",
    "    guess_number=int(input(\"Enter the guess_number\"))\n",
    "    if guess_number<guess_me:\n",
    "        print(\"too low 7\")\n",
    "    elif guess_number>guess_me:\n",
    "        print(\"oops\")\n",
    "    elif guess_number==guess_me:\n",
    "        print(\"Equal to 7 and found it in \",start)\n",
    "        break\n",
    "    start+=1\n"
   ]
  },
  {
   "attachments": {},
   "cell_type": "markdown",
   "metadata": {},
   "source": [
    "3. Print the following values of the list [3, 2, 1, 0] using a for loop."
   ]
  },
  {
   "cell_type": "code",
   "execution_count": 6,
   "metadata": {},
   "outputs": [
    {
     "name": "stdout",
     "output_type": "stream",
     "text": [
      "3\n",
      "2\n",
      "1\n",
      "0\n"
     ]
    }
   ],
   "source": [
    "for i in [3, 2, 1, 0]:\n",
    "    print(i)"
   ]
  },
  {
   "attachments": {},
   "cell_type": "markdown",
   "metadata": {},
   "source": [
    "4. Use a list comprehension to make a list of the even numbers in range(10)"
   ]
  },
  {
   "cell_type": "code",
   "execution_count": 8,
   "metadata": {},
   "outputs": [
    {
     "data": {
      "text/plain": [
       "[0, 2, 4, 6, 8]"
      ]
     },
     "execution_count": 8,
     "metadata": {},
     "output_type": "execute_result"
    }
   ],
   "source": [
    "[i for i in range(10) if i%2==0]"
   ]
  },
  {
   "attachments": {},
   "cell_type": "markdown",
   "metadata": {},
   "source": [
    "5. Use a dictionary comprehension to create the dictionary squares. Use range(10) to return the\n",
    "keys, and use the square of each key as its value."
   ]
  },
  {
   "cell_type": "code",
   "execution_count": 9,
   "metadata": {},
   "outputs": [
    {
     "data": {
      "text/plain": [
       "{0: 0, 1: 1, 2: 4, 3: 9, 4: 16, 5: 25, 6: 36, 7: 49, 8: 64, 9: 81}"
      ]
     },
     "execution_count": 9,
     "metadata": {},
     "output_type": "execute_result"
    }
   ],
   "source": [
    "{key:key*key for key in range(10)}  "
   ]
  },
  {
   "attachments": {},
   "cell_type": "markdown",
   "metadata": {},
   "source": [
    "6. Construct the set odd from the odd numbers in the range using a set comprehension (10)."
   ]
  },
  {
   "cell_type": "code",
   "execution_count": 10,
   "metadata": {},
   "outputs": [
    {
     "data": {
      "text/plain": [
       "{1, 3, 5, 7, 9}"
      ]
     },
     "execution_count": 10,
     "metadata": {},
     "output_type": "execute_result"
    }
   ],
   "source": [
    "{i for i in range(10) if i%2!=0}"
   ]
  },
  {
   "cell_type": "code",
   "execution_count": 34,
   "metadata": {},
   "outputs": [
    {
     "ename": "SyntaxError",
     "evalue": "invalid syntax (<ipython-input-34-2c121333c318>, line 1)",
     "output_type": "error",
     "traceback": [
      "\u001b[1;36m  File \u001b[1;32m\"<ipython-input-34-2c121333c318>\"\u001b[1;36m, line \u001b[1;32m1\u001b[0m\n\u001b[1;33m    7. Use a generator comprehension to return the string &#39;Got &#39; and a number for the numbers in\u001b[0m\n\u001b[1;37m         ^\u001b[0m\n\u001b[1;31mSyntaxError\u001b[0m\u001b[1;31m:\u001b[0m invalid syntax\n"
     ]
    }
   ],
   "source": [
    "7. Use a generator comprehension to return the string &#39;Got &#39; and a number for the numbers in\n",
    "range(10). Iterate through this by using a for loop."
   ]
  },
  {
   "cell_type": "code",
   "execution_count": 35,
   "metadata": {},
   "outputs": [
    {
     "name": "stdout",
     "output_type": "stream",
     "text": [
      "got\n",
      "got\n",
      "got\n",
      "got\n",
      "got\n",
      "got\n",
      "got\n",
      "got\n",
      "got\n",
      "got\n"
     ]
    }
   ],
   "source": [
    "def Got(n):\n",
    "    for i in range(n):\n",
    "        yield \"got\"\n",
    "for i in Got(10):\n",
    "    print(i)"
   ]
  },
  {
   "attachments": {},
   "cell_type": "markdown",
   "metadata": {},
   "source": [
    "8. Define a function called good that returns the list [&#39;Harry&#39;, &#39;Ron&#39;, &#39;Hermione&#39;]."
   ]
  },
  {
   "cell_type": "code",
   "execution_count": 36,
   "metadata": {},
   "outputs": [
    {
     "name": "stdout",
     "output_type": "stream",
     "text": [
      "['Harry', 'Ron', 'Hermione']\n"
     ]
    }
   ],
   "source": [
    "def good():\n",
    "    return ['Harry','Ron','Hermione']\n",
    "print(good())"
   ]
  },
  {
   "attachments": {},
   "cell_type": "markdown",
   "metadata": {},
   "source": [
    "9. Define a generator function called get_odds that returns the odd numbers from range(10). Use a\n",
    "for loop to find and print the third value returned."
   ]
  },
  {
   "cell_type": "code",
   "execution_count": 37,
   "metadata": {},
   "outputs": [
    {
     "name": "stdout",
     "output_type": "stream",
     "text": [
      "1\n",
      "3\n",
      "5\n",
      "7\n",
      "9\n"
     ]
    }
   ],
   "source": [
    "def get_odd(n):\n",
    "    for i in range(n):\n",
    "        if i % 2 != 0:\n",
    "            yield i\n",
    "for i in get_odd(10):\n",
    "    print(i)\n"
   ]
  },
  {
   "attachments": {},
   "cell_type": "markdown",
   "metadata": {},
   "source": [
    "10. Define an exception called OopsException. Raise this exception to see what happens. Then write\n",
    "the code to catch this exception and print &#39;Caught an oops&#39;."
   ]
  },
  {
   "cell_type": "code",
   "execution_count": 38,
   "metadata": {},
   "outputs": [
    {
     "name": "stdout",
     "output_type": "stream",
     "text": [
      "Caught an oops\n"
     ]
    }
   ],
   "source": [
    "\n",
    "if 5%2==0:\n",
    "    raise Exception('OopsException')\n",
    "print(\"Caught an oops\")\n"
   ]
  },
  {
   "cell_type": "code",
   "execution_count": 39,
   "metadata": {},
   "outputs": [
    {
     "ename": "SyntaxError",
     "evalue": "invalid syntax (<ipython-input-39-9750f07f7f83>, line 1)",
     "output_type": "error",
     "traceback": [
      "\u001b[1;36m  File \u001b[1;32m\"<ipython-input-39-9750f07f7f83>\"\u001b[1;36m, line \u001b[1;32m1\u001b[0m\n\u001b[1;33m    11. Use zip() to make a dictionary called movies that pairs these lists: titles = [&#39;Creature of Habit&#39;,\u001b[0m\n\u001b[1;37m          ^\u001b[0m\n\u001b[1;31mSyntaxError\u001b[0m\u001b[1;31m:\u001b[0m invalid syntax\n"
     ]
    }
   ],
   "source": [
    "11. Use zip() to make a dictionary called movies that pairs these lists: titles = [&#39;Creature of Habit&#39;,\n",
    "&#39;Crewel Fate&#39;] and plots = [&#39;A nun turns into a monster&#39;, &#39;A haunted yarn shop&#39;]."
   ]
  },
  {
   "cell_type": "code",
   "execution_count": null,
   "metadata": {},
   "outputs": [
    {
     "data": {
      "text/plain": [
       "{'Creature of Habit': 'A nun turns into a monster',\n",
       " 'Crewel Fate': 'A haunted yarn shop'}"
      ]
     },
     "execution_count": 33,
     "metadata": {},
     "output_type": "execute_result"
    }
   ],
   "source": [
    "titles = ['Creature of Habit','Crewel Fate'] \n",
    "plots = ['A nun turns into a monster', 'A haunted yarn shop']\n",
    "\n",
    "movies = dict(zip(titles, plots))\n",
    "movies\n"
   ]
  },
  {
   "cell_type": "code",
   "execution_count": null,
   "metadata": {},
   "outputs": [],
   "source": []
  },
  {
   "cell_type": "code",
   "execution_count": null,
   "metadata": {},
   "outputs": [],
   "source": []
  }
 ],
 "metadata": {
  "kernelspec": {
   "display_name": "dogcat",
   "language": "python",
   "name": "python3"
  },
  "language_info": {
   "codemirror_mode": {
    "name": "ipython",
    "version": 3
   },
   "file_extension": ".py",
   "mimetype": "text/x-python",
   "name": "python",
   "nbconvert_exporter": "python",
   "pygments_lexer": "ipython3",
   "version": "3.6.13"
  },
  "orig_nbformat": 4,
  "vscode": {
   "interpreter": {
    "hash": "2e8543ae9f21516f2c119dce958e3bd727b59b5836fec464d61cecf8c27b1534"
   }
  }
 },
 "nbformat": 4,
 "nbformat_minor": 2
}
