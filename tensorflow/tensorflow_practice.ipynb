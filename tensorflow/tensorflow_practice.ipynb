{
 "cells": [
  {
   "cell_type": "code",
   "execution_count": 1,
   "metadata": {},
   "outputs": [],
   "source": [
    "import tensorflow as tf"
   ]
  },
  {
   "cell_type": "code",
   "execution_count": 2,
   "metadata": {},
   "outputs": [
    {
     "data": {
      "text/plain": [
       "<tf.Tensor: shape=(), dtype=int32, numpy=34>"
      ]
     },
     "execution_count": 2,
     "metadata": {},
     "output_type": "execute_result"
    }
   ],
   "source": [
    "const=tf.constant(34)\n",
    "const"
   ]
  },
  {
   "cell_type": "code",
   "execution_count": 3,
   "metadata": {},
   "outputs": [
    {
     "data": {
      "text/plain": [
       "<tf.Tensor: shape=(), dtype=float32, numpy=34.0>"
      ]
     },
     "execution_count": 3,
     "metadata": {},
     "output_type": "execute_result"
    }
   ],
   "source": [
    "const=tf.constant(34,dtype=tf.float32)\n",
    "const"
   ]
  },
  {
   "cell_type": "code",
   "execution_count": 4,
   "metadata": {},
   "outputs": [
    {
     "data": {
      "text/plain": [
       "<tf.Tensor: shape=(9, 5), dtype=float32, numpy=\n",
       "array([[1., 1., 1., 1., 1.],\n",
       "       [1., 1., 1., 1., 1.],\n",
       "       [1., 1., 1., 1., 1.],\n",
       "       [1., 1., 1., 1., 1.],\n",
       "       [1., 1., 1., 1., 1.],\n",
       "       [1., 1., 1., 1., 1.],\n",
       "       [1., 1., 1., 1., 1.],\n",
       "       [1., 1., 1., 1., 1.],\n",
       "       [1., 1., 1., 1., 1.]], dtype=float32)>"
      ]
     },
     "execution_count": 4,
     "metadata": {},
     "output_type": "execute_result"
    }
   ],
   "source": [
    "tf.ones((9,5))"
   ]
  },
  {
   "cell_type": "code",
   "execution_count": 5,
   "metadata": {},
   "outputs": [
    {
     "data": {
      "text/plain": [
       "<tf.Tensor: shape=(3, 3), dtype=float32, numpy=\n",
       "array([[0., 0., 0.],\n",
       "       [0., 0., 0.],\n",
       "       [0., 0., 0.]], dtype=float32)>"
      ]
     },
     "execution_count": 5,
     "metadata": {},
     "output_type": "execute_result"
    }
   ],
   "source": [
    "tf.zeros((3,3))"
   ]
  },
  {
   "cell_type": "code",
   "execution_count": 6,
   "metadata": {},
   "outputs": [
    {
     "data": {
      "text/plain": [
       "<tf.Tensor: shape=(3,), dtype=int32, numpy=array([37, 38, 50])>"
      ]
     },
     "execution_count": 6,
     "metadata": {},
     "output_type": "execute_result"
    }
   ],
   "source": [
    "const1=tf.constant([34,34,45])\n",
    "const2=tf.constant([3,4,5])\n",
    "tf.add(const1,const2)"
   ]
  },
  {
   "cell_type": "code",
   "execution_count": 7,
   "metadata": {},
   "outputs": [],
   "source": [
    "num=tf.random.normal((3,4\n",
    "),stddev=1,mean=0\n",
    ")"
   ]
  },
  {
   "cell_type": "code",
   "execution_count": 8,
   "metadata": {},
   "outputs": [
    {
     "data": {
      "text/plain": [
       "<tf.Tensor: shape=(2, 6), dtype=float32, numpy=\n",
       "array([[ 0.04392148, -0.21735677, -0.84321004,  0.8814191 , -3.0940912 ,\n",
       "        -0.8191537 ],\n",
       "       [-1.4149593 , -0.7446251 ,  0.2557865 , -1.2697827 ,  2.6087892 ,\n",
       "        -0.8329437 ]], dtype=float32)>"
      ]
     },
     "execution_count": 8,
     "metadata": {},
     "output_type": "execute_result"
    }
   ],
   "source": [
    "tf.reshape(num,[2,6])"
   ]
  },
  {
   "cell_type": "code",
   "execution_count": 9,
   "metadata": {},
   "outputs": [],
   "source": [
    "mat1=tf.constant([[3,4,5,6]])\n",
    "mat2=tf.constant([[4,5,6,6]])"
   ]
  },
  {
   "cell_type": "code",
   "execution_count": 10,
   "metadata": {},
   "outputs": [
    {
     "data": {
      "text/plain": [
       "TensorShape([1, 4])"
      ]
     },
     "execution_count": 10,
     "metadata": {},
     "output_type": "execute_result"
    }
   ],
   "source": [
    "mat1.shape"
   ]
  },
  {
   "cell_type": "code",
   "execution_count": 11,
   "metadata": {},
   "outputs": [
    {
     "data": {
      "text/plain": [
       "<tf.Tensor: shape=(1, 1), dtype=int32, numpy=array([[98]])>"
      ]
     },
     "execution_count": 11,
     "metadata": {},
     "output_type": "execute_result"
    }
   ],
   "source": [
    "tf.matmul(mat1,tf.transpose(mat2))"
   ]
  },
  {
   "cell_type": "code",
   "execution_count": 12,
   "metadata": {},
   "outputs": [
    {
     "data": {
      "text/plain": [
       "<tf.Tensor: shape=(4, 4), dtype=int32, numpy=\n",
       "array([[12, 15, 18, 18],\n",
       "       [16, 20, 24, 24],\n",
       "       [20, 25, 30, 30],\n",
       "       [24, 30, 36, 36]])>"
      ]
     },
     "execution_count": 12,
     "metadata": {},
     "output_type": "execute_result"
    }
   ],
   "source": [
    "tf.transpose(mat1)@mat2"
   ]
  },
  {
   "cell_type": "code",
   "execution_count": 13,
   "metadata": {},
   "outputs": [
    {
     "data": {
      "text/plain": [
       "<tf.RaggedTensor [[23], [34]]>"
      ]
     },
     "execution_count": 13,
     "metadata": {},
     "output_type": "execute_result"
    }
   ],
   "source": [
    "ragged=tf.ragged.constant([[23],[34]])\n",
    "ragged"
   ]
  },
  {
   "cell_type": "code",
   "execution_count": 14,
   "metadata": {},
   "outputs": [
    {
     "data": {
      "text/plain": [
       "TensorShape([2, None])"
      ]
     },
     "execution_count": 14,
     "metadata": {},
     "output_type": "execute_result"
    }
   ],
   "source": [
    "ragged.shape"
   ]
  },
  {
   "cell_type": "code",
   "execution_count": 15,
   "metadata": {},
   "outputs": [
    {
     "data": {
      "text/plain": [
       "<tf.Tensor: shape=(1,), dtype=int32, numpy=array([23])>"
      ]
     },
     "execution_count": 15,
     "metadata": {},
     "output_type": "execute_result"
    }
   ],
   "source": [
    "ragged[0]"
   ]
  },
  {
   "cell_type": "code",
   "execution_count": 16,
   "metadata": {},
   "outputs": [
    {
     "data": {
      "text/plain": [
       "<tf.Tensor: shape=(1, 4), dtype=int32, numpy=array([[3, 4, 5, 6]])>"
      ]
     },
     "execution_count": 16,
     "metadata": {},
     "output_type": "execute_result"
    }
   ],
   "source": [
    "mat1"
   ]
  },
  {
   "cell_type": "code",
   "execution_count": 17,
   "metadata": {},
   "outputs": [
    {
     "data": {
      "text/plain": [
       "<tf.Tensor: shape=(), dtype=int32, numpy=4>"
      ]
     },
     "execution_count": 17,
     "metadata": {},
     "output_type": "execute_result"
    }
   ],
   "source": [
    "tf.reduce_mean(mat1)"
   ]
  },
  {
   "cell_type": "code",
   "execution_count": 18,
   "metadata": {},
   "outputs": [
    {
     "data": {
      "text/plain": [
       "<tf.Tensor: shape=(1, 4), dtype=int32, numpy=array([[1, 1, 1, 0]])>"
      ]
     },
     "execution_count": 18,
     "metadata": {},
     "output_type": "execute_result"
    }
   ],
   "source": [
    "tf.math.squared_difference(mat1,mat2)"
   ]
  },
  {
   "cell_type": "code",
   "execution_count": 19,
   "metadata": {},
   "outputs": [
    {
     "data": {
      "text/plain": [
       "<tf.Variable 'Variable:0' shape=(5, 5) dtype=float32, numpy=\n",
       "array([[1., 1., 1., 1., 1.],\n",
       "       [1., 1., 1., 1., 1.],\n",
       "       [1., 1., 1., 1., 1.],\n",
       "       [1., 1., 1., 1., 1.],\n",
       "       [1., 1., 1., 1., 1.]], dtype=float32)>"
      ]
     },
     "execution_count": 19,
     "metadata": {},
     "output_type": "execute_result"
    }
   ],
   "source": [
    "var1=tf.Variable(tf.ones((5,5)))\n",
    "var1"
   ]
  },
  {
   "cell_type": "code",
   "execution_count": 20,
   "metadata": {},
   "outputs": [],
   "source": [
    "ckpt=tf.train.Checkpoint(var=var1)\n",
    "savepath=ckpt.save(\"./var.ckpt\")"
   ]
  },
  {
   "cell_type": "code",
   "execution_count": 21,
   "metadata": {},
   "outputs": [],
   "source": [
    "var1=var1.assign(tf.zeros((5,5)))"
   ]
  },
  {
   "cell_type": "code",
   "execution_count": 22,
   "metadata": {},
   "outputs": [
    {
     "data": {
      "text/plain": [
       "<tf.Variable 'UnreadVariable' shape=(5, 5) dtype=float32, numpy=\n",
       "array([[0., 0., 0., 0., 0.],\n",
       "       [0., 0., 0., 0., 0.],\n",
       "       [0., 0., 0., 0., 0.],\n",
       "       [0., 0., 0., 0., 0.],\n",
       "       [0., 0., 0., 0., 0.]], dtype=float32)>"
      ]
     },
     "execution_count": 22,
     "metadata": {},
     "output_type": "execute_result"
    }
   ],
   "source": [
    "var1"
   ]
  },
  {
   "cell_type": "code",
   "execution_count": 23,
   "metadata": {},
   "outputs": [
    {
     "data": {
      "text/plain": [
       "<tensorflow.python.training.tracking.util.CheckpointLoadStatus at 0x27cc1a3dd00>"
      ]
     },
     "execution_count": 23,
     "metadata": {},
     "output_type": "execute_result"
    }
   ],
   "source": [
    "ckpt.restore(savepath)"
   ]
  },
  {
   "cell_type": "code",
   "execution_count": 24,
   "metadata": {},
   "outputs": [
    {
     "data": {
      "text/plain": [
       "<tf.Variable 'UnreadVariable' shape=(5, 5) dtype=float32, numpy=\n",
       "array([[1., 1., 1., 1., 1.],\n",
       "       [1., 1., 1., 1., 1.],\n",
       "       [1., 1., 1., 1., 1.],\n",
       "       [1., 1., 1., 1., 1.],\n",
       "       [1., 1., 1., 1., 1.]], dtype=float32)>"
      ]
     },
     "execution_count": 24,
     "metadata": {},
     "output_type": "execute_result"
    }
   ],
   "source": [
    "var1"
   ]
  },
  {
   "cell_type": "code",
   "execution_count": 25,
   "metadata": {},
   "outputs": [],
   "source": [
    "def fun(x,y):\n",
    "    input_val=tf.multiply(x**3,6)+y**2\n",
    "    return tf.reduce_mean(input_tensor=input_val)"
   ]
  },
  {
   "cell_type": "code",
   "execution_count": 26,
   "metadata": {},
   "outputs": [],
   "source": [
    "func=tf.function(fun)"
   ]
  },
  {
   "cell_type": "code",
   "execution_count": 27,
   "metadata": {},
   "outputs": [],
   "source": [
    "var1=tf.constant([3,4,5,5,6]*10000)\n",
    "var2=tf.constant([3,4,7,8,9]*10000)"
   ]
  },
  {
   "cell_type": "code",
   "execution_count": 28,
   "metadata": {},
   "outputs": [],
   "source": [
    "#var1"
   ]
  },
  {
   "cell_type": "code",
   "execution_count": 29,
   "metadata": {},
   "outputs": [
    {
     "data": {
      "text/plain": [
       "<tf.Tensor: shape=(), dtype=int32, numpy=712>"
      ]
     },
     "execution_count": 29,
     "metadata": {},
     "output_type": "execute_result"
    }
   ],
   "source": [
    "fun(var1,var2)# normal python function"
   ]
  },
  {
   "cell_type": "code",
   "execution_count": 30,
   "metadata": {},
   "outputs": [
    {
     "data": {
      "text/plain": [
       "<tf.Tensor: shape=(), dtype=int32, numpy=712>"
      ]
     },
     "execution_count": 30,
     "metadata": {},
     "output_type": "execute_result"
    }
   ],
   "source": [
    "func(var1,var2)#tensor function"
   ]
  },
  {
   "cell_type": "code",
   "execution_count": 31,
   "metadata": {},
   "outputs": [],
   "source": [
    "def decorater_fn(input_fn):\n",
    "    def decorater_in():\n",
    "        print(\"++\"*30)\n",
    "        input_fn()\n",
    "        print(\"++\"*30)\n",
    "    return decorater_in"
   ]
  },
  {
   "cell_type": "code",
   "execution_count": 32,
   "metadata": {},
   "outputs": [],
   "source": [
    "def print_me():\n",
    "    print(\"Nitin\")\n",
    "    "
   ]
  },
  {
   "cell_type": "code",
   "execution_count": 33,
   "metadata": {},
   "outputs": [
    {
     "name": "stdout",
     "output_type": "stream",
     "text": [
      "++++++++++++++++++++++++++++++++++++++++++++++++++++++++++++\n",
      "Nitin\n",
      "++++++++++++++++++++++++++++++++++++++++++++++++++++++++++++\n"
     ]
    }
   ],
   "source": [
    "deco=decorater_fn(print_me)\n",
    "deco()"
   ]
  },
  {
   "cell_type": "code",
   "execution_count": 35,
   "metadata": {},
   "outputs": [],
   "source": [
    "@ decorater_fn\n",
    "def print_my():\n",
    "    print(\"Hello\")\n",
    "    print(\"World\")\n",
    "    print(\"Hello\")\n",
    "    "
   ]
  },
  {
   "cell_type": "code",
   "execution_count": 36,
   "metadata": {},
   "outputs": [
    {
     "name": "stdout",
     "output_type": "stream",
     "text": [
      "++++++++++++++++++++++++++++++++++++++++++++++++++++++++++++\n",
      "Hello\n",
      "World\n",
      "Hello\n",
      "++++++++++++++++++++++++++++++++++++++++++++++++++++++++++++\n"
     ]
    }
   ],
   "source": [
    "print_my()"
   ]
  },
  {
   "cell_type": "code",
   "execution_count": 37,
   "metadata": {},
   "outputs": [
    {
     "data": {
      "text/plain": [
       "<tf.Tensor: shape=(2, 2), dtype=float32, numpy=\n",
       "array([[-1.2211008 , -0.04774101],\n",
       "       [-0.9979138 , -0.5490927 ]], dtype=float32)>"
      ]
     },
     "execution_count": 37,
     "metadata": {},
     "output_type": "execute_result"
    }
   ],
   "source": [
    "x=tf.random.normal(shape=(2,2))\n",
    "y=tf.random.normal(shape=(2,2))\n",
    "y"
   ]
  },
  {
   "cell_type": "code",
   "execution_count": 38,
   "metadata": {},
   "outputs": [
    {
     "name": "stdout",
     "output_type": "stream",
     "text": [
      "tf.Tensor(\n",
      "[[ 2.4241896  1.029674 ]\n",
      " [-1.4288754  4.345122 ]], shape=(2, 2), dtype=float32)\n"
     ]
    }
   ],
   "source": [
    "with tf.GradientTape() as tape:\n",
    "    tape.watch(x)\n",
    "    f=tf.square(x)+tf.square(y)\n",
    "    dy_dx=tape.gradient(f,x)\n",
    "    print(dy_dx)"
   ]
  },
  {
   "cell_type": "code",
   "execution_count": 39,
   "metadata": {},
   "outputs": [
    {
     "name": "stdout",
     "output_type": "stream",
     "text": [
      "tf.Tensor(\n",
      "[[-2.4422016  -0.09548201]\n",
      " [-1.9958276  -1.0981854 ]], shape=(2, 2), dtype=float32)\n"
     ]
    }
   ],
   "source": [
    "with tf.GradientTape() as tape:\n",
    "    tape.watch(y)\n",
    "    f=tf.square(x)+tf.square(y)\n",
    "    df_dy=tape.gradient(f,y)\n",
    "    print(df_dy)"
   ]
  },
  {
   "cell_type": "code",
   "execution_count": 40,
   "metadata": {},
   "outputs": [
    {
     "data": {
      "text/plain": [
       "<tf.Tensor: shape=(2, 2), dtype=float32, numpy=\n",
       "array([[ 2.4241896,  1.029674 ],\n",
       "       [-1.4288754,  4.345122 ]], dtype=float32)>"
      ]
     },
     "execution_count": 40,
     "metadata": {},
     "output_type": "execute_result"
    }
   ],
   "source": [
    "2*x"
   ]
  },
  {
   "cell_type": "code",
   "execution_count": 41,
   "metadata": {},
   "outputs": [
    {
     "name": "stdout",
     "output_type": "stream",
     "text": [
      "tf.Tensor(\n",
      "[[-2.4422016  -0.09548201]\n",
      " [-1.9958276  -1.0981854 ]], shape=(2, 2), dtype=float32)\n",
      "tf.Tensor(\n",
      "[[-2.4422016  -0.09548201]\n",
      " [-1.9958276  -1.0981854 ]], shape=(2, 2), dtype=float32)\n"
     ]
    }
   ],
   "source": [
    "with tf.GradientTape() as tape:\n",
    "    tape.watch([y,x])\n",
    "    f=tf.square(x)+tf.square(y)\n",
    "    df_dy,df_dx=tape.gradient(f,[y,x])\n",
    "    print(df_dy)\n",
    "    print(df_dy)"
   ]
  },
  {
   "cell_type": "code",
   "execution_count": 42,
   "metadata": {},
   "outputs": [
    {
     "name": "stdout",
     "output_type": "stream",
     "text": [
      "tf.Tensor(\n",
      "[[-0.7097191  -0.0923342 ]\n",
      " [-0.81310016 -0.24503487]], shape=(2, 2), dtype=float32)\n",
      "tf.Tensor(\n",
      "[[-0.7097191  -0.0923342 ]\n",
      " [-0.81310016 -0.24503487]], shape=(2, 2), dtype=float32)\n"
     ]
    }
   ],
   "source": [
    "with tf.GradientTape() as tape:\n",
    "    tape.watch(y)\n",
    "    tape.watch(x)\n",
    "    f=tf.sqrt(tf.square(x)+tf.square(y))\n",
    "    df_dy,df_dx=tape.gradient(f,[y,x])\n",
    "    print(df_dy)\n",
    "    print(df_dy)"
   ]
  },
  {
   "cell_type": "code",
   "execution_count": 43,
   "metadata": {},
   "outputs": [],
   "source": [
    "True_w=3.0\n",
    "True_b=2.0\n",
    "x=tf.random.normal(shape=[1000])\n",
    "noise=tf.random.normal(shape=[1000])\n",
    "y=x*True_w+True_b\n",
    "y_noise=y+noise"
   ]
  },
  {
   "cell_type": "code",
   "execution_count": 44,
   "metadata": {},
   "outputs": [],
   "source": [
    "import matplotlib.pyplot as plt"
   ]
  },
  {
   "cell_type": "code",
   "execution_count": 45,
   "metadata": {},
   "outputs": [
    {
     "data": {
      "image/png": "[encoded data removed]",
      "text/plain": [
       "<Figure size 432x288 with 1 Axes>"
      ]
     },
     "metadata": {
      "needs_background": "light"
     },
     "output_type": "display_data"
    }
   ],
   "source": [
    "plt.scatter(x,y,c='b')\n",
    "plt.show()"
   ]
  },
  {
   "cell_type": "code",
   "execution_count": 46,
   "metadata": {},
   "outputs": [
    {
     "data": {
      "image/png": "[encoded data removed]",
      "text/plain": [
       "<Figure size 432x288 with 1 Axes>"
      ]
     },
     "metadata": {
      "needs_background": "light"
     },
     "output_type": "display_data"
    }
   ],
   "source": [
    "plt.scatter(x,y_noise,c='b')\n",
    "plt.show()"
   ]
  },
  {
   "cell_type": "code",
   "execution_count": 47,
   "metadata": {},
   "outputs": [],
   "source": [
    "class Mymodel(tf.Module):\n",
    "    def __init__(self,**kwargs):\n",
    "        super().__init__(**kwargs)\n",
    "        self.w=tf.Variable(4.0)\n",
    "        self.b=tf.Variable(0.0)\n",
    "    def __call__(self,x):\n",
    "        return self.w*x+self.b\n"
   ]
  },
  {
   "cell_type": "code",
   "execution_count": 48,
   "metadata": {},
   "outputs": [],
   "source": [
    "model=Mymodel()"
   ]
  },
  {
   "cell_type": "code",
   "execution_count": 49,
   "metadata": {},
   "outputs": [
    {
     "data": {
      "text/plain": [
       "<tf.Tensor: shape=(), dtype=float32, numpy=36.0>"
      ]
     },
     "execution_count": 49,
     "metadata": {},
     "output_type": "execute_result"
    }
   ],
   "source": [
    "model(9)"
   ]
  },
  {
   "cell_type": "code",
   "execution_count": 50,
   "metadata": {},
   "outputs": [
    {
     "data": {
      "image/png": "[encoded data removed]",
      "text/plain": [
       "<Figure size 432x288 with 1 Axes>"
      ]
     },
     "metadata": {
      "needs_background": "light"
     },
     "output_type": "display_data"
    }
   ],
   "source": [
    "plt.scatter(x,y_noise,c='c')\n",
    "plt.scatter(x,model(x),c='r')\n",
    "plt.show()"
   ]
  },
  {
   "cell_type": "code",
   "execution_count": 51,
   "metadata": {},
   "outputs": [],
   "source": [
    "def MSE_loss(actual,pred):\n",
    "    error=actual-pred\n",
    "    squared_error=tf.square(error)\n",
    "    mse=tf.reduce_mean(error)\n",
    "    return mse\n"
   ]
  },
  {
   "cell_type": "code",
   "execution_count": 52,
   "metadata": {},
   "outputs": [],
   "source": [
    "def train(model,x,y,learning_rate):\n",
    "    with tf.GradientTape() as tape:\n",
    "        current_loss=MSE_loss(y,model(x))\n",
    "        dw_dx,db_dx=tape.gradient(current_loss,[model.w,model.b])\n",
    "        model.w.assign_sub(learning_rate*dw_dx)\n",
    "        model.b.assign_sub(learning_rate*db_dx)\n",
    "        "
   ]
  },
  {
   "cell_type": "code",
   "execution_count": 53,
   "metadata": {},
   "outputs": [
    {
     "name": "stdout",
     "output_type": "stream",
     "text": [
      " initial loss 2.0004875659942627\n",
      "initial weights 4.0 and biased 0.0\n"
     ]
    }
   ],
   "source": [
    "wb=[]\n",
    "bs=[]\n",
    "epochs=100\n",
    "init_loss=MSE_loss(y,model(x))\n",
    "print(f\" initial loss {init_loss}\")\n",
    "w=model.w.numpy()\n",
    "b=model.b.numpy()\n",
    "print(f\"initial weights {w} and biased {b}\")\n"
   ]
  },
  {
   "cell_type": "code",
   "execution_count": 54,
   "metadata": {},
   "outputs": [
    {
     "name": "stdout",
     "output_type": "stream",
     "text": [
      "epoch  0 loss = 1.9904875755310059 n weight3.999995231628418 biased 0.01000000536441803\n",
      "epoch  1 loss = 1.980487585067749 n weight3.999990463256836 biased 0.02000001072883606\n",
      "epoch  2 loss = 1.9704875946044922 n weight3.999985694885254 biased 0.03000001609325409\n",
      "epoch  3 loss = 1.9604876041412354 n weight3.999980926513672 biased 0.04000002145767212\n",
      "epoch  4 loss = 1.9504872560501099 n weight3.99997615814209 biased 0.05000002682209015\n",
      "epoch  5 loss = 1.9404875040054321 n weight3.999971389770508 biased 0.06000003218650818\n",
      "epoch  6 loss = 1.9304875135421753 n weight3.999966621398926 biased 0.07000003755092621\n",
      "epoch  7 loss = 1.9204875230789185 n weight3.9999618530273438 biased 0.08000004291534424\n",
      "epoch  8 loss = 1.910487413406372 n weight3.9999570846557617 biased 0.09000004827976227\n",
      "epoch  9 loss = 1.9004875421524048 n weight3.9999523162841797 biased 0.1000000536441803\n",
      "epoch  10 loss = 1.8904873132705688 n weight3.9999475479125977 biased 0.11000005900859833\n",
      "epoch  11 loss = 1.8804875612258911 n weight3.9999427795410156 biased 0.12000006437301636\n",
      "epoch  12 loss = 1.8704873323440552 n weight3.9999380111694336 biased 0.1300000697374344\n",
      "epoch  13 loss = 1.8604875802993774 n weight3.9999332427978516 biased 0.14000007510185242\n",
      "epoch  14 loss = 1.8504875898361206 n weight3.9999284744262695 biased 0.15000008046627045\n",
      "epoch  15 loss = 1.8404873609542847 n weight3.9999237060546875 biased 0.16000008583068848\n",
      "epoch  16 loss = 1.8304873704910278 n weight3.9999189376831055 biased 0.1700000911951065\n",
      "epoch  17 loss = 1.8204872608184814 n weight3.9999141693115234 biased 0.18000009655952454\n",
      "epoch  18 loss = 1.8104872703552246 n weight3.9999094009399414 biased 0.19000010192394257\n",
      "epoch  19 loss = 1.8004872798919678 n weight3.9999046325683594 biased 0.2000001072883606\n",
      "epoch  20 loss = 1.7904874086380005 n weight3.9998998641967773 biased 0.21000011265277863\n",
      "epoch  21 loss = 1.7804875373840332 n weight3.9998950958251953 biased 0.22000011801719666\n",
      "epoch  22 loss = 1.7704874277114868 n weight3.9998903274536133 biased 0.23000012338161469\n",
      "epoch  23 loss = 1.76048743724823 n weight3.9998855590820312 biased 0.24000012874603271\n",
      "epoch  24 loss = 1.7504873275756836 n weight3.999880790710449 biased 0.25000011920928955\n",
      "epoch  25 loss = 1.7404873371124268 n weight3.999876022338867 biased 0.2600001096725464\n",
      "epoch  26 loss = 1.73048734664917 n weight3.999871253967285 biased 0.2700001001358032\n",
      "epoch  27 loss = 1.7204874753952026 n weight3.999866485595703 biased 0.28000009059906006\n",
      "epoch  28 loss = 1.7104876041412354 n weight3.999861717224121 biased 0.2900000810623169\n",
      "epoch  29 loss = 1.7004873752593994 n weight3.999856948852539 biased 0.30000007152557373\n",
      "epoch  30 loss = 1.690487265586853 n weight3.999852180480957 biased 0.31000006198883057\n",
      "epoch  31 loss = 1.6804873943328857 n weight3.999847412109375 biased 0.3200000524520874\n",
      "epoch  32 loss = 1.670487403869629 n weight3.999842643737793 biased 0.33000004291534424\n",
      "epoch  33 loss = 1.6604872941970825 n weight3.999837875366211 biased 0.3400000333786011\n",
      "epoch  34 loss = 1.6504875421524048 n weight3.999833106994629 biased 0.3500000238418579\n",
      "epoch  35 loss = 1.640487551689148 n weight3.999828338623047 biased 0.36000001430511475\n",
      "epoch  36 loss = 1.6304874420166016 n weight3.999823570251465 biased 0.3700000047683716\n",
      "epoch  37 loss = 1.6204874515533447 n weight3.999818801879883 biased 0.3799999952316284\n",
      "epoch  38 loss = 1.6104875802993774 n weight3.999814033508301 biased 0.38999998569488525\n",
      "epoch  39 loss = 1.6004875898361206 n weight3.9998092651367188 biased 0.3999999761581421\n",
      "epoch  40 loss = 1.5904875993728638 n weight3.9998044967651367 biased 0.4099999666213989\n",
      "epoch  41 loss = 1.5804874897003174 n weight3.9997997283935547 biased 0.41999995708465576\n",
      "epoch  42 loss = 1.570487380027771 n weight3.9997949600219727 biased 0.4299999475479126\n",
      "epoch  43 loss = 1.5604873895645142 n weight3.9997901916503906 biased 0.43999993801116943\n",
      "epoch  44 loss = 1.5504875183105469 n weight3.9997854232788086 biased 0.44999992847442627\n",
      "epoch  45 loss = 1.54048752784729 n weight3.9997806549072266 biased 0.4599999189376831\n",
      "epoch  46 loss = 1.5304875373840332 n weight3.9997758865356445 biased 0.46999990940093994\n",
      "epoch  47 loss = 1.5204875469207764 n weight3.9997711181640625 biased 0.4799998998641968\n",
      "epoch  48 loss = 1.5104875564575195 n weight3.9997663497924805 biased 0.4899998903274536\n",
      "epoch  49 loss = 1.5004875659942627 n weight3.9997615814208984 biased 0.49999988079071045\n",
      "epoch  50 loss = 1.4904875755310059 n weight3.9997568130493164 biased 0.5099998712539673\n",
      "epoch  51 loss = 1.480487585067749 n weight3.9997520446777344 biased 0.5199998617172241\n",
      "epoch  52 loss = 1.4704874753952026 n weight3.9997472763061523 biased 0.529999852180481\n",
      "epoch  53 loss = 1.4604874849319458 n weight3.9997425079345703 biased 0.5399998426437378\n",
      "epoch  54 loss = 1.450487494468689 n weight3.9997377395629883 biased 0.5499998331069946\n",
      "epoch  55 loss = 1.4404876232147217 n weight3.9997329711914062 biased 0.5599998235702515\n",
      "epoch  56 loss = 1.4304877519607544 n weight3.999728202819824 biased 0.5699998140335083\n",
      "epoch  57 loss = 1.4204875230789185 n weight3.999723434448242 biased 0.5799998044967651\n",
      "epoch  58 loss = 1.4104877710342407 n weight3.99971866607666 biased 0.589999794960022\n",
      "epoch  59 loss = 1.4004875421524048 n weight3.999713897705078 biased 0.5999997854232788\n",
      "epoch  60 loss = 1.390487790107727 n weight3.999709129333496 biased 0.6099997758865356\n",
      "epoch  61 loss = 1.3804875612258911 n weight3.999704360961914 biased 0.6199997663497925\n",
      "epoch  62 loss = 1.3704875707626343 n weight3.999699592590332 biased 0.6299997568130493\n",
      "epoch  63 loss = 1.3604875802993774 n weight3.99969482421875 biased 0.6399997472763062\n",
      "epoch  64 loss = 1.3504879474639893 n weight3.999690055847168 biased 0.649999737739563\n",
      "epoch  65 loss = 1.3404875993728638 n weight3.999685287475586 biased 0.6599997282028198\n",
      "epoch  66 loss = 1.330487847328186 n weight3.999680519104004 biased 0.6699997186660767\n",
      "epoch  67 loss = 1.32048761844635 n weight3.999675750732422 biased 0.6799997091293335\n",
      "epoch  68 loss = 1.3104876279830933 n weight3.99967098236084 biased 0.6899996995925903\n",
      "epoch  69 loss = 1.300487756729126 n weight3.999666213989258 biased 0.6999996900558472\n",
      "epoch  70 loss = 1.29048752784729 n weight3.999661445617676 biased 0.709999680519104\n",
      "epoch  71 loss = 1.2804876565933228 n weight3.9996566772460938 biased 0.7199996709823608\n",
      "epoch  72 loss = 1.270487904548645 n weight3.9996519088745117 biased 0.7299996614456177\n",
      "epoch  73 loss = 1.260487675666809 n weight3.9996471405029297 biased 0.7399996519088745\n",
      "epoch  74 loss = 1.2504878044128418 n weight3.9996423721313477 biased 0.7499996423721313\n",
      "epoch  75 loss = 1.240487813949585 n weight3.9996376037597656 biased 0.7599996328353882\n",
      "epoch  76 loss = 1.2304878234863281 n weight3.9996328353881836 biased 0.769999623298645\n",
      "epoch  77 loss = 1.2204877138137817 n weight3.9996280670166016 biased 0.7799996137619019\n",
      "epoch  78 loss = 1.210487723350525 n weight3.9996232986450195 biased 0.7899996042251587\n",
      "epoch  79 loss = 1.2004878520965576 n weight3.9996185302734375 biased 0.7999995946884155\n",
      "epoch  80 loss = 1.1904877424240112 n weight3.9996137619018555 biased 0.8099995851516724\n",
      "epoch  81 loss = 1.1804876327514648 n weight3.9996089935302734 biased 0.8199995756149292\n",
      "epoch  82 loss = 1.1704877614974976 n weight3.9996042251586914 biased 0.829999566078186\n",
      "epoch  83 loss = 1.1604876518249512 n weight3.9995994567871094 biased 0.8399995565414429\n",
      "epoch  84 loss = 1.1504878997802734 n weight3.9995946884155273 biased 0.8499995470046997\n",
      "epoch  85 loss = 1.140487790107727 n weight3.9995899200439453 biased 0.8599995374679565\n",
      "epoch  86 loss = 1.1304879188537598 n weight3.9995851516723633 biased 0.8699995279312134\n",
      "epoch  87 loss = 1.1204878091812134 n weight3.9995803833007812 biased 0.8799995183944702\n",
      "epoch  88 loss = 1.1104878187179565 n weight3.999575614929199 biased 0.889999508857727\n",
      "epoch  89 loss = 1.1004878282546997 n weight3.999570846557617 biased 0.8999994993209839\n",
      "epoch  90 loss = 1.0904879570007324 n weight3.999566078186035 biased 0.9099994897842407\n",
      "epoch  91 loss = 1.080487847328186 n weight3.999561309814453 biased 0.9199994802474976\n",
      "epoch  92 loss = 1.0704878568649292 n weight3.999556541442871 biased 0.9299994707107544\n",
      "epoch  93 loss = 1.0604878664016724 n weight3.999551773071289 biased 0.9399994611740112\n",
      "epoch  94 loss = 1.050487995147705 n weight3.999547004699707 biased 0.9499994516372681\n",
      "epoch  95 loss = 1.0404880046844482 n weight3.999542236328125 biased 0.9599994421005249\n",
      "epoch  96 loss = 1.0304878950119019 n weight3.999537467956543 biased 0.9699994325637817\n",
      "epoch  97 loss = 1.020487904548645 n weight3.999532699584961 biased 0.9799994230270386\n",
      "epoch  98 loss = 1.0104881525039673 n weight3.999527931213379 biased 0.9899994134902954\n",
      "epoch  99 loss = 1.0004878044128418 n weight3.999523162841797 biased 0.9999994039535522\n"
     ]
    }
   ],
   "source": [
    "for epoch in range(epochs):\n",
    "    train(model,x,y,0.01)\n",
    "    loss=MSE_loss(y,model(x))\n",
    "    # if loss >0.01 and loss < 0.12:\n",
    "    #     break\n",
    "    wb.append(model.w.numpy())\n",
    "    bs.append(model.b.numpy())\n",
    "    \n",
    "    print(f\"epoch  {epoch} loss = {loss} n weight{wb[-1]} biased {bs[-1]}\" )\n"
   ]
  },
  {
   "cell_type": "code",
   "execution_count": 55,
   "metadata": {},
   "outputs": [
    {
     "data": {
      "image/png": "[encoded data removed]",
      "text/plain": [
       "<Figure size 432x288 with 1 Axes>"
      ]
     },
     "metadata": {
      "needs_background": "light"
     },
     "output_type": "display_data"
    }
   ],
   "source": [
    "plt.scatter(x,y_noise,c='c')\n",
    "plt.scatter(x,model(x),c='r')\n",
    "plt.show()"
   ]
  },
  {
   "cell_type": "code",
   "execution_count": 56,
   "metadata": {},
   "outputs": [
    {
     "data": {
      "text/plain": [
       "(<tf.Variable 'Variable:0' shape=() dtype=float32, numpy=0.9999994>,\n",
       " <tf.Variable 'Variable:0' shape=() dtype=float32, numpy=3.9995232>)"
      ]
     },
     "execution_count": 56,
     "metadata": {},
     "output_type": "execute_result"
    }
   ],
   "source": [
    "model.b,model.w"
   ]
  },
  {
   "cell_type": "code",
   "execution_count": 57,
   "metadata": {},
   "outputs": [
    {
     "data": {
      "text/plain": [
       "<tf.Variable 'Variable:0' shape=() dtype=float32, numpy=0.9999994>"
      ]
     },
     "execution_count": 57,
     "metadata": {},
     "output_type": "execute_result"
    }
   ],
   "source": [
    "model.b"
   ]
  },
  {
   "cell_type": "code",
   "execution_count": 58,
   "metadata": {},
   "outputs": [
    {
     "data": {
      "text/plain": [
       "(2.0, 3.0)"
      ]
     },
     "execution_count": 58,
     "metadata": {},
     "output_type": "execute_result"
    }
   ],
   "source": [
    "True_b,True_w"
   ]
  },
  {
   "cell_type": "code",
   "execution_count": null,
   "metadata": {},
   "outputs": [],
   "source": []
  },
  {
   "cell_type": "code",
   "execution_count": 59,
   "metadata": {},
   "outputs": [],
   "source": [
    "import tensorflow as tf"
   ]
  },
  {
   "cell_type": "code",
   "execution_count": 60,
   "metadata": {},
   "outputs": [
    {
     "data": {
      "text/plain": [
       "<tf.Tensor: shape=(), dtype=float32, numpy=4.0>"
      ]
     },
     "execution_count": 60,
     "metadata": {},
     "output_type": "execute_result"
    }
   ],
   "source": [
    "tf.constant(4.)"
   ]
  },
  {
   "cell_type": "code",
   "execution_count": 61,
   "metadata": {},
   "outputs": [
    {
     "data": {
      "text/plain": [
       "<tf.Variable 'Variable:0' shape=() dtype=float32, numpy=9.0>"
      ]
     },
     "execution_count": 61,
     "metadata": {},
     "output_type": "execute_result"
    }
   ],
   "source": [
    "tf.Variable(9.)"
   ]
  },
  {
   "cell_type": "code",
   "execution_count": 82,
   "metadata": {},
   "outputs": [
    {
     "data": {
      "text/plain": [
       "<tf.Tensor: shape=(2000,), dtype=float32, numpy=\n",
       "array([-1.5561273 , -0.23408994, -0.9824501 , ...,  1.2632347 ,\n",
       "       -0.04850296,  0.6286908 ], dtype=float32)>"
      ]
     },
     "execution_count": 82,
     "metadata": {},
     "output_type": "execute_result"
    }
   ],
   "source": [
    "x=tf.random.normal(shape=[2000])\n",
    "x"
   ]
  },
  {
   "cell_type": "code",
   "execution_count": 83,
   "metadata": {},
   "outputs": [],
   "source": [
    "noise=tf.random.normal(shape=[2000])\n",
    "True_w=3\n",
    "True_b=4"
   ]
  },
  {
   "cell_type": "code",
   "execution_count": 84,
   "metadata": {},
   "outputs": [],
   "source": [
    "y=True_w*x+True_b"
   ]
  },
  {
   "cell_type": "code",
   "execution_count": 85,
   "metadata": {},
   "outputs": [
    {
     "data": {
      "text/plain": [
       "<tf.Tensor: shape=(2000,), dtype=float32, numpy=\n",
       "array([-0.6683817,  3.2977302,  1.0526495, ...,  7.7897043,  3.8544912,\n",
       "        5.886072 ], dtype=float32)>"
      ]
     },
     "execution_count": 85,
     "metadata": {},
     "output_type": "execute_result"
    }
   ],
   "source": [
    "y"
   ]
  },
  {
   "cell_type": "code",
   "execution_count": 86,
   "metadata": {},
   "outputs": [],
   "source": [
    "y_noise=y+noise"
   ]
  },
  {
   "cell_type": "code",
   "execution_count": 87,
   "metadata": {},
   "outputs": [],
   "source": [
    "import matplotlib.pyplot as plt"
   ]
  },
  {
   "cell_type": "code",
   "execution_count": 88,
   "metadata": {},
   "outputs": [
    {
     "data": {
      "image/png": "[encoded data removed]",
      "text/plain": [
       "<Figure size 432x288 with 1 Axes>"
      ]
     },
     "metadata": {
      "needs_background": "light"
     },
     "output_type": "display_data"
    }
   ],
   "source": [
    "plt.scatter(x,y,c='r')\n",
    "plt.scatter(x,y_noise,c='b')\n",
    "plt.show()"
   ]
  },
  {
   "cell_type": "code",
   "execution_count": 101,
   "metadata": {},
   "outputs": [],
   "source": [
    "class Mymodel(tf.Module):\n",
    "    def __init__(self,**kwargs):\n",
    "        super().__init__(**kwargs)\n",
    "        self.w=tf.Variable(4.)\n",
    "        self.b=tf.Variable(3.)\n",
    "    def __call__(self,x):\n",
    "        return self.w*x+self.b"
   ]
  },
  {
   "cell_type": "code",
   "execution_count": 102,
   "metadata": {},
   "outputs": [
    {
     "data": {
      "text/plain": [
       "<tf.Tensor: shape=(), dtype=float32, numpy=39.0>"
      ]
     },
     "execution_count": 102,
     "metadata": {},
     "output_type": "execute_result"
    }
   ],
   "source": [
    "model=Mymodel()\n",
    "model(9)"
   ]
  },
  {
   "cell_type": "code",
   "execution_count": 103,
   "metadata": {},
   "outputs": [],
   "source": [
    "def MSE_loss(actual,predict):\n",
    "    error=tf.subtract(actual,predict)\n",
    "    squared_error=tf.square(error)\n",
    "    return tf.reduce_mean(squared_error)"
   ]
  },
  {
   "cell_type": "code",
   "execution_count": 104,
   "metadata": {},
   "outputs": [
    {
     "data": {
      "text/plain": [
       "<tf.Tensor: shape=(), dtype=float32, numpy=1.9970872>"
      ]
     },
     "execution_count": 104,
     "metadata": {},
     "output_type": "execute_result"
    }
   ],
   "source": [
    "MSE_loss(y,model(x))"
   ]
  },
  {
   "cell_type": "code",
   "execution_count": 105,
   "metadata": {},
   "outputs": [],
   "source": [
    "def train(model,x,y,learning_rate):\n",
    "    with tf.GradientTape() as tape:\n",
    "        current_loss=MSE_loss(y,model(x))\n",
    "        dc_dw,dc_db=tape.gradient(current_loss,[model.w,model.b])\n",
    "        model.w.assign_sub(learning_rate*dc_dw)\n",
    "        model.b.assign_sub(learning_rate*dc_db)"
   ]
  },
  {
   "cell_type": "code",
   "execution_count": 106,
   "metadata": {},
   "outputs": [
    {
     "name": "stdout",
     "output_type": "stream",
     "text": [
      "loss 1.279065728187561\n",
      "loss 0.8191977739334106\n",
      "loss 0.5246684551239014\n",
      "loss 0.3360327184200287\n",
      "loss 0.21521785855293274\n",
      "loss 0.1378399282693863\n",
      "loss 0.08828198909759521\n",
      "loss 0.0565418116748333\n",
      "loss 0.036213219165802\n",
      "loss 0.02319342829287052\n",
      "loss 0.014854656532406807\n",
      "loss 0.009513942524790764\n",
      "loss 0.006093404721468687\n",
      "loss 0.003902633674442768\n",
      "loss 0.002499524038285017\n",
      "loss 0.0016008811071515083\n",
      "loss 0.0010253159562125802\n",
      "loss 0.0006566897500306368\n",
      "loss 0.00042059129918925464\n",
      "loss 0.000269378419034183\n",
      "loss 0.00017252593534067273\n",
      "loss 0.0001104999755625613\n",
      "loss 7.077255577314645e-05\n",
      "loss 4.532681487035006e-05\n",
      "loss 2.9032182283117436e-05\n",
      "loss 1.8594695575302467e-05\n",
      "loss 1.1909054592251778e-05\n",
      "loss 7.628146249771817e-06\n",
      "loss 4.8856090870685875e-06\n",
      "loss 3.129207470919937e-06\n",
      "loss 2.004127736654482e-06\n",
      "loss 1.28365388718521e-06\n",
      "loss 8.221651910389483e-07\n",
      "loss 5.265271170173946e-07\n",
      "loss 3.372575747562223e-07\n",
      "loss 2.1606557254472136e-07\n",
      "loss 1.3838479162586736e-07\n",
      "loss 8.862524936148475e-08\n",
      "loss 5.6750504739966345e-08\n",
      "loss 3.637369161424431e-08\n",
      "loss 2.330288495500099e-08\n",
      "loss 1.4919999458129496e-08\n",
      "loss 9.58321244581839e-09\n",
      "loss 6.1378071514184285e-09\n",
      "loss 3.928086744764414e-09\n",
      "loss 2.504728646712806e-09\n",
      "loss 1.6078883779968578e-09\n",
      "loss 1.0354480606267202e-09\n",
      "loss 6.649327199959032e-10\n",
      "loss 4.2258366250713664e-10\n",
      "loss 2.7290533721746613e-10\n",
      "loss 1.7268965424310778e-10\n",
      "loss 1.0926450716430836e-10\n",
      "loss 7.118097777869536e-11\n",
      "loss 4.5540217430417584e-11\n",
      "loss 2.9288172581631855e-11\n",
      "loss 1.9346316215695936e-11\n",
      "loss 1.265473750095003e-11\n",
      "loss 8.277481998442138e-12\n",
      "loss 4.898964914290538e-12\n",
      "loss 3.534353148690328e-12\n",
      "loss 2.3761116772075264e-12\n",
      "loss 1.4761667365900677e-12\n",
      "loss 7.934772630613374e-13\n",
      "loss 4.989715238212789e-13\n",
      "loss 4.989715238212789e-13\n",
      "loss 4.989715238212789e-13\n",
      "loss 4.989715238212789e-13\n",
      "loss 4.989715238212789e-13\n",
      "loss 4.989715238212789e-13\n",
      "loss 4.989715238212789e-13\n",
      "loss 4.989715238212789e-13\n",
      "loss 4.989715238212789e-13\n",
      "loss 4.989715238212789e-13\n",
      "loss 4.989715238212789e-13\n",
      "loss 4.989715238212789e-13\n",
      "loss 4.989715238212789e-13\n",
      "loss 4.989715238212789e-13\n",
      "loss 4.989715238212789e-13\n",
      "loss 4.989715238212789e-13\n",
      "loss 4.989715238212789e-13\n",
      "loss 4.989715238212789e-13\n",
      "loss 4.989715238212789e-13\n",
      "loss 4.989715238212789e-13\n",
      "loss 4.989715238212789e-13\n",
      "loss 4.989715238212789e-13\n",
      "loss 4.989715238212789e-13\n",
      "loss 4.989715238212789e-13\n",
      "loss 4.989715238212789e-13\n",
      "loss 4.989715238212789e-13\n",
      "loss 4.989715238212789e-13\n",
      "loss 4.989715238212789e-13\n",
      "loss 4.989715238212789e-13\n",
      "loss 4.989715238212789e-13\n",
      "loss 4.989715238212789e-13\n",
      "loss 4.989715238212789e-13\n",
      "loss 4.989715238212789e-13\n",
      "loss 4.989715238212789e-13\n",
      "loss 4.989715238212789e-13\n",
      "loss 4.989715238212789e-13\n"
     ]
    }
   ],
   "source": [
    "w=[]\n",
    "b=[]\n",
    "for i in range(100):\n",
    "    train(model,x,y,0.1)\n",
    "    print(f\"loss {MSE_loss(y,model(x))}\")"
   ]
  },
  {
   "cell_type": "code",
   "execution_count": 109,
   "metadata": {},
   "outputs": [
    {
     "data": {
      "image/png": "[encoded data removed]",
      "text/plain": [
       "<Figure size 432x288 with 1 Axes>"
      ]
     },
     "metadata": {
      "needs_background": "light"
     },
     "output_type": "display_data"
    }
   ],
   "source": [
    "plt.scatter(x,y,c='r')\n",
    "plt.scatter(x,model(x),c='b')\n",
    "plt.show()"
   ]
  },
  {
   "cell_type": "code",
   "execution_count": 110,
   "metadata": {},
   "outputs": [
    {
     "data": {
      "image/png": "[encoded data removed]",
      "text/plain": [
       "<Figure size 432x288 with 1 Axes>"
      ]
     },
     "metadata": {
      "needs_background": "light"
     },
     "output_type": "display_data"
    }
   ],
   "source": [
    "plt.scatter(x,y,c='r')\n",
    "#plt.scatter(x,model(x),c='b')\n",
    "plt.show()"
   ]
  },
  {
   "cell_type": "code",
   "execution_count": 112,
   "metadata": {},
   "outputs": [
    {
     "name": "stdout",
     "output_type": "stream",
     "text": [
      "4 3\n",
      "<tf.Variable 'Variable:0' shape=() dtype=float32, numpy=3.9999995> <tf.Variable 'Variable:0' shape=() dtype=float32, numpy=3.0000005>\n"
     ]
    }
   ],
   "source": [
    "print(True_b,True_w)\n",
    "print(model.b,model.w)"
   ]
  },
  {
   "cell_type": "code",
   "execution_count": 1,
   "metadata": {},
   "outputs": [],
   "source": [
    "import tensorflow as tf"
   ]
  },
  {
   "cell_type": "code",
   "execution_count": 4,
   "metadata": {},
   "outputs": [],
   "source": [
    "x=tf.random.normal(shape=[1000])\n",
    "noise=tf.random.normal(shape=[1000])"
   ]
  },
  {
   "cell_type": "code",
   "execution_count": 6,
   "metadata": {},
   "outputs": [],
   "source": [
    "w=tf.constant(4.)\n",
    "b=tf.constant(3.)\n",
    "y=tf.multiply(w,x)+b\n",
    "y_noise=tf.multiply(w,x)+b+noise"
   ]
  },
  {
   "cell_type": "code",
   "execution_count": 7,
   "metadata": {},
   "outputs": [],
   "source": [
    "import matplotlib.pyplot as plt"
   ]
  },
  {
   "cell_type": "code",
   "execution_count": 25,
   "metadata": {},
   "outputs": [
    {
     "data": {
      "image/png": "[encoded data removed]",
      "text/plain": [
       "<Figure size 432x288 with 1 Axes>"
      ]
     },
     "metadata": {
      "needs_background": "light"
     },
     "output_type": "display_data"
    }
   ],
   "source": [
    "plt.scatter(x,y,c='r')\n",
    "plt.scatter(x,y_noise,c='b')\n",
    "plt.show()"
   ]
  },
  {
   "cell_type": "code",
   "execution_count": 9,
   "metadata": {},
   "outputs": [],
   "source": [
    "class MyModel(tf.Module):\n",
    "    def __init__(self,**kwargs):\n",
    "        super().__init__(**kwargs)\n",
    "        self.w=tf.Variable(6.)\n",
    "        self.b=tf.Variable(2.)\n",
    "    def __call__(self,x):\n",
    "        return tf.multiply(self.w,x)+self.b"
   ]
  },
  {
   "cell_type": "code",
   "execution_count": 10,
   "metadata": {},
   "outputs": [],
   "source": [
    "model=MyModel()"
   ]
  },
  {
   "cell_type": "code",
   "execution_count": 11,
   "metadata": {},
   "outputs": [
    {
     "data": {
      "text/plain": [
       "<tf.Tensor: shape=(), dtype=float32, numpy=50.0>"
      ]
     },
     "execution_count": 11,
     "metadata": {},
     "output_type": "execute_result"
    }
   ],
   "source": [
    "model(8)"
   ]
  },
  {
   "cell_type": "code",
   "execution_count": 12,
   "metadata": {},
   "outputs": [],
   "source": [
    "def MSe(actual,predict):\n",
    "    error=tf.subtract(actual,predict)\n",
    "    squared_error=tf.square(error)\n",
    "    return tf.reduce_mean(squared_error)"
   ]
  },
  {
   "cell_type": "code",
   "execution_count": 14,
   "metadata": {},
   "outputs": [
    {
     "data": {
      "text/plain": [
       "<tf.Tensor: shape=(), dtype=float32, numpy=5.6831174>"
      ]
     },
     "execution_count": 14,
     "metadata": {},
     "output_type": "execute_result"
    }
   ],
   "source": [
    "MSe(y_noise,model(x))"
   ]
  },
  {
   "cell_type": "code",
   "execution_count": 19,
   "metadata": {},
   "outputs": [],
   "source": [
    "def train(model,x,y,learning_rate):\n",
    "    with tf.GradientTape() as tape:\n",
    "        current_error=MSe(y,model(x))\n",
    "        dc_dw,dc_db=tape.gradient(current_error,[model.w,model.b])\n",
    "        model.w.assign_sub(learning_rate*dc_dw)\n",
    "        model.b.assign_sub(learning_rate*dc_db)\n",
    "\n"
   ]
  },
  {
   "cell_type": "code",
   "execution_count": 20,
   "metadata": {},
   "outputs": [],
   "source": [
    "for i in range(1000):\n",
    "    train(model,x,y,0.1)\n",
    "    "
   ]
  },
  {
   "cell_type": "code",
   "execution_count": 23,
   "metadata": {},
   "outputs": [
    {
     "data": {
      "image/png": "[encoded data removed]",
      "text/plain": [
       "<Figure size 432x288 with 1 Axes>"
      ]
     },
     "metadata": {
      "needs_background": "light"
     },
     "output_type": "display_data"
    }
   ],
   "source": [
    "plt.scatter(model(x),y_noise,c='r')\n",
    "plt.scatter(x,y_noise,c='b')\n",
    "plt.show()"
   ]
  },
  {
   "cell_type": "code",
   "execution_count": 22,
   "metadata": {},
   "outputs": [
    {
     "name": "stdout",
     "output_type": "stream",
     "text": [
      "<tf.Variable 'Variable:0' shape=() dtype=float32, numpy=4.000001> <tf.Variable 'Variable:0' shape=() dtype=float32, numpy=2.9999995>\n"
     ]
    },
    {
     "data": {
      "text/plain": [
       "(<tf.Tensor: shape=(), dtype=float32, numpy=4.0>,\n",
       " <tf.Tensor: shape=(), dtype=float32, numpy=3.0>)"
      ]
     },
     "execution_count": 22,
     "metadata": {},
     "output_type": "execute_result"
    }
   ],
   "source": [
    "print(model.w,model.b)\n",
    "w,b"
   ]
  },
  {
   "cell_type": "code",
   "execution_count": null,
   "metadata": {},
   "outputs": [],
   "source": []
  }
 ],
 "metadata": {
  "kernelspec": {
   "display_name": "base",
   "language": "python",
   "name": "python3"
  },
  "language_info": {
   "codemirror_mode": {
    "name": "ipython",
    "version": 3
   },
   "file_extension": ".py",
   "mimetype": "text/x-python",
   "name": "python",
   "nbconvert_exporter": "python",
   "pygments_lexer": "ipython3",
   "version": "3.8.5"
  },
  "orig_nbformat": 4,
  "vscode": {
   "interpreter": {
    "hash": "49dc65a12af44c144fa20877bc914b34e80c2deae3989fd7a634dfb096a0b906"
   }
  }
 },
 "nbformat": 4,
 "nbformat_minor": 2
}
