{
 "cells": [
  {
   "cell_type": "code",
   "execution_count": 2,
   "metadata": {},
   "outputs": [],
   "source": [
    "from urllib.request import urlopen\n",
    "from bs4 import BeautifulSoup"
   ]
  },
  {
   "cell_type": "code",
   "execution_count": 3,
   "metadata": {},
   "outputs": [
    {
     "data": {
      "text/plain": [
       "'An Interesting Title'"
      ]
     },
     "execution_count": 3,
     "metadata": {},
     "output_type": "execute_result"
    }
   ],
   "source": [
    "html=urlopen('http://www.pythonscraping.com/pages/page1.html')\n",
    "bs=BeautifulSoup(html.read(),'html.parser')\n",
    "bs.h1.get_text()"
   ]
  },
  {
   "cell_type": "code",
   "execution_count": 4,
   "metadata": {},
   "outputs": [
    {
     "name": "stdout",
     "output_type": "stream",
     "text": [
      "The server could not be found!\n"
     ]
    }
   ],
   "source": [
    "from urllib.request import urlopen\n",
    "from urllib.error import HTTPError\n",
    "from urllib.error import URLError\n",
    "try:\n",
    " html = urlopen('https://pythonscrapingthisurldoesnotexist.com')\n",
    "except HTTPError as e:\n",
    " print(e)\n",
    "except URLError as e:\n",
    " print('The server could not be found!')\n",
    "else:\n",
    " print('It Worked!')\n"
   ]
  },
  {
   "cell_type": "code",
   "execution_count": 5,
   "metadata": {},
   "outputs": [
    {
     "name": "stdout",
     "output_type": "stream",
     "text": [
      "The server could not be found!\n"
     ]
    }
   ],
   "source": [
    "from urllib.request import urlopen\n",
    "from urllib.error import HTTPError\n",
    "from urllib.error import URLError\n",
    "try:\n",
    " html = urlopen('https://pythonscrapingthisurldoesnotexist.com')\n",
    "except HTTPError as e:\n",
    " print(e)\n",
    "except URLError as e:\n",
    " print('The server could not be found!')\n",
    "except Exception as e:\n",
    " print(e)\n",
    "else:\n",
    " print('It Worked!')\n"
   ]
  },
  {
   "cell_type": "code",
   "execution_count": 6,
   "metadata": {},
   "outputs": [
    {
     "data": {
      "text/plain": [
       "b'<!DOCTYPE html><html><head><link rel=\"apple-touch-icon\" sizes=\"180x180\" href=\"/images/favicon/apple-touch-icon.png\"/><link rel=\"icon\" type=\"image/png\" sizes=\"32x32\" href=\"/images/favicon/favicon-32x32.png\"/><link rel=\"icon\" type=\"image/png\" sizes=\"16x16\" href=\"/images/favicon/favicon-16x16.png\"/><link rel=\"manifest\" href=\"/images/favicon/site.webmanifest\"/><link rel=\"stylesheet\" href=\"https://cdnjs.cloudflare.com/ajax/libs/font-awesome/5.15.3/css/all.min.css\" integrity=\"sha512-iBBXm8fW90+nuLcSKlbmrPcLa0OT92xO1BIsZ+ywDWZCvqsWgccV3gFoRBv0z+8dLJgyAHIhR35VZc2oM/gI1w==\" crossorigin=\"anonymous\"/><link href=\"https://cdn.lineicons.com/3.0/lineicons.css\" rel=\"stylesheet\"/><script async=\"\" src=\"https://www.googletagmanager.com/gtag/js?id=UA-186883065-1\"></script><script>\\n            window.dataLayer = window.dataLayer || [];\\n            function gtag(){dataLayer.push(arguments);}\\n            gtag(\\'js\\', new Date());\\n            gtag(\\'config\\', \\'UA-186883065-1\\', {\\n              page_path: window.location.pathname,\\n            });\\n          </script><script>\\n            window.$_REVECHAT_API || (function(d, w) { var r = $_REVECHAT_API = function(c) {r._.push(c);}; \\n            w.__revechat_account=\\'5873652\\';w.__revechat_version=2;\\n            r._= []; var rc = d.createElement(\\'script\\'); rc.type = \\'text/javascript\\'; \\n            rc.async = true; rc.setAttribute(\\'charset\\', \\'utf-8\\');\\n            rc.src = (\\'https:\\' == document.location.protocol ? \\'https://\\' : \\'http://\\') + \\'static.revechat.com/widget/scripts/new-livechat.js?\\'+new Date().getTime();\\n            var s = d.getElementsByTagName(\\'script\\')[0]; s.parentNode.insertBefore(rc, s);\\n            })(document, window);\\n          </script><meta charSet=\"utf-8\"/><meta name=\"viewport\" content=\"width=device-width\"/><meta name=\"next-head-count\" content=\"2\"/><link rel=\"preload\" href=\"/_next/static/css/0826c197f715cdce6f47.css\" as=\"style\"/><link rel=\"stylesheet\" href=\"/_next/static/css/0826c197f715cdce6f47.css\" data-n-g=\"\"/><link rel=\"preload\" href=\"/_next/static/css/29a158fa6cf22d35e9af.css\" as=\"style\"/><link rel=\"stylesheet\" href=\"/_next/static/css/29a158fa6cf22d35e9af.css\" data-n-p=\"\"/><link rel=\"preload\" href=\"/_next/static/css/5ef76d57f4314dc4045a.css\" as=\"style\"/><link rel=\"stylesheet\" href=\"/_next/static/css/5ef76d57f4314dc4045a.css\" data-n-p=\"\"/><noscript data-n-css=\"\"></noscript><script defer=\"\" nomodule=\"\" src=\"/_next/static/chunks/polyfills-a40ef1678bae11e696dba45124eadd70.js\"></script><script src=\"/_next/static/chunks/webpack-390b0fb862d84d724f63.js\" defer=\"\"></script><script src=\"/_next/static/chunks/framework-6f156d06676f80cd912a.js\" defer=\"\"></script><script src=\"/_next/static/chunks/main-fc3dc493f834a08eb770.js\" defer=\"\"></script><script src=\"/_next/static/chunks/pages/_app-6ecce838da7b9e925033.js\" defer=\"\"></script><script src=\"/_next/static/chunks/247-fd54fbbfb85caf462038.js\" defer=\"\"></script><script src=\"/_next/static/chunks/154-8ffd8b63680ce43b1b3d.js\" defer=\"\"></script><script src=\"/_next/static/chunks/842-95e8cd99a288b131e8a5.js\" defer=\"\"></script><script src=\"/_next/static/chunks/566-06e3c37195adaa9386ef.js\" defer=\"\"></script><script src=\"/_next/static/chunks/pages/index-aaa5d380379a94fe33ff.js\" defer=\"\"></script><script src=\"/_next/static/iQ4Y6QMzR9MpC7vAFDmRX/_buildManifest.js\" defer=\"\"></script><script src=\"/_next/static/iQ4Y6QMzR9MpC7vAFDmRX/_ssgManifest.js\" defer=\"\"></script></head><body><div id=\"__next\"><div style=\"display:grid;place-items:center;width:100%;height:100vh\"><div style=\"display:grid;place-items:center\"><div class=\"react-spinner-material\" style=\"width:70px;height:70px;border-color:#e2801c;border-width:5px\"></div><div style=\"margin-top:25px;color:var(--primary-color);font-weight:500\">Loading...</div></div></div></div><script id=\"__NEXT_DATA__\" type=\"application/json\">{\"props\":{\"pageProps\":{}},\"page\":\"/\",\"query\":{},\"buildId\":\"iQ4Y6QMzR9MpC7vAFDmRX\",\"nextExport\":true,\"autoExport\":true,\"isFallback\":false,\"scriptLoader\":[]}</script><div id=\"modal-root\"></div></body></html>'"
      ]
     },
     "execution_count": 6,
     "metadata": {},
     "output_type": "execute_result"
    }
   ],
   "source": [
    "ineuronHtml=urlopen(\"https://learn.ineuron.ai/\")\n",
    "ineuronHtml.read()"
   ]
  },
  {
   "cell_type": "code",
   "execution_count": 7,
   "metadata": {},
   "outputs": [
    {
     "name": "stdout",
     "output_type": "stream",
     "text": [
      "[]\n"
     ]
    }
   ],
   "source": [
    "ineuronHtml=urlopen(\"https://ineuron.ai/course/Full-Stack-Data-Science-Masters\")\n",
    "IneuronBs=BeautifulSoup(ineuronHtml.read(),\"html.parser\")\n",
    "print(IneuronBs.find_all('title'))"
   ]
  },
  {
   "cell_type": "code",
   "execution_count": 8,
   "metadata": {},
   "outputs": [],
   "source": [
    "import re "
   ]
  },
  {
   "cell_type": "code",
   "execution_count": 9,
   "metadata": {},
   "outputs": [
    {
     "name": "stdout",
     "output_type": "stream",
     "text": [
      "length is the url 196\n",
      "/wiki/Main_Page\n",
      "/wiki/Special:Search\n",
      "/wiki/Help:Introduction\n",
      "/wiki/Special:MyContributions\n",
      "/wiki/Special:MyTalk\n",
      "/wiki/Main_Page\n",
      "/wiki/Wikipedia:Contents\n",
      "/wiki/Portal:Current_events\n",
      "/wiki/Special:Random\n",
      "/wiki/Wikipedia:About\n",
      "/wiki/Help:Contents\n",
      "/wiki/Help:Introduction\n",
      "/wiki/Wikipedia:Community_portal\n",
      "/wiki/Special:RecentChanges\n",
      "/wiki/Wikipedia:File_upload_wizard\n",
      "/wiki/Special:WhatLinksHere/Data_science\n",
      "/wiki/Special:RecentChangesLinked/Data_science\n",
      "/wiki/Wikipedia:File_Upload_Wizard\n",
      "/wiki/Special:SpecialPages\n",
      "/wiki/Data_science\n",
      "/wiki/Talk:Data_science\n",
      "/wiki/Data_science\n",
      "/wiki/Data_science\n",
      "/wiki/Information_science\n",
      "/wiki/File:PIA23792-1600x1200(1).jpg\n",
      "/wiki/File:PIA23792-1600x1200(1).jpg\n",
      "/wiki/Comet_NEOWISE\n",
      "/wiki/Astronomical_survey\n",
      "/wiki/Space_telescope\n",
      "/wiki/Wide-field_Infrared_Survey_Explorer\n",
      "/wiki/Interdisciplinary\n",
      "/wiki/Statistics\n",
      "/wiki/Scientific_computing\n",
      "/wiki/Scientific_method\n",
      "/wiki/Algorithm\n",
      "/wiki/Knowledge\n",
      "/wiki/Unstructured_data\n",
      "/wiki/Statistics\n",
      "/wiki/Data_analysis\n",
      "/wiki/Informatics\n",
      "/wiki/Scientific_method\n",
      "/wiki/Phenomena\n",
      "/wiki/Data\n",
      "/wiki/Mathematics\n",
      "/wiki/Computer_science\n",
      "/wiki/Information_science\n",
      "/wiki/Domain_knowledge\n",
      "/wiki/Computer_science\n",
      "/wiki/Turing_Award\n",
      "/wiki/Jim_Gray_(computer_scientist)\n",
      "/wiki/Empirical_research\n",
      "/wiki/Basic_research\n",
      "/wiki/Computational_science\n",
      "/wiki/Information_technology\n",
      "/wiki/Information_explosion\n",
      "/wiki/Interdisciplinarity\n",
      "/wiki/Academic_discipline\n",
      "/wiki/Big_data\n",
      "/wiki/Data_set\n",
      "/wiki/Problem_solving\n",
      "/wiki/Analysis\n",
      "/wiki/Data_visualization\n",
      "/wiki/Information_visualization\n",
      "/wiki/Data_sonification\n",
      "/wiki/Data_integration\n",
      "/wiki/Graphic_design\n",
      "/wiki/Complex_systems\n",
      "/wiki/Communication\n",
      "/wiki/Business\n",
      "/wiki/Nathan_Yau\n",
      "/wiki/Ben_Fry\n",
      "/wiki/Human%E2%80%93computer_interaction\n",
      "/wiki/Exploration\n",
      "/wiki/American_Statistical_Association\n",
      "/wiki/Database\n",
      "/wiki/Machine_learning\n",
      "/wiki/Distributed_computing\n",
      "/wiki/Nate_Silver\n",
      "/wiki/Vasant_Dhar\n",
      "/wiki/Andrew_Gelman\n",
      "/wiki/Columbia_University\n",
      "/wiki/David_Donoho\n",
      "/wiki/John_Tukey\n",
      "/wiki/C._F._Jeff_Wu\n",
      "/wiki/Montpellier_2_University\n",
      "/wiki/Peter_Naur\n",
      "/wiki/C._F._Jeff_Wu\n",
      "/wiki/Data_mining\n",
      "/wiki/Thomas_H._Davenport\n",
      "/wiki/DJ_Patil\n",
      "/wiki/New_York_Times\n",
      "/wiki/Boston_Globe\n",
      "/wiki/William_S._Cleveland\n",
      "/wiki/Committee_on_Data_for_Science_and_Technology\n",
      "/wiki/American_Statistical_Association\n",
      "/wiki/DJ_Patil\n",
      "/wiki/Jeff_Hammerbacher\n",
      "/wiki/National_Science_Board\n",
      "/wiki/Buzzword\n",
      "/wiki/Big_data\n",
      "/wiki/ODSC\n",
      "/wiki/Scientific_Data_(journal)\n",
      "/wiki/Women_in_Data\n",
      "/wiki/Journal_of_Computational_and_Graphical_Statistics\n",
      "/wiki/Doi_(identifier)\n",
      "/wiki/S2CID_(identifier)\n",
      "/wiki/Doi_(identifier)\n",
      "/wiki/S2CID_(identifier)\n",
      "/wiki/Doi_(identifier)\n",
      "/wiki/ISBN_(identifier)\n",
      "/wiki/Special:BookSources/9784431702085\n",
      "/wiki/Doi_(identifier)\n",
      "/wiki/ISSN_(identifier)\n",
      "/wiki/S2CID_(identifier)\n",
      "/wiki/ISBN_(identifier)\n",
      "/wiki/Special:BookSources/978-0-9825442-0-4\n",
      "/wiki/Doi_(identifier)\n",
      "/wiki/ISSN_(identifier)\n",
      "/wiki/PMID_(identifier)\n",
      "/wiki/S2CID_(identifier)\n",
      "/wiki/Harvard_Business_Review\n",
      "/wiki/PMID_(identifier)\n",
      "/wiki/Doi_(identifier)\n",
      "/wiki/American_Statistical_Association\n",
      "/wiki/Doi_(identifier)\n",
      "/wiki/S2CID_(identifier)\n",
      "/wiki/ISBN_(identifier)\n",
      "/wiki/Special:BookSources/0-12-241770-4\n",
      "/wiki/OCLC_(identifier)\n",
      "/wiki/Doi_(identifier)\n",
      "/wiki/Harvard_Business_Review\n",
      "/wiki/New_York_Times\n",
      "/wiki/New_York_City\n",
      "/wiki/Boston_Globe\n",
      "/wiki/Boston\n",
      "/wiki/Harvard_Business_Review\n",
      "/wiki/American_Statistical_Association\n",
      "/wiki/ISSN_(identifier)\n",
      "/wiki/Forbes\n",
      "/wiki/Template:Data\n",
      "/wiki/Template_talk:Data\n",
      "/wiki/Data_(computing)\n",
      "/wiki/Data_augmentation\n",
      "/wiki/Data_analysis\n",
      "/wiki/Data_archaeology\n",
      "/wiki/Big_data\n",
      "/wiki/Data_cleansing\n",
      "/wiki/Data_collection\n",
      "/wiki/Data_compression\n",
      "/wiki/Data_corruption\n",
      "/wiki/Data_curation\n",
      "/wiki/Data_degradation\n",
      "/wiki/Data_editing\n",
      "/wiki/Extract,_transform,_load\n",
      "/wiki/Extract,_load,_transform\n",
      "/wiki/Data_extraction\n",
      "/wiki/Data_transformation\n",
      "/wiki/Data_loading\n",
      "/wiki/Data_farming\n",
      "/wiki/Data_format_management\n",
      "/wiki/Data_fusion\n",
      "/wiki/Data_integration\n",
      "/wiki/Data_integrity\n",
      "/wiki/Data_library\n",
      "/wiki/Data_lineage\n",
      "/wiki/Data_loss\n",
      "/wiki/Data_management\n",
      "/wiki/Data_migration\n",
      "/wiki/Data_mining\n",
      "/wiki/Data_philanthropy\n",
      "/wiki/Data_pre-processing\n",
      "/wiki/Data_preservation\n",
      "/wiki/Information_privacy\n",
      "/wiki/Data_publishing\n",
      "/wiki/Data_recovery\n",
      "/wiki/Data_reduction\n",
      "/wiki/Data_retention\n",
      "/wiki/Data_quality\n",
      "/wiki/Data_scraping\n",
      "/wiki/Data_scrubbing\n",
      "/wiki/Data_security\n",
      "/wiki/Data_steward\n",
      "/wiki/Data_storage\n",
      "/wiki/Data_validation\n",
      "/wiki/Data_warehouse\n",
      "/wiki/Data_wrangling\n",
      "/wiki/Help:Category\n",
      "/wiki/Category:Information_science\n",
      "/wiki/Category:Computer_occupations\n",
      "/wiki/Category:Computational_fields_of_study\n",
      "/wiki/Category:Data_analysis\n",
      "/wiki/Category:Articles_with_short_description\n",
      "/wiki/Category:Short_description_is_different_from_Wikidata\n",
      "/wiki/Category:Use_dmy_dates_from_August_2021\n",
      "/wiki/Wikipedia:About\n",
      "/wiki/Wikipedia:General_disclaimer\n"
     ]
    }
   ],
   "source": [
    "dataScienceWikipedia=urlopen(\"https://en.wikipedia.org/wiki/Data_science\")\n",
    "wikipedia_html=BeautifulSoup(dataScienceWikipedia.read(),'html.parser')\n",
    "links=wikipedia_html.find_all('a',{'href':re.compile(\"^(\\/wiki\\/)\")})\n",
    "print(\"length is the url\" ,len(links))\n",
    "for link in links:\n",
    "    print(link['href'])"
   ]
  },
  {
   "cell_type": "code",
   "execution_count": 12,
   "metadata": {},
   "outputs": [
    {
     "name": "stdout",
     "output_type": "stream",
     "text": [
      " -----url------ https://en.wikipedia.org/wiki/Main_Page\n",
      "From today's featured article\n",
      " -----url------ https://en.wikipedia.org/wiki/Special:Search\n",
      "'NoneType' object has no attribute 'get_text'\n",
      " -----url------ https://en.wikipedia.org/wiki/Help:Introduction\n",
      "'NoneType' object has no attribute 'get_text'\n",
      " -----url------ https://en.wikipedia.org/wiki/Special:MyContributions\n",
      "'NoneType' object has no attribute 'get_text'\n",
      " -----url------ https://en.wikipedia.org/wiki/Special:MyTalk\n",
      "'NoneType' object has no attribute 'get_text'\n",
      " -----url------ https://en.wikipedia.org/wiki/Main_Page\n",
      "From today's featured article\n",
      " -----url------ https://en.wikipedia.org/wiki/Wikipedia:Contents\n",
      "Contents\n",
      " -----url------ https://en.wikipedia.org/wiki/Portal:Current_events\n",
      "Topics in the news\n",
      " -----url------ https://en.wikipedia.org/wiki/Special:Random\n",
      "Contents\n",
      " -----url------ https://en.wikipedia.org/wiki/Wikipedia:About\n",
      "'NoneType' object has no attribute 'get_text'\n",
      " -----url------ https://en.wikipedia.org/wiki/Help:Contents\n",
      "Read or find an article\n",
      " -----url------ https://en.wikipedia.org/wiki/Help:Introduction\n",
      "'NoneType' object has no attribute 'get_text'\n",
      " -----url------ https://en.wikipedia.org/wiki/Wikipedia:Community_portal\n",
      "\n",
      "Welcome to the Community portal!\n",
      "\n",
      " -----url------ https://en.wikipedia.org/wiki/Special:RecentChanges\n",
      "'NoneType' object has no attribute 'get_text'\n",
      " -----url------ https://en.wikipedia.org/wiki/Wikipedia:File_upload_wizard\n",
      "Contents\n",
      " -----url------ https://en.wikipedia.org/wiki/Special:WhatLinksHere/Data_science\n",
      "'NoneType' object has no attribute 'get_text'\n",
      " -----url------ https://en.wikipedia.org/wiki/Special:RecentChangesLinked/Data_science\n",
      "'NoneType' object has no attribute 'get_text'\n",
      " -----url------ https://en.wikipedia.org/wiki/Wikipedia:File_Upload_Wizard\n",
      "Contents\n",
      " -----url------ https://en.wikipedia.org/wiki/Special:SpecialPages\n",
      "Contents\n",
      " -----url------ https://en.wikipedia.org/wiki/Data_science\n",
      "Contents\n",
      " -----url------ https://en.wikipedia.org/wiki/Talk:Data_science\n",
      "Contents\n",
      " -----url------ https://en.wikipedia.org/wiki/Data_science\n",
      "Contents\n",
      " -----url------ https://en.wikipedia.org/wiki/Data_science\n",
      "Contents\n",
      " -----url------ https://en.wikipedia.org/wiki/Information_science\n",
      "Contents\n",
      " -----url------ https://en.wikipedia.org/wiki/File:PIA23792-1600x1200(1).jpg\n",
      "Summary\n",
      " -----url------ https://en.wikipedia.org/wiki/File:PIA23792-1600x1200(1).jpg\n",
      "Summary\n",
      " -----url------ https://en.wikipedia.org/wiki/Comet_NEOWISE\n",
      "Contents\n",
      " -----url------ https://en.wikipedia.org/wiki/Astronomical_survey\n",
      "Contents\n",
      " -----url------ https://en.wikipedia.org/wiki/Space_telescope\n",
      "Contents\n",
      " -----url------ https://en.wikipedia.org/wiki/Wide-field_Infrared_Survey_Explorer\n",
      "Contents\n",
      " -----url------ https://en.wikipedia.org/wiki/Interdisciplinary\n",
      "Contents\n",
      " -----url------ https://en.wikipedia.org/wiki/Statistics\n",
      "Contents\n",
      " -----url------ https://en.wikipedia.org/wiki/Scientific_computing\n",
      "Contents\n",
      " -----url------ https://en.wikipedia.org/wiki/Scientific_method\n",
      "Contents\n",
      " -----url------ https://en.wikipedia.org/wiki/Algorithm\n",
      "Contents\n",
      " -----url------ https://en.wikipedia.org/wiki/Knowledge\n",
      "Contents\n",
      " -----url------ https://en.wikipedia.org/wiki/Unstructured_data\n",
      "Contents\n",
      " -----url------ https://en.wikipedia.org/wiki/Statistics\n",
      "Contents\n",
      " -----url------ https://en.wikipedia.org/wiki/Data_analysis\n",
      "Contents\n",
      " -----url------ https://en.wikipedia.org/wiki/Informatics\n",
      "Contents\n",
      " -----url------ https://en.wikipedia.org/wiki/Scientific_method\n",
      "Contents\n",
      " -----url------ https://en.wikipedia.org/wiki/Phenomena\n",
      "Contents\n"
     ]
    }
   ],
   "source": [
    "dataScienceWikipedia=urlopen(\"https://en.wikipedia.org/wiki/Data_science\")\n",
    "wikipedia_html=BeautifulSoup(dataScienceWikipedia.read(),'html.parser')\n",
    "links=wikipedia_html.find_all('a',{'href':re.compile(\"^(\\/wiki\\/)\")})\n",
    "# for link in links:\n",
    "#     print(link['href'])\n",
    "base_url=\"https://en.wikipedia.org\"\n",
    "for i in links:\n",
    "    Target_url=base_url+i['href']\n",
    "    target_wikipedia_data=urlopen(Target_url)\n",
    "    bs=BeautifulSoup(target_wikipedia_data.read(),'html.parser')\n",
    "    print(\" -----url------\",Target_url)\n",
    "    try:\n",
    "        print(bs.find(\"h2\").get_text())\n",
    "    except Exception as e:\n",
    "        print(e)\n"
   ]
  },
  {
   "cell_type": "markdown",
   "metadata": {},
   "source": []
  },
  {
   "cell_type": "code",
   "execution_count": null,
   "metadata": {},
   "outputs": [],
   "source": []
  }
 ],
 "metadata": {
  "kernelspec": {
   "display_name": "base",
   "language": "python",
   "name": "python3"
  },
  "language_info": {
   "codemirror_mode": {
    "name": "ipython",
    "version": 3
   },
   "file_extension": ".py",
   "mimetype": "text/x-python",
   "name": "python",
   "nbconvert_exporter": "python",
   "pygments_lexer": "ipython3",
   "version": "3.8.5"
  },
  "orig_nbformat": 4,
  "vscode": {
   "interpreter": {
    "hash": "49dc65a12af44c144fa20877bc914b34e80c2deae3989fd7a634dfb096a0b906"
   }
  }
 },
 "nbformat": 4,
 "nbformat_minor": 2
}
