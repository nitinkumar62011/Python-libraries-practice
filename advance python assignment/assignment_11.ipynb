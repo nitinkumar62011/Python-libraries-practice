{
 "cells": [
  {
   "attachments": {},
   "cell_type": "markdown",
   "metadata": {},
   "source": [
    "Q1. What is the concept of a metaclass?\n",
    "<br>\n",
    "Ans - >In python metclass is class of a class that define how a class behave. A class is instance of metclass like dict, str , int , float ,list all are the instance and type of the metaclass."
   ]
  },
  {
   "attachments": {},
   "cell_type": "markdown",
   "metadata": {},
   "source": [
    "Q2. What is the best way to declare a class&#39;s metaclass?\n",
    "<br>\n",
    "Ans - > using the 'metaclass' keyword we can declare the metaclass."
   ]
  },
  {
   "cell_type": "code",
   "execution_count": 1,
   "metadata": {},
   "outputs": [
    {
     "name": "stdout",
     "output_type": "stream",
     "text": [
      "Meta classes\n",
      "This is the metaclass\n",
      "<class 'type'>\n",
      "<class '__main__.meta'>\n"
     ]
    }
   ],
   "source": [
    "class meta(type):\n",
    "    print(\"Meta classes\")\n",
    "class MetaClass(metaclass=meta):\n",
    "    print(\"This is the metaclass\")\n",
    "print(type(meta))\n",
    "print(type(MetaClass))"
   ]
  },
  {
   "attachments": {},
   "cell_type": "markdown",
   "metadata": {},
   "source": [
    "Q3. How do class decorators overlap with metaclasses for handling classes?\n",
    "<br>\n",
    "Ans - > Anything we can do with the decoraters with the metaclasses and it wll take the just functionality of the decorator means instance of class and modify it in __init__ method and __new__ method."
   ]
  },
  {
   "attachments": {},
   "cell_type": "markdown",
   "metadata": {},
   "source": [
    "Q4. How do class decorators overlap with metaclasses for handling instances?\n",
    "<br>\n",
    "Ans - >Anything we can do with the decoraters with the metaclasses and it wll take the just functionality of the decorator means instance of class and modify it in __init__ method and __new__ method."
   ]
  },
  {
   "cell_type": "markdown",
   "metadata": {},
   "source": []
  }
 ],
 "metadata": {
  "kernelspec": {
   "display_name": "dogcat",
   "language": "python",
   "name": "python3"
  },
  "language_info": {
   "codemirror_mode": {
    "name": "ipython",
    "version": 3
   },
   "file_extension": ".py",
   "mimetype": "text/x-python",
   "name": "python",
   "nbconvert_exporter": "python",
   "pygments_lexer": "ipython3",
   "version": "3.6.13"
  },
  "orig_nbformat": 4,
  "vscode": {
   "interpreter": {
    "hash": "2e8543ae9f21516f2c119dce958e3bd727b59b5836fec464d61cecf8c27b1534"
   }
  }
 },
 "nbformat": 4,
 "nbformat_minor": 2
}
