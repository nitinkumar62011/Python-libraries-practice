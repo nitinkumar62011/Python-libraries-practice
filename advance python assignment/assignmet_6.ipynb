{
 "cells": [
  {
   "cell_type": "code",
   "execution_count": null,
   "metadata": {},
   "outputs": [],
   "source": []
  },
  {
   "cell_type": "markdown",
   "metadata": {},
   "source": [
    "Q1. Describe three applications for exception processing."
   ]
  },
  {
   "attachments": {},
   "cell_type": "markdown",
   "metadata": {},
   "source": [
    "Ans -  1 Exception processing is very important to find the exception in run time program and it will stop the terminating the our program in middle and while executing the program.\n",
    "Theree application for exception processing.\n",
    "<br>\n",
    "1 it will take the specfic input in application\n",
    "<br>\n",
    "2 check the arithmetic operation in mathematical execution.\n",
    "<br>\n",
    "3 handling the exception of the input and output of the file operation. "
   ]
  },
  {
   "attachments": {},
   "cell_type": "markdown",
   "metadata": {},
   "source": [
    "Q2. What happens if you don&#39;t do something extra to treat an exception?\n",
    "<br>\n",
    "Ans - >If we do not use exception handling in the our application maybe there will be chance to terminate the progaram with unexception condition."
   ]
  },
  {
   "attachments": {},
   "cell_type": "markdown",
   "metadata": {},
   "source": [
    "Q3. What are your options for recovering from an exception in your script?\n",
    "<br>\n",
    "ans - > try and except will recover from an exception in my script."
   ]
  },
  {
   "attachments": {},
   "cell_type": "markdown",
   "metadata": {},
   "source": [
    "Q4. Describe two methods for triggering exceptions in your script.\n",
    "Ans - >\n",
    "<br>\n",
    "raise and assert are two methods that can be used to trigger manual exceptions in your script.\n",
    "<br>\n",
    "<b>raise</b> method triggers an exception if condition provided to it turns out to be True.\n",
    "assert will let the program to continue execution if condition provided to it turns out to be True else exception will be raised"
   ]
  },
  {
   "attachments": {},
   "cell_type": "markdown",
   "metadata": {},
   "source": [
    "Q5. Identify two methods for specifying actions to be executed at termination time, regardless of\n",
    "whether or not an exception exists.\n",
    "<br>\n",
    "Ans -> else and finally method for specifying actions to be executed at termination time, regardless of\n",
    "whether or not an exception exists."
   ]
  }
 ],
 "metadata": {
  "kernelspec": {
   "display_name": "Python 3",
   "language": "python",
   "name": "python3"
  },
  "language_info": {
   "name": "python",
   "version": "3.7.15 (default, Nov 24 2022, 18:44:54) [MSC v.1916 64 bit (AMD64)]"
  },
  "orig_nbformat": 4,
  "vscode": {
   "interpreter": {
    "hash": "2cfca5a10dd86bf43c5a37e3a407deb83653b18e72d0bc2a692bf16e38629a6f"
   }
  }
 },
 "nbformat": 4,
 "nbformat_minor": 2
}
