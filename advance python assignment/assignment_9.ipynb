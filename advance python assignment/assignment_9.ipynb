{
 "cells": [
  {
   "cell_type": "markdown",
   "metadata": {},
   "source": [
    "Q1. In Python 3.X, what are the names and functions of string object types?"
   ]
  },
  {
   "attachments": {},
   "cell_type": "markdown",
   "metadata": {},
   "source": [
    ".isdecimal() -> Returns True if all characters in a string are decimal.\n",
    ".isalnum() -> Returns True if all characters in the string are AlphaNumeric.\n",
    ".istitle() -> Returns True if first character in a string is in Uppercase.\n",
    ".partition() -> Splits string at first occurance of sub string and returns a tuple of 3 elements.\n",
    ".rpartition() -> Splits string at last occurance of sub string and returns a tuple of 3 elements.\n",
    ".isidentifier() -> Returns True if give string is a valid identifier name.\n",
    "len() -> Returns the length of the given string.\n",
    ".index() -> Returns the lowest index of substring if substring is found in the string.\n",
    ".rindex() -> Returns the highest index of substring if substring is found in the string.\n",
    "max() -> Returns the highest Alphabetical Character in the string as per ASCII.\n",
    "min() -> Returns the lowest Alphabetical Character in the string as per ASCII.\n",
    ".splitlines() -> Returns a list of lines in the string.\n",
    ".capitalize() -> Returns the string with first character capitalized.\n",
    ".upper() -> Returns the string with all characters in uppercase.\n",
    ".lower() -> Returns the string with all characters in lowercase\n",
    ".casefold() -> Returns the string in lowercase which can be used for caseless comparisions.\n",
    ".expandtabs(no_of_spaces) -> Replaces tabs in a string with specified no of spaces default is 8\n",
    ".find() -> Returns lowest index of substring if substring is found in the string else returns -1.\n",
    ".rfind() -> Returns highest index of substring if substring is found in the string else returns -1.\n",
    ".count() -> Returns the no of occurances of the char in the given string.\n",
    ".split() -> Returns list of words seperated by given sep else seperated by whitespace.\n",
    ".rsplit() -> Returns list of words seperated by given sep else seperated by whitespace scanning from end.\n",
    ".lstrip() -> Returns a copy of where leading whitespaces are removed.\n",
    ".rstrip() -> Returns a copy of where trailed whitespaces are removed.\n",
    ".strip() -> Returns a copy of where both leading and trailing whitespaces are removed.\n",
    ".swapcase() -> Swaps lowercase characters with uppercase and vice versa.\n",
    ".join() -> Concatenates a list or tuple of words with intervening occuernces of sep.\n",
    ".translate() -> translates the characters using table.\n",
    ".maketrans() -> Creating a mapping translation tbale usable for .translate()\n",
    ".replace(,) -> Replace all occurances of char_1 with char_2 in string.\n",
    ".encode() -> Encodes string into any encoding supported by python. Default encoding is UTF-8.\n",
    ".ljust() -> Left-justify in a field of given width.\n",
    ".rjust() -> Right-justify in a field of given width.\n",
    ".center() -> Center-justify in a field of given width.\n",
    ".zfill() -> Zfill adds zeros to the begining of string until the specified length is reached."
   ]
  },
  {
   "attachments": {},
   "cell_type": "markdown",
   "metadata": {},
   "source": [
    "Q2. How do the string forms in Python 3.X vary in terms of operations?\n",
    "<br>\n",
    "Ans - >\n",
    "In Python 3.x has default Unicode forms of string "
   ]
  },
  {
   "attachments": {},
   "cell_type": "markdown",
   "metadata": {},
   "source": [
    "Q3. In 3.X, how do you put non-ASCII Unicode characters in a string?\n",
    "<br>\n",
    "Ans - > using Unidecode method put non-ASCII Unicode characters in a string"
   ]
  },
  {
   "attachments": {},
   "cell_type": "markdown",
   "metadata": {},
   "source": [
    "Q4. In Python 3.X, what are the key differences between text-mode and binary-mode files?\n",
    "<br>\n",
    "Ans - > The key differences between text-mode and binary-mode files are text- mode file contains textual information about the alphanumeric characters, numbers and special case characters and binary-mode file contains bytes or compiled version of a text file .\n",
    "when opend the text-mode it automatically recognise the text and binary-mode files when open then we need to specify the 'b' to write the content of binary-mode data."
   ]
  },
  {
   "attachments": {},
   "cell_type": "markdown",
   "metadata": {},
   "source": [
    "Q5. How can you interpret a Unicode text file containing text encoded in a different encoding than\n",
    "your platform&#39;s default?\n",
    "<br>\n",
    "Ans - > encode() and decode() can interpret a Unicode text file containing text encoded in a different encoding and by default parameter encoding is UTF-8"
   ]
  },
  {
   "attachments": {},
   "cell_type": "markdown",
   "metadata": {},
   "source": [
    "Q6. What is the best way to make a Unicode text file in a particular encoding format?\n",
    "Ans - > <br>\n",
    "Use str.encode() and file.write() to make a Unicode text file in a particular encoding format, default encoding format is UTF-8.\n",
    "\n",
    "Call str.encode(encoding) with encoding set to utf8 to encode str.\n",
    "Call open(file, mode) to open a file with mode set to wb . wb writes to files in binary mode & preserves UTF-8format.\n",
    "Call file.write(data) to write data to the file."
   ]
  },
  {
   "cell_type": "code",
   "execution_count": 2,
   "metadata": {},
   "outputs": [
    {
     "name": "stdout",
     "output_type": "stream",
     "text": [
      "b'\\xd1\\x83\\xd0\\xbb\\xd1\\x8b\\xd0\\xb1\\xd0\\xb0\\xd1\\x82\\xd1\\x8c\\xd1\\x81\\xd1\\x8f \\xd0\\x92\\xd0\\xbb\\xd0\\xb0\\xd0\\xb4\\xd0\\xb8\\xd0\\xbc\\xd0\\xb8\\xd1\\x80 \\xd0\\x9f\\xd1\\x83\\xd1\\x82\\xd0\\xb8\\xd0\\xbd'\n",
      "\n",
      "b'\\xd1\\x83\\xd0\\xbb\\xd1\\x8b\\xd0\\xb1\\xd0\\xb0\\xd1\\x82\\xd1\\x8c\\xd1\\x81\\xd1\\x8f \\xd0\\x92\\xd0\\xbb\\xd0\\xb0\\xd0\\xb4\\xd0\\xb8\\xd0\\xbc\\xd0\\xb8\\xd1\\x80 \\xd0\\x9f\\xd1\\x83\\xd1\\x82\\xd0\\xb8\\xd0\\xbd'\n"
     ]
    }
   ],
   "source": [
    "unicode_text = u\"улыбаться Владимир Путин\"\n",
    "encoded_unicode_text = unicode_text.encode(\"utf-8\")\n",
    "print(encoded_unicode_text,end=\"\\n\\n\")\n",
    "\n",
    "w_file = open(\"Nitinfile.txt\",\"wb\")\n",
    "w_file.write(encoded_unicode_text)\n",
    "w_file.close()\n",
    "\n",
    "r_file = open(\"Nitinfile.txt\",\"rb\")\n",
    "data = r_file.read()\n",
    "print(data)"
   ]
  },
  {
   "attachments": {},
   "cell_type": "markdown",
   "metadata": {},
   "source": [
    "Q7. What qualifies ASCII text as a form of Unicode text?\n",
    "ANs -> <br>\n",
    "Unicode represents most written languages in the world. ASCII has its equivalent in Unicode. The difference between ASCII and Unicode is that ASCII represents lowercase letters (a-z), uppercase letters (A-Z), digits (0–9) and symbols such as punctuation marks while Unicode represents letters of English, Arabic, Greek etc. mathematical symbols, historical scripts, emoji covering a wide range of characters than ASCII."
   ]
  },
  {
   "attachments": {},
   "cell_type": "markdown",
   "metadata": {},
   "source": [
    "Q8. How much of an effect does the change in string types in Python 3.X have on your code?\n",
    "Ans - >\n",
    "Python 3 stores strings as Unicode by default whereas Python 2 requires you to mark a string with a u if you want to store it as Unicode. Unicode strings are more versatile than ASCII strings, which are the Python 3.X default, as they can store letters from foreign languages as well as emoji and the standard Roman letters and numerals."
   ]
  },
  {
   "cell_type": "markdown",
   "metadata": {},
   "source": []
  }
 ],
 "metadata": {
  "kernelspec": {
   "display_name": "dogcat",
   "language": "python",
   "name": "python3"
  },
  "language_info": {
   "codemirror_mode": {
    "name": "ipython",
    "version": 3
   },
   "file_extension": ".py",
   "mimetype": "text/x-python",
   "name": "python",
   "nbconvert_exporter": "python",
   "pygments_lexer": "ipython3",
   "version": "3.6.13"
  },
  "orig_nbformat": 4,
  "vscode": {
   "interpreter": {
    "hash": "2e8543ae9f21516f2c119dce958e3bd727b59b5836fec464d61cecf8c27b1534"
   }
  }
 },
 "nbformat": 4,
 "nbformat_minor": 2
}
