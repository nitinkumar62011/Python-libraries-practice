{
 "cells": [
  {
   "attachments": {},
   "cell_type": "markdown",
   "metadata": {},
   "source": [
    "Q1. What is the relationship between classes and modules?\n",
    "ans - > \n",
    "<p></p>\n",
    "class - > it is the blueprint of the real world problem and it has object n number of times\n",
    "    2 -- > clas have method and properties .\n",
    "    3 -- > class can classed using it instace of the object of the class\n",
    "module --- > module is set of function which contains in the .py file and file name is called  module name.\n",
    "       --  module can be imported in other .py files\n",
    "       "
   ]
  },
  {
   "attachments": {},
   "cell_type": "markdown",
   "metadata": {},
   "source": [
    "Q2. How do you make instances and classes?\n",
    "<br>\n",
    "ans - > instances ------ it is the object of the class \n",
    "       nitin=Person\n",
    "<br>\n",
    "classes - > classes are blue print of the real world problem and it classified the object .\n",
    "<Br>\n",
    "class person:\n",
    "\n",
    "    def __init__(self,name):\n",
    "        name = name"
   ]
  },
  {
   "attachments": {},
   "cell_type": "markdown",
   "metadata": {},
   "source": [
    "Q3. Where and how should be class attributes created?\n",
    "<br>\n",
    "ans - > class attributes belogs to the class rather than object of the class. and it is sccessable from the every object. and it is assigned outside of the __init__ function .\n"
   ]
  },
  {
   "cell_type": "code",
   "execution_count": 2,
   "metadata": {},
   "outputs": [
    {
     "data": {
      "text/plain": [
       "'nitin'"
      ]
     },
     "execution_count": 2,
     "metadata": {},
     "output_type": "execute_result"
    }
   ],
   "source": [
    "class Person:\n",
    "    name=\"nitin\"\n",
    "    def __init__(self,age) -> None:\n",
    "        self.age=age\n",
    "nitin=Person(23)\n",
    "nitin.name\n",
    "# so here name is name is the class attribute and when we want to share the each and every object the we can create the class attribute"
   ]
  },
  {
   "attachments": {},
   "cell_type": "markdown",
   "metadata": {},
   "source": [
    "Q4. Where and how are instance attributes created?\n",
    "Ans - >\n",
    "Instance attributes is belog to the object of the class only and it is only accessible to the scope of the object and it is initialized in the __init__ method of the class."
   ]
  },
  {
   "cell_type": "code",
   "execution_count": 4,
   "metadata": {},
   "outputs": [
    {
     "data": {
      "text/plain": [
       "'nitin'"
      ]
     },
     "execution_count": 4,
     "metadata": {},
     "output_type": "execute_result"
    }
   ],
   "source": [
    "class Person:\n",
    "    def __init__(self, name):\n",
    "        self.name = name\n",
    "n1=Person(\"nitin\")\n",
    "n1.name\n",
    "# it will be initialized when we create the instance of the class\n"
   ]
  },
  {
   "attachments": {},
   "cell_type": "markdown",
   "metadata": {},
   "source": [
    "Q5. What does the term &quot;self&quot; in a Python class mean?\n",
    "Ans - The self parameter is a reference to the current instance of the class, and is used to access variables that belongs to the class."
   ]
  },
  {
   "attachments": {},
   "cell_type": "markdown",
   "metadata": {},
   "source": [
    "Q6. How does a Python class handle operator overloading?\n",
    "Ans - > To achieve operator overloading, we define a special method in a class definition. The name of the method should begin and end with a double underscore (_). The + operator is overloaded using a special method named add() . This method is implemented by both the int and str classes.\n",
    "\n",
    "Example \n",
    "\n",
    "\n",
    "+\t__add__(self, other)\n",
    "–\t__sub__(self, other)\n",
    "*\t__mul__(self, other)\n",
    "/\t__truediv__(self, other)\n",
    "//\t__floordiv__(self, other)\n",
    "%\t__mod__(self, other)\n",
    "**\t__pow__(self, other)"
   ]
  },
  {
   "attachments": {},
   "cell_type": "markdown",
   "metadata": {},
   "source": [
    "Q7. When do you consider allowing operator overloading of your classes?\n",
    "Ans - > \n",
    "let suppose that we have two objects which are a physical representation of a class (user-defined data type) and we have to add two objects with binary ‘+’ operator it throws an error, because compiler don’t know how to add two objects. So we define a method for an operator and that process is called operator overloading. Now the + operator will perform arithmetic addition on two numbers, merge two lists, or concatenate two strings.\n"
   ]
  },
  {
   "attachments": {},
   "cell_type": "markdown",
   "metadata": {},
   "source": [
    "Q8. What is the most popular form of operator overloading?\n",
    "Ans _- >  + Operator is most popular operator overloding. When we use + operator, the magic method add is automatically invoked in which the operation for + operator is defined. There by changing this magic method’s code, we can give extra meaning to the + operator. Python operators work for built-in classes. But the same operator behaves differently with different types. For example, the + operator will perform arithmetic addition on two numbers, merge two lists, or concatenate two strings."
   ]
  },
  {
   "attachments": {},
   "cell_type": "markdown",
   "metadata": {},
   "source": [
    "Q9. What are the two most important concepts to grasp in order to comprehend Python OOP code?\n",
    "ANs - > \n",
    "The tow most important concept in order to comprehend python oop code are Classes and objects. where, classes represent and define concepts of problem, while objects are instances of classes"
   ]
  }
 ],
 "metadata": {
  "kernelspec": {
   "display_name": "dogcat",
   "language": "python",
   "name": "python3"
  },
  "language_info": {
   "codemirror_mode": {
    "name": "ipython",
    "version": 3
   },
   "file_extension": ".py",
   "mimetype": "text/x-python",
   "name": "python",
   "nbconvert_exporter": "python",
   "pygments_lexer": "ipython3",
   "version": "3.6.13"
  },
  "orig_nbformat": 4,
  "vscode": {
   "interpreter": {
    "hash": "2e8543ae9f21516f2c119dce958e3bd727b59b5836fec464d61cecf8c27b1534"
   }
  }
 },
 "nbformat": 4,
 "nbformat_minor": 2
}
