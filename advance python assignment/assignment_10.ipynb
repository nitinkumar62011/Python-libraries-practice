{
 "cells": [
  {
   "attachments": {},
   "cell_type": "markdown",
   "metadata": {},
   "source": [
    "Q1. What is the difference between __getattr__ and __getattribute__?\n",
    "Ans - >__getattr__ This method will allow us to “catch” references to attributes that don’t exist in our object."
   ]
  },
  {
   "cell_type": "code",
   "execution_count": 4,
   "metadata": {},
   "outputs": [
    {
     "name": "stdout",
     "output_type": "stream",
     "text": [
      "Nitin\n"
     ]
    }
   ],
   "source": [
    "class Person(object):\n",
    "    def __getattr__(self, attr):\n",
    "        return attr.upper()\n",
    "p = Person()\n",
    "p.value = \"Nitin\"\n",
    "print(p.value) "
   ]
  },
  {
   "attachments": {},
   "cell_type": "markdown",
   "metadata": {},
   "source": [
    "__getattribute__ is same as  to __getattr__, but difference is  that __getattribute__ will intercept EVERY attribute lookup, doesn’t matter if the attribute exists or not."
   ]
  },
  {
   "cell_type": "code",
   "execution_count": 6,
   "metadata": {},
   "outputs": [
    {
     "name": "stdout",
     "output_type": "stream",
     "text": [
      "YOU are the Nitin?\n"
     ]
    }
   ],
   "source": [
    "class Person(object):\n",
    "    def __getattribute__(self, attr):\n",
    "        return 'YOU are the Nitin?'\n",
    "p = Person()\n",
    "p.value = \"Python\"\n",
    "print(p.value) "
   ]
  },
  {
   "attachments": {},
   "cell_type": "markdown",
   "metadata": {},
   "source": [
    "Q2. What is the difference between properties and descriptors?\n",
    "<br>\n",
    "Ans ->\n",
    "properties\n",
    "The syntax used to define properties is very concise and readable. You can access instance attributes exactly as if they were public attributes while using the \"magic\" of intermediaries (getters and setters) to validate new values and to avoid accessing or modifying the data directly. By using @property, you can \"reuse\" the name of a property to avoid creating new names for the getters, setters, and deleters.\n",
    "<br>\n",
    "descriptors\n",
    "Python descriptors are created to manage the attributes of different classes which use the object as reference. In descriptors we used three different methods that are getters(), setters(), and delete(). If any of those methods are defined for an object, it can be termed as a descriptor. Normally, Python uses methods like getters and setters to adjust the values on attributes without any special processing. It’s just a basic storage system. Sometimes, You might need to validate the values that are being assigned to a value. A descriptor is a mechanism behind properties, methods, static methods, class methods, and super()."
   ]
  },
  {
   "attachments": {},
   "cell_type": "markdown",
   "metadata": {},
   "source": [
    "Q3. What are the key differences in functionality between __getattr__ and __getattribute__, as well as\n",
    "properties and descriptors?\n",
    "<br>\n",
    "Ans - >\n",
    "<br>\n",
    "Check if there is a descriptor with the same name (attribute name) defined in any class in the MRO chain (method object resolution) Then looks into the instance’s namespace Then looks into the class namespace Then into each base’s namespace and so on. Finally, if not found, the default implementation calls the fallback getattr() method of the instance and it raises an AttributeError exception as default implementation.\n",
    "\n",
    "You should read the docs on what descriptors actually are. The Cliff's Notes version: descriptors are a low-level mechanism that lets you hook into an object's attributes being accessed. Properties are a high-level application of this; that is, properties are implemented using descriptors. Or, better yet, properties are descriptors that are already provided for you in the standard library.\n",
    "\n",
    "If you need a simple way to return a computed value from an attribute read, or to call a function on an attribute write, use the @property decorator. The descriptor API is more flexible, but less convenient, and arguably \"overkill\" and non-idiomatic in this situation. It's useful for more advanced use cases, like implementing bound methods, or static and class methods; when you need to know, for example, if the attribute was accessed through the type object, or an instance of the type."
   ]
  }
 ],
 "metadata": {
  "kernelspec": {
   "display_name": "dogcat",
   "language": "python",
   "name": "python3"
  },
  "language_info": {
   "codemirror_mode": {
    "name": "ipython",
    "version": 3
   },
   "file_extension": ".py",
   "mimetype": "text/x-python",
   "name": "python",
   "nbconvert_exporter": "python",
   "pygments_lexer": "ipython3",
   "version": "3.6.13"
  },
  "orig_nbformat": 4,
  "vscode": {
   "interpreter": {
    "hash": "2e8543ae9f21516f2c119dce958e3bd727b59b5836fec464d61cecf8c27b1534"
   }
  }
 },
 "nbformat": 4,
 "nbformat_minor": 2
}
