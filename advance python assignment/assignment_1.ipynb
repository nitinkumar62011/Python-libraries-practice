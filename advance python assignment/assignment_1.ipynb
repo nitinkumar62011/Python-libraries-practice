{
 "cells": [
  {
   "cell_type": "code",
   "execution_count": null,
   "metadata": {},
   "outputs": [],
   "source": []
  },
  {
   "attachments": {},
   "cell_type": "markdown",
   "metadata": {},
   "source": [
    "Q1. What is the purpose of Python&#39;s OOP?\n",
    "<p></p>\n",
    "ANs - > Object oriented programming approach makes it easy to write the real world  program and unerstandable code and eficient.\n",
    "    - > class have property of shared object so that it can be used with other classes and applications .\n",
    "    - > inside oops have data abstartions proerties which makes the data safe .\n",
    "    - > using the polymorphism allow to same interface to the different object with hidding the implementation of the function.\n",
    "    - > using the inheritance concept we can use the same code again and again "
   ]
  },
  {
   "attachments": {},
   "cell_type": "markdown",
   "metadata": {},
   "source": [
    "Q2. Where does an inheritance search look for an attribute?\n",
    "Ans - > An inheritance search for an attribute is considered from bottom to top and left to right"
   ]
  },
  {
   "attachments": {},
   "cell_type": "markdown",
   "metadata": {},
   "source": [
    "Q3. How do you distinguish between a class object and an instance object?\n",
    "Ans - > when create a class the class name itself is considered class object .\n",
    "Explanation:\n"
   ]
  },
  {
   "cell_type": "code",
   "execution_count": 6,
   "metadata": {},
   "outputs": [
    {
     "name": "stdout",
     "output_type": "stream",
     "text": [
      "Nitin\n"
     ]
    }
   ],
   "source": [
    "class Person:\n",
    "    name=\"Nitin\"\n",
    "    def __init__(self):\n",
    "        self.age=23\n",
    "print(Person.name)\n",
    "# using the person.name we can access the all class variable"
   ]
  },
  {
   "attachments": {},
   "cell_type": "markdown",
   "metadata": {},
   "source": [
    "when call the Person() then it will return the instance object of class and instance object can be so many numbers."
   ]
  },
  {
   "cell_type": "code",
   "execution_count": 7,
   "metadata": {},
   "outputs": [
    {
     "name": "stdout",
     "output_type": "stream",
     "text": [
      "23\n"
     ]
    }
   ],
   "source": [
    "nitin=Person()\n",
    "print(nitin.age)"
   ]
  },
  {
   "attachments": {},
   "cell_type": "markdown",
   "metadata": {},
   "source": [
    "Q4. What makes the first argument in a class’s method function special?\n",
    "<p></p>\n",
    "Ans . self keyword or first argument in a class function will make as a class function"
   ]
  },
  {
   "attachments": {},
   "cell_type": "markdown",
   "metadata": {},
   "source": [
    "Q5. What is the purpose of the __init__ method?\n",
    "<p></p>\n",
    "Ans - > __init__ is a special method in oops . it call  when object is creating.it will also allow to the class  initialize atribute of the class during the object creation.  "
   ]
  },
  {
   "attachments": {},
   "cell_type": "markdown",
   "metadata": {},
   "source": [
    "Q6. What is the process for creating a class instance?\n",
    "<p></p>\n",
    "Ans - > give the class name and create it\n",
    "<p> assign the class variable  </p>\n",
    "<p>  pass the argument in init method if you want </p> "
   ]
  },
  {
   "cell_type": "code",
   "execution_count": 11,
   "metadata": {},
   "outputs": [
    {
     "name": "stdout",
     "output_type": "stream",
     "text": [
      "23 m\n"
     ]
    }
   ],
   "source": [
    "class Person:\n",
    "    name=\"nitin\"\n",
    "    def __init__(self,age,gender):\n",
    "        self.age = age\n",
    "        self.gender = gender\n",
    "    def __str__(self):\n",
    "        return str(self.age)+ \" \"+ str(self.gender)\n",
    "nitin=Person(23,'m')\n",
    "print(nitin)\n"
   ]
  },
  {
   "attachments": {},
   "cell_type": "markdown",
   "metadata": {},
   "source": [
    "Q7. What is the process for creating a class?\n",
    "<p> 1 . use reserved words class </p>\n",
    "<p>use class name  with capitalized word like Person</p>\n",
    "<p > after that use :</p>\n",
    "<p>it should have one statment </p>\n",
    "class Person:\n",
    "    name = \"Person\""
   ]
  },
  {
   "attachments": {},
   "cell_type": "markdown",
   "metadata": {},
   "source": [
    "Q8. How would you define the superclasses of a class?\n",
    "ans - >\n",
    "<p> superclass is the inherited class or parent class of the child class</p>"
   ]
  },
  {
   "cell_type": "markdown",
   "metadata": {},
   "source": []
  }
 ],
 "metadata": {
  "kernelspec": {
   "display_name": "dogcat",
   "language": "python",
   "name": "python3"
  },
  "language_info": {
   "codemirror_mode": {
    "name": "ipython",
    "version": 3
   },
   "file_extension": ".py",
   "mimetype": "text/x-python",
   "name": "python",
   "nbconvert_exporter": "python",
   "pygments_lexer": "ipython3",
   "version": "3.6.13"
  },
  "orig_nbformat": 4,
  "vscode": {
   "interpreter": {
    "hash": "2e8543ae9f21516f2c119dce958e3bd727b59b5836fec464d61cecf8c27b1534"
   }
  }
 },
 "nbformat": 4,
 "nbformat_minor": 2
}
