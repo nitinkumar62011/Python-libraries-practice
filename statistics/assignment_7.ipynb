{
 "cells": [
  {
   "cell_type": "code",
   "execution_count": null,
   "metadata": {},
   "outputs": [],
   "source": [
    "1. A spam filter is designed by looking at commonly occurring phrases in spam. Suppose that\n",
    "80% of email is spam. In 10% of the spam emails, the phrase “free money” is used, whereas\n",
    "this phrase is only used in 1% of non-spam emails. A new email has just arrived, which does\n",
    "mention “free money”. What is the probability that it is spam?\n",
    "Ans _ >\n",
    "A:The event email is spam\n",
    "\n",
    "B: The event of email has free memory space\n",
    "\n",
    "P(A|B) = P(B|A) * P(A)/P(B)\n",
    "\n",
    "0.1/0.8/(0.10.8)+(0.010.2)\n",
    "\n",
    "= 80/82"
   ]
  }
 ],
 "metadata": {
  "language_info": {
   "name": "python"
  },
  "orig_nbformat": 4
 },
 "nbformat": 4,
 "nbformat_minor": 2
}
