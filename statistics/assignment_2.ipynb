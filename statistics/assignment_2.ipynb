{
 "cells": [
  {
   "attachments": {},
   "cell_type": "markdown",
   "metadata": {},
   "source": [
    "1. Raindrops are falling at an average rate of 20 drops per square inch per minute. What would\n",
    "be a reasonable distribution to use for the number of raindrops hitting a particular region\n",
    "measuring 5 inches in t minutes? Why? Using your chosen distribution, compute the\n",
    "probability that the region has no rain drops in a given 3 second time interval. A reasonable\n",
    "choice of distribution is P"
   ]
  },
  {
   "attachments": {},
   "cell_type": "markdown",
   "metadata": {},
   "source": [
    "Ans - > In the above example we have to use possion distribution because we have to find out the probability in interval so possion distribution says taht if some event happen in some interval than we can find the probablity of that event in some other interval.\n",
    "<br>\n",
    "first of all we need to find the raindrop in t.\n",
    "<br>\n",
    "total no of raindrop in 5 inches=average raindrop*5*t=20*5*t=100t\n",
    "so we find that there are 100 drops for 5 square inches.\n",
    "\n",
    "20 has been chosen as it is being mentioned the region has no rain drops in a given 3second time interval. 20 in 1 minute or 60 seconds calculation.\n",
    "\n",
    "P(X=0) = ((100/20)^0/0!)*e^-100/20 = e^-5\n"
   ]
  },
  {
   "attachments": {},
   "cell_type": "markdown",
   "metadata": {},
   "source": [
    "2. Let X be a random day of the week, coded so that Monday is 1, Tuesday is 2, etc. (so X takes\n",
    "values 1, 2,..., 7, with equal probabilities). Let Y be the next day after X (again represented as\n",
    "an integer between 1 and 7). Do X and Y have the same distribution? What is P(X)"
   ]
  },
  {
   "attachments": {},
   "cell_type": "markdown",
   "metadata": {},
   "source": [
    "Ans \n",
    "X Y p(X) P(Y)\n",
    "1 2 1/7 1/7\n",
    "2 3 1/7 1/7\n",
    "3 4 1/7 1/7\n",
    "4 5 1/7 1/7\n",
    "5 6 1/7 1/7\n",
    "6 7  1/7 1/7\n",
    "so here we can see that X and Y are having the same probability distribution.\n",
    "P(X)=1/7+1/7+1/7+1/7+1/7+1/7\n",
    "P(X)=6/7"
   ]
  },
  {
   "cell_type": "code",
   "execution_count": null,
   "metadata": {},
   "outputs": [],
   "source": [
    "a=4"
   ]
  }
 ],
 "metadata": {
  "kernelspec": {
   "display_name": "base",
   "language": "python",
   "name": "python3"
  },
  "language_info": {
   "name": "python",
   "version": "3.8.5 (default, Sep  3 2020, 21:29:08) [MSC v.1916 64 bit (AMD64)]"
  },
  "orig_nbformat": 4,
  "vscode": {
   "interpreter": {
    "hash": "49dc65a12af44c144fa20877bc914b34e80c2deae3989fd7a634dfb096a0b906"
   }
  }
 },
 "nbformat": 4,
 "nbformat_minor": 2
}
