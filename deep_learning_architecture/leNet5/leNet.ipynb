{
 "cells": [
  {
   "cell_type": "code",
   "execution_count": 1,
   "metadata": {},
   "outputs": [],
   "source": [
    "import tensorflow as tf"
   ]
  },
  {
   "cell_type": "code",
   "execution_count": 30,
   "metadata": {},
   "outputs": [],
   "source": [
    "LAYERS=[\n",
    "    \n",
    "    tf.keras.layers.Conv2D(6,(5,5),input_shape=(32,32,1),activation='relu',padding='valid'),\n",
    "    tf.keras.layers.MaxPooling2D(pool_size=(2,2)),\n",
    "    tf.keras.layers.Conv2D(16,(5,5),activation='relu'),\n",
    "    tf.keras.layers.MaxPooling2D(pool_size=(2,2)),\n",
    "    tf.keras.layers.Flatten(),\n",
    "    tf.keras.layers.Dense(120,activation='relu'),\n",
    "    tf.keras.layers.Dense(84,activation='relu'),\n",
    "    tf.keras.layers.Dense(10,activation='softmax')\n",
    "\n",
    "]"
   ]
  },
  {
   "cell_type": "code",
   "execution_count": 31,
   "metadata": {},
   "outputs": [
    {
     "name": "stdout",
     "output_type": "stream",
     "text": [
      "Model: \"sequential_13\"\n",
      "_________________________________________________________________\n",
      " Layer (type)                Output Shape              Param #   \n",
      "=================================================================\n",
      " conv2d_26 (Conv2D)          (None, 28, 28, 6)         156       \n",
      "                                                                 \n",
      " max_pooling2d_26 (MaxPoolin  (None, 14, 14, 6)        0         \n",
      " g2D)                                                            \n",
      "                                                                 \n",
      " conv2d_27 (Conv2D)          (None, 10, 10, 16)        2416      \n",
      "                                                                 \n",
      " max_pooling2d_27 (MaxPoolin  (None, 5, 5, 16)         0         \n",
      " g2D)                                                            \n",
      "                                                                 \n",
      " flatten_21 (Flatten)        (None, 400)               0         \n",
      "                                                                 \n",
      " dense_26 (Dense)            (None, 120)               48120     \n",
      "                                                                 \n",
      " dense_27 (Dense)            (None, 84)                10164     \n",
      "                                                                 \n",
      " dense_28 (Dense)            (None, 10)                850       \n",
      "                                                                 \n",
      "=================================================================\n",
      "Total params: 61,706\n",
      "Trainable params: 61,706\n",
      "Non-trainable params: 0\n",
      "_________________________________________________________________\n"
     ]
    }
   ],
   "source": [
    "model_lenet=tf.keras.Sequential(LAYERS)\n",
    "model_lenet.summary()"
   ]
  },
  {
   "cell_type": "code",
   "execution_count": null,
   "metadata": {},
   "outputs": [],
   "source": []
  }
 ],
 "metadata": {
  "kernelspec": {
   "display_name": "Python 3",
   "language": "python",
   "name": "python3"
  },
  "language_info": {
   "codemirror_mode": {
    "name": "ipython",
    "version": 3
   },
   "file_extension": ".py",
   "mimetype": "text/x-python",
   "name": "python",
   "nbconvert_exporter": "python",
   "pygments_lexer": "ipython3",
   "version": "3.7.15 (default, Nov 24 2022, 18:44:54) [MSC v.1916 64 bit (AMD64)]"
  },
  "orig_nbformat": 4,
  "vscode": {
   "interpreter": {
    "hash": "2cfca5a10dd86bf43c5a37e3a407deb83653b18e72d0bc2a692bf16e38629a6f"
   }
  }
 },
 "nbformat": 4,
 "nbformat_minor": 2
}
