{
 "cells": [
  {
   "cell_type": "code",
   "execution_count": null,
   "metadata": {},
   "outputs": [],
   "source": [
    "1. Given a list of numbers, create a function that removes 25% from every\n",
    "number in the list except the smallest number, and adds the total amount\n",
    "removed to the smallest number.\n",
    "Examples\n",
    "show_the_love([4, 1, 4]) ➞ [3, 3, 3]\n",
    "show_the_love([16, 10, 8]) ➞ [12, 7.5, 14.5]\n",
    "show_the_love([2, 100]) ➞ [27, 75]"
   ]
  },
  {
   "cell_type": "code",
   "execution_count": 1,
   "metadata": {},
   "outputs": [
    {
     "name": "stdout",
     "output_type": "stream",
     "text": [
      "[3, 3, 3]\n",
      "[12, 7.5, 14.5]\n",
      "[27, 75]\n"
     ]
    }
   ],
   "source": [
    "def show_the_love(l):\n",
    "    smallest_no = min(l)\n",
    "    index = l.index(smallest_no)\n",
    "    k = 0\n",
    "    \n",
    "    for i in range(len(l)):\n",
    "        if l[i] != smallest_no:\n",
    "            j =  0.25 * l[i]\n",
    "            l[i] = l[i]- j\n",
    "            k += j\n",
    "            \n",
    "    l[index] = smallest_no + k\n",
    "    l = [int(i) if i == int(i) else i for i in l]\n",
    "    return l\n",
    "\n",
    "print(show_the_love([4,1,4]) )\n",
    "print(show_the_love([16, 10, 8]))\n",
    "print(show_the_love([2, 100]))"
   ]
  },
  {
   "attachments": {},
   "cell_type": "markdown",
   "metadata": {},
   "source": [
    "2. Create a function that takes in two words as input and returns a list of three\n",
    "elements, in the following order:\n",
    "1.Shared letters between two words.\n",
    "2.Letters unique to word 1.\n",
    "3.Letters unique to word 2.\n",
    "Each element should have unique letters, and have each letter be\n",
    "alphabetically sorted.\n",
    "Examples\n",
    "letters(&quot;sharp&quot;, &quot;soap&quot;) ➞ [&quot;aps&quot;, &quot;hr&quot;, &quot;o&quot;]\n",
    "letters(&quot;board&quot;, &quot;bored&quot;) ➞ [&quot;bdor&quot;, &quot;a&quot;, &quot;e&quot;]\n",
    "letters(&quot;happiness&quot;, &quot;envelope&quot;) ➞ [&quot;enp&quot;, &quot;ahis&quot;, &quot;lov&quot;]\n",
    "letters(&quot;kerfuffle&quot;, &quot;fluffy&quot;) ➞ [&quot;flu&quot;, &quot;ekr&quot;, &quot;y&quot;]\n",
    "# Even with multiple matching letters (e.g. 3 f&#39;s), there should\n",
    "# only exist a single &quot;f&quot; in your first element.\n",
    "letters(&quot;match&quot;, &quot;ham&quot;) ➞ [&quot;ahm&quot;, &quot;ct&quot;, &quot;&quot;]\n",
    "# &quot;ham&quot; does not contain any letters that are not found already\n",
    "# in &quot;match&quot;."
   ]
  },
  {
   "cell_type": "code",
   "execution_count": 2,
   "metadata": {},
   "outputs": [
    {
     "name": "stdout",
     "output_type": "stream",
     "text": [
      "('sap', 'hr', 'o')\n",
      "('odbr', 'a', 'e')\n",
      "('npe', 'shai', 'ovl')\n",
      "('lfu', 'ker', 'y')\n",
      "('mah', 'tc', '')\n"
     ]
    }
   ],
   "source": [
    "def letters(w1,w2):\n",
    "    common = ''\n",
    "    for i in set(w1)&set(w2):\n",
    "        common += ''.join(i)\n",
    "    \n",
    "    unique1 = ''\n",
    "    for i in set(w1).difference(set(w2)):\n",
    "        unique1 += ''.join(i)\n",
    "        \n",
    "    unique2 = ''\n",
    "    for i in set(w2).difference(set(w1)):\n",
    "        unique2 += ''.join(i)\n",
    "        \n",
    "    return common, unique1 , unique2\n",
    "\n",
    "print(letters(\"sharp\", \"soap\"))\n",
    "print(letters(\"board\", \"bored\") )\n",
    "print(letters(\"happiness\", \"envelope\"))\n",
    "print(letters(\"kerfuffle\", \"fluffy\"))\n",
    "print(letters(\"match\",\"ham\"))"
   ]
  },
  {
   "attachments": {},
   "cell_type": "markdown",
   "metadata": {},
   "source": [
    "3. Write a function that pairs the first number in an array with the last, the\n",
    "second number with the second to last, etc.\n",
    "Examples\n",
    "pairs([1, 2, 3, 4, 5, 6, 7]) ➞ [[1, 7], [2, 6], [3, 5], [4, 4]]\n",
    "\n",
    "pairs([1, 2, 3, 4, 5, 6]) ➞ [[1, 6], [2, 5], [3, 4]]\n",
    "pairs([5, 9, 8, 1, 2]) ➞ [[5, 2], [9, 1], [8, 8]]\n",
    "pairs([]) ➞ []"
   ]
  },
  {
   "cell_type": "code",
   "execution_count": 3,
   "metadata": {},
   "outputs": [
    {
     "name": "stdout",
     "output_type": "stream",
     "text": [
      "[[1, 7], [2, 6], [3, 5], [4, 4]]\n",
      "[[1, 6], [2, 5], [3, 4]]\n",
      "[[5, 2], [9, 1], [8, 8]]\n",
      "[]\n"
     ]
    }
   ],
   "source": [
    "import math\n",
    "def pairs(l):\n",
    "    l2 = []\n",
    "    for i in range(math.ceil(len(l)/2)):\n",
    "        l1 = []\n",
    "        l1.append(l[i])\n",
    "        l1.append(l[len(l)-i-1])\n",
    "        l2.append(l1)\n",
    "    return l2\n",
    "\n",
    "print(pairs([1,2,3,4,5,6,7]))\n",
    "print(pairs([1,2,3,4,5,6]))\n",
    "print(pairs([5,9,8,1,2]))\n",
    "print(pairs([]))"
   ]
  },
  {
   "attachments": {},
   "cell_type": "markdown",
   "metadata": {},
   "source": [
    "4. Write a function that adds two numbers. The catch, however, is that the\n",
    "numbers will be strings.\n",
    "Examples\n",
    "add_str_nums(&quot;4&quot;, &quot;5&quot;) ➞ &quot;9&quot;\n",
    "add_str_nums(&quot;abcdefg&quot;, &quot;3&quot;) ➞ &quot;-1&quot;\n",
    "add_str_nums(&quot;1&quot;, &quot;&quot;) ➞ &quot;1&quot;\n",
    "add_str_nums(&quot;1874682736267235927359283579235789257&quot;,\n",
    "&quot;32652983572985729&quot;) ➞ &quot;1874682736267235927391936562808774986&quot;"
   ]
  },
  {
   "cell_type": "code",
   "execution_count": 4,
   "metadata": {},
   "outputs": [
    {
     "name": "stdout",
     "output_type": "stream",
     "text": [
      "9\n",
      "-1\n",
      "1\n",
      "1874682736267235927391936562808774986\n"
     ]
    }
   ],
   "source": [
    "def add_str_nums(s1,s2):\n",
    "    if s1 != '' and s2 != '':\n",
    "        if s1.isnumeric() and s2.isnumeric():\n",
    "            return str(int(s1) + int(s2))\n",
    "        else:\n",
    "            return -1\n",
    "    else:\n",
    "        return s1 + s2\n",
    "    \n",
    "    \n",
    "print(add_str_nums(\"4\",\"5\"))\n",
    "print(add_str_nums(\"abcdefg\", \"3\"))\n",
    "print(add_str_nums(\"1\",\"\"))\n",
    "print(add_str_nums(\"1874682736267235927359283579235789257\", \"32652983572985729\"))"
   ]
  },
  {
   "attachments": {},
   "cell_type": "markdown",
   "metadata": {},
   "source": [
    "5. lPaeesh le pemu mnxit ehess rtnisg! Oh, sorry, that was supposed to say:\n",
    "Please help me unmix these strings!\n",
    "Somehow my strings have all become mixed up; every pair of characters has\n",
    "been swapped. Help me undo this so I can understand my strings again.\n",
    "Examples\n",
    "unmix(&quot;123456&quot;) ➞ &quot;214365&quot;\n",
    "unmix(&quot;hTsii s aimex dpus rtni.g&quot;) ➞ &quot;This is a mixed up string.&quot;\n",
    "unmix(&quot;badce&quot;) ➞ &quot;abcde&quot;"
   ]
  },
  {
   "cell_type": "code",
   "execution_count": 5,
   "metadata": {},
   "outputs": [
    {
     "name": "stdout",
     "output_type": "stream",
     "text": [
      "214365\n",
      "This is a mixed up string.\n",
      "abcde\n"
     ]
    }
   ],
   "source": [
    "def unmix(s):\n",
    "    length = len(s)\n",
    "\n",
    "    if length % 2 != 0 :\n",
    "        length = length - 1\n",
    "\n",
    "    l = list(s)\n",
    "    i = 0\n",
    "    while True:\n",
    "        if i == length:\n",
    "            break\n",
    "        else:\n",
    "            l[i], l[i+1] = l[i+1],l[i]\n",
    "            i += 2\n",
    "\n",
    "    s = ''\n",
    "    for i in l:\n",
    "        s += ''.join(i)\n",
    "\n",
    "    return s    \n",
    "\n",
    "print(unmix(\"123456\"))\n",
    "print(unmix(\"hTsii  s aimex dpus rtni.g\"))\n",
    "print(unmix(\"badce\"))"
   ]
  }
 ],
 "metadata": {
  "kernelspec": {
   "display_name": "base",
   "language": "python",
   "name": "python3"
  },
  "language_info": {
   "codemirror_mode": {
    "name": "ipython",
    "version": 3
   },
   "file_extension": ".py",
   "mimetype": "text/x-python",
   "name": "python",
   "nbconvert_exporter": "python",
   "pygments_lexer": "ipython3",
   "version": "3.8.5"
  },
  "orig_nbformat": 4,
  "vscode": {
   "interpreter": {
    "hash": "49dc65a12af44c144fa20877bc914b34e80c2deae3989fd7a634dfb096a0b906"
   }
  }
 },
 "nbformat": 4,
 "nbformat_minor": 2
}
