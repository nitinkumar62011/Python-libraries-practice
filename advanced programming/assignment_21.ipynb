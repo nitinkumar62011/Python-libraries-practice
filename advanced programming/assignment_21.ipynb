{
 "cells": [
  {
   "cell_type": "code",
   "execution_count": null,
   "metadata": {},
   "outputs": [],
   "source": []
  },
  {
   "attachments": {},
   "cell_type": "markdown",
   "metadata": {},
   "source": [
    "1. Given a sentence, return the number of words which have the same first\n",
    "and last letter.\n",
    "Examples\n",
    "count_same_ends(&quot;Pop! goes the balloon&quot;) ➞ 1\n",
    "count_same_ends(&quot;And the crowd goes wild!&quot;) ➞ 0\n",
    "count_same_ends(&quot;No I am not in a gang.&quot;) ➞ 1"
   ]
  },
  {
   "cell_type": "code",
   "execution_count": 1,
   "metadata": {},
   "outputs": [],
   "source": [
    "def only_alpha(string):\n",
    "    new=\"\"\n",
    "    for i in string:\n",
    "        if i.isalpha():\n",
    "            new +=i\n",
    "    return new\n",
    "def count_same_ends(s):\n",
    "    s=s.lower()\n",
    "    s=s.split(\" \")\n",
    "    count=0\n",
    "    s=[only_alpha(i) for i in s]\n",
    "    for i in s:\n",
    "        if i[0]==i[-1]:\n",
    "            if len(i) > 1:\n",
    "                count+=1\n",
    "    return count"
   ]
  },
  {
   "attachments": {},
   "cell_type": "markdown",
   "metadata": {},
   "source": [
    "2. The Atbash cipher is an encryption method in which each letter of a word is\n",
    "replaced with its &quot;mirror&quot; letter in the alphabet: A &lt;=&gt; Z; B &lt;=&gt; Y; C &lt;=&gt; X;\n",
    "etc.\n",
    "Create a function that takes a string and applies the Atbash cipher to it.\n",
    "Examples\n",
    "atbash(&quot;apple&quot;) ➞ &quot;zkkov&quot;\n",
    "atbash(&quot;Hello world!&quot;) ➞ &quot;Svool dliow!&quot;\n",
    "atbash(&quot;Christmas is the 25th of December&quot;) ➞ &quot;Xsirhgnzh rh gsv 25gs lu\n",
    "Wvxvnyvi&quot;"
   ]
  },
  {
   "cell_type": "code",
   "execution_count": 2,
   "metadata": {},
   "outputs": [
    {
     "data": {
      "text/plain": [
       "'zkkov'"
      ]
     },
     "execution_count": 2,
     "metadata": {},
     "output_type": "execute_result"
    }
   ],
   "source": [
    "def atbash(string):\n",
    "    n = ord('z') + ord('a')\n",
    "    N = ord('A') + ord('Z')\n",
    "    ans=''\n",
    "    string=string.split(\" \")\n",
    "    for s in string:\n",
    "        for i in s:\n",
    "            if i.isalpha(): \n",
    "                if i.isupper():\n",
    "                    ans+=(chr(N-ord(i)))\n",
    "                else:\n",
    "                    ans+=(chr(n-ord(i)))\n",
    "            \n",
    "            else:\n",
    "                ans+=i\n",
    "        ans+=\" \"\n",
    "    ans=ans[:-1]\n",
    "    return ans\n",
    "atbash('apple')"
   ]
  },
  {
   "attachments": {},
   "cell_type": "markdown",
   "metadata": {},
   "source": [
    "3. Create a class Employee that will take a full name as argument, as well as\n",
    "a set of none, one or more keywords. Each instance should have a name and\n",
    "a lastname attributes plus one more attribute for each of the keywords, if any.\n",
    "Examples\n",
    "john = Employee(&quot;John Doe&quot;)\n",
    "mary = Employee(&quot;Mary Major&quot;, salary=120000)\n",
    "richard = Employee(&quot;Richard Roe&quot;, salary=110000, height=178)\n",
    "giancarlo = Employee(&quot;Giancarlo Rossi&quot;, salary=115000, height=182,\n",
    "nationality=&quot;Italian&quot;)\n",
    "john.name ➞ &quot;John&quot;\n",
    "mary.lastname ➞ &quot;Major&quot;\n",
    "richard.height ➞ 178\n",
    "giancarlo.nationality ➞ &quot;Italian&quot;"
   ]
  },
  {
   "cell_type": "code",
   "execution_count": 4,
   "metadata": {},
   "outputs": [
    {
     "data": {
      "text/plain": [
       "'Italian'"
      ]
     },
     "execution_count": 4,
     "metadata": {},
     "output_type": "execute_result"
    }
   ],
   "source": [
    "class Employee:\n",
    "    def __init__(self, full_name, **kwargs):\n",
    "        self.name = full_name.split(' ')[0]\n",
    "        self.lastname = full_name.split(' ')[-1] \n",
    "#         print(kwargs)\n",
    "        for var in kwargs:\n",
    "            if isinstance(kwargs[var], str):\n",
    "                exec(\"self.{0} = '{1}'\".format(var,kwargs[var]))\n",
    "            else:\n",
    "                exec(\"self.{0} = {1}\".format(var,kwargs[var]))\n",
    "john = Employee(\"John Doe\")\n",
    "mary = Employee(\"Mary Major\", salary=120000)\n",
    "richard = Employee(\"Richard Roe\", salary=110000, height=178)\n",
    "giancarlo = Employee(\"Giancarlo Rossi\", salary=115000, height=182, nationality=\"Italian\")\n",
    "john.name\n",
    "mary.lastname\n",
    "richard.height\n",
    "giancarlo.nationality"
   ]
  },
  {
   "cell_type": "code",
   "execution_count": null,
   "metadata": {},
   "outputs": [],
   "source": [
    "4. Create a function that determines whether each seat can &quot;see&quot; the front-\n",
    "stage. A number can &quot;see&quot; the front-stage if it is strictly greater than the\n",
    "number before it.\n",
    "Everyone can see the front-stage in the example below:\n",
    "# FRONT STAGE\n",
    "[[1, 2, 3, 2, 1, 1],\n",
    "[2, 4, 4, 3, 2, 2],\n",
    "[5, 5, 5, 5, 4, 4],\n",
    "[6, 6, 7, 6, 5, 5]]\n",
    "# Starting from the left, the 6 &gt; 5 &gt; 2 &gt; 1, so all numbers can see.\n",
    "# 6 &gt; 5 &gt; 4 &gt; 2 - so all numbers can see, etc.\n",
    "Not everyone can see the front-stage in the example below:\n",
    "# FRONT STAGE\n",
    "[[1, 2, 3, 2, 1, 1],\n",
    "[2, 4, 4, 3, 2, 2],\n",
    "[5, 5, 5, 10, 4, 4],\n",
    "[6, 6, 7, 6, 5, 5]]\n",
    "# The 10 is directly in front of the 6 and blocking its view.\n",
    "The function should return True if every number can see the front-stage, and\n",
    "False if even a single number cannot.\n",
    "Examples\n",
    "can_see_stage([\n",
    "[1, 2, 3],\n",
    "[4, 5, 6],\n",
    "[7, 8, 9]\n",
    "]) ➞ True\n",
    "can_see_stage([\n",
    "[0, 0, 0],\n",
    "[1, 1, 1],\n",
    "[2, 2, 2]\n",
    "]) ➞ True\n",
    "can_see_stage([\n",
    "[2, 0, 0],\n",
    "[1, 1, 1],\n",
    "\n",
    "[2, 2, 2]\n",
    "]) ➞ False\n",
    "can_see_stage([\n",
    "[1, 0, 0],\n",
    "[1, 1, 1],\n",
    "[2, 2, 2]\n",
    "]) ➞ False\n",
    "# Number must be strictly smaller than\n",
    "# the number directly behind it."
   ]
  },
  {
   "cell_type": "code",
   "execution_count": 5,
   "metadata": {},
   "outputs": [
    {
     "data": {
      "text/plain": [
       "False"
      ]
     },
     "execution_count": 5,
     "metadata": {},
     "output_type": "execute_result"
    }
   ],
   "source": [
    "def can_see_stage(mat):\n",
    "    for i in range(len(mat[0])):\n",
    "        new = True\n",
    "        for j in range(len(mat)-1,-1,-1):\n",
    "            if new == True:\n",
    "                max = mat[j][i]\n",
    "                new = False\n",
    "            elif (max<=mat[j][i]):\n",
    "                return False\n",
    "            else:\n",
    "                max = mat[j][i]\n",
    "            if j == 0:\n",
    "                new = True\n",
    "\n",
    "    return True\n",
    "can_see_stage([\n",
    "  [1, 2, 3],\n",
    "  [4, 5, 6],\n",
    "  [7, 8, 9]\n",
    "])\n",
    "\n",
    "can_see_stage([\n",
    "  [0, 0, 0],\n",
    "  [1, 1, 1],\n",
    "  [2, 2, 2]\n",
    "])\n",
    "\n",
    "can_see_stage([\n",
    "  [2, 0, 0], \n",
    "  [1, 1, 1], \n",
    "  [2, 2, 2]\n",
    "])\n",
    "can_see_stage([\n",
    "  [1, 0, 0],\n",
    "  [1, 1, 1],\n",
    "  [2, 2, 2]\n",
    "])\n"
   ]
  },
  {
   "attachments": {},
   "cell_type": "markdown",
   "metadata": {},
   "source": [
    "5. Create a Pizza class with the attributes order_number and ingredients\n",
    "(which is given as a list). Only the ingredients will be given as input.\n",
    "You should also make it so that its possible to choose a ready made pizza\n",
    "flavour rather than typing out the ingredients manually! As well as creating\n",
    "this Pizza class, hard-code the following pizza flavours.\n",
    "Name Ingredients\n",
    "hawaiian ham, pineapple\n",
    "meat_festival beef, meatball, bacon\n",
    "garden_feast spinach, olives, mushroom\n",
    "Examples\n",
    "p1 = Pizza([&quot;bacon&quot;, &quot;parmesan&quot;, &quot;ham&quot;]) # order 1\n",
    "p2 = Pizza.garden_feast() # order 2\n",
    "p1.ingredients ➞ [&quot;bacon&quot;, &quot;parmesan&quot;, &quot;ham&quot;]\n",
    "p2.ingredients ➞ [&quot;spinach&quot;, &quot;olives&quot;, &quot;mushroom&quot;]\n",
    "p1.order_number ➞ 1\n",
    "p2.order_number ➞ 2"
   ]
  },
  {
   "cell_type": "code",
   "execution_count": 6,
   "metadata": {},
   "outputs": [
    {
     "data": {
      "text/plain": [
       "2"
      ]
     },
     "execution_count": 6,
     "metadata": {},
     "output_type": "execute_result"
    }
   ],
   "source": [
    "order_number = 0\n",
    "class Pizza:\n",
    "    def __init__(self, *ingrd):\n",
    "        global order_number\n",
    "        order_number += 1\n",
    "        self.order_number = order_number\n",
    "        self.ingredients = ingrd[0]\n",
    "        \n",
    "    @classmethod\n",
    "    def garden_feast(self):\n",
    "        global order_number\n",
    "        order_number += 1\n",
    "        self.order_number = order_number\n",
    "        self.ingredients = [\"spinach\", \"olives\", \"mushroom\"]\n",
    "        return self\n",
    "        \n",
    "    @classmethod\n",
    "    def meat_festival(self):\n",
    "        global order_number\n",
    "        order_number += 1\n",
    "        self.order_number = order_number\n",
    "        self.ingredients = ['beef', 'meatball', 'bacon']\n",
    "        return self\n",
    "    \n",
    "    @classmethod    \n",
    "    def hawaiian(self):\n",
    "        global order_number\n",
    "        order_number += 1\n",
    "        self.order_number = order_number\n",
    "        self.ingredients = ['ham', 'pineapple']\n",
    "        return self\n",
    "p1 = Pizza([\"bacon\", \"parmesan\", \"ham\"])    # order 1\n",
    "p2 = Pizza.garden_feast() \n",
    "p1.ingredients\n",
    "p2.ingredients\n",
    "p1.order_number\n",
    "\n",
    "p2.order_number"
   ]
  }
 ],
 "metadata": {
  "kernelspec": {
   "display_name": "base",
   "language": "python",
   "name": "python3"
  },
  "language_info": {
   "codemirror_mode": {
    "name": "ipython",
    "version": 3
   },
   "file_extension": ".py",
   "mimetype": "text/x-python",
   "name": "python",
   "nbconvert_exporter": "python",
   "pygments_lexer": "ipython3",
   "version": "3.8.5"
  },
  "orig_nbformat": 4,
  "vscode": {
   "interpreter": {
    "hash": "49dc65a12af44c144fa20877bc914b34e80c2deae3989fd7a634dfb096a0b906"
   }
  }
 },
 "nbformat": 4,
 "nbformat_minor": 2
}
