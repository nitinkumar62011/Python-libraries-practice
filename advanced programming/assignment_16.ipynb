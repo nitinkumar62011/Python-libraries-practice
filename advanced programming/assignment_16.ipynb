{
 "cells": [
  {
   "cell_type": "code",
   "execution_count": null,
   "metadata": {},
   "outputs": [],
   "source": []
  },
  {
   "attachments": {},
   "cell_type": "markdown",
   "metadata": {},
   "source": [
    "1. Rondo Form is a type of musical structure, in which there is a recurring\n",
    "theme/refrain, notated as A. Here are the rules for valid rondo forms:\n",
    "- Rondo forms always start and end with an A section.\n",
    "- In between the A sections, there should be contrasting sections notated as\n",
    "B, then C, then D, etc... No letter should be skipped.\n",
    "- There shouldn&#39;t be any repeats in the sequence (such as ABBACCA).\n",
    "Create a function which validates whether a given string is a valid Rondo\n",
    "Form.\n",
    "Examples\n",
    "valid_rondo(&quot;ABACADAEAFAGAHAIAJA&quot;) ➞ True\n",
    "valid_rondo(&quot;ABA&quot;) ➞ True\n",
    "valid_rondo(&quot;ABBACCA&quot;) ➞ False\n",
    "valid_rondo(&quot;ACAC&quot;) ➞ False\n",
    "valid_rondo(&quot;A&quot;) ➞ False"
   ]
  },
  {
   "cell_type": "code",
   "execution_count": 1,
   "metadata": {},
   "outputs": [
    {
     "name": "stdout",
     "output_type": "stream",
     "text": [
      "True\n",
      "True\n",
      "False\n",
      "False\n",
      "False\n"
     ]
    }
   ],
   "source": [
    "def valid_rondo(s):\n",
    "    if s[0] == s[-1] == 'A' and len(s) > 1:\n",
    "        for i in range(1,len(s)-1):\n",
    "            if s[i] != 'A' and s.count(s[i]) > 1:\n",
    "                return False\n",
    "\n",
    "        return True\n",
    "    else:\n",
    "        return False\n",
    "    \n",
    "\n",
    "print(valid_rondo(\"ABACADAEAFAGAHAIAJA\"))\n",
    "print(valid_rondo(\"ABA\"))\n",
    "print(valid_rondo(\"ABBACCA\"))\n",
    "print(valid_rondo(\"ACAC\"))\n",
    "print(valid_rondo(\"A\"))"
   ]
  },
  {
   "attachments": {},
   "cell_type": "markdown",
   "metadata": {},
   "source": [
    "2. Create a function that returns the whole of the first sentence which\n",
    "contains a specific word. Include the full stop at the end of the sentence.\n",
    "Examples\n",
    "txt = &quot;I have a cat. I have a mat. Things are going swell.&quot;\n",
    "sentence_searcher(txt, &quot;have&quot;) ➞ &quot;I have a cat.&quot;\n",
    "sentence_searcher(txt, &quot;MAT&quot;) ➞ &quot;I have a mat.&quot;\n",
    "sentence_searcher(txt, &quot;things&quot;) ➞ &quot;Things are going swell.&quot;\n",
    "sentence_searcher(txt, &quot;flat&quot;) ➞ &quot;&quot;"
   ]
  },
  {
   "cell_type": "code",
   "execution_count": null,
   "metadata": {},
   "outputs": [],
   "source": [
    "def sentence_searcher(txt, s):\n",
    "    for i in txt.split('.'):\n",
    "        if s.lower() in i.lower():\n",
    "            i = i.strip()\n",
    "            i += '.'\n",
    "            return i\n",
    "    else:\n",
    "        return \"\"\n",
    "    \n",
    "txt = \"I have a cat. I have a mat. Things are going swell.\"\n",
    "    \n",
    "print(sentence_searcher(txt, \"have\"))\n",
    "\n",
    "print(sentence_searcher(txt, \"MAT\"))\n",
    "\n",
    "print(sentence_searcher(txt, \"things\"))\n",
    "\n",
    "print(sentence_searcher(txt, \"flat\"))"
   ]
  },
  {
   "attachments": {},
   "cell_type": "markdown",
   "metadata": {},
   "source": [
    "3. Given a number, find the &quot;round &quot;of each digit of the number. An integer is\n",
    "called &quot;round&quot; if all its digits except the leftmost (most significant) are equal to\n",
    "zero.\n",
    "- Round numbers: 4000, 1, 9, 800, 90\n",
    "- Not round numbers: 110, 707, 222, 1001\n",
    "\n",
    "Create a function that takes a number and returns the &quot;round&quot; of each digit\n",
    "(except if the digit is zero) as a string. Check out the following examples for\n",
    "more clarification.\n",
    "Examples\n",
    "sum_round(101) ➞ &quot;1 100&quot;\n",
    "sum_round(1234) ➞ &quot;4 30 200 1000&quot;\n",
    "sum_round(54210) ➞ &quot;10 200 4000 50000&quot;"
   ]
  },
  {
   "cell_type": "code",
   "execution_count": 2,
   "metadata": {},
   "outputs": [
    {
     "name": "stdout",
     "output_type": "stream",
     "text": [
      "1 1000\n",
      "4 30 200 1000\n",
      "10 200 4000 50000\n",
      "10 2000 40000 500000\n"
     ]
    }
   ],
   "source": [
    "def sum_round(n):\n",
    "    n = str(n)\n",
    "    output = ''\n",
    "    j = 1\n",
    "    for i in range(len(n)-1,-1,-1):\n",
    "        output += str(int(n[i]) * j) + ' '\n",
    "        j *= 10\n",
    "\n",
    "    output = output.lstrip('0 ').replace(' 0','')\n",
    "    return output.strip()        \n",
    "        \n",
    "print(sum_round(1001))\n",
    "\n",
    "print(sum_round(1234))\n",
    "\n",
    "print(sum_round(54210))\n",
    "\n",
    "print(sum_round(542010))"
   ]
  },
  {
   "attachments": {},
   "cell_type": "markdown",
   "metadata": {},
   "source": [
    "4. Your task, is to create N x N multiplication table, of size n provided in\n",
    "parameter.\n",
    "For example, when n is 5, the multiplication table is:\n",
    "- 1, 2, 3, 4, 5\n",
    "- 2, 4, 6, 8, 10\n",
    "- 3, 6, 9, 12, 15\n",
    "- 4, 8, 12, 16, 20\n",
    "- 5, 10, 15, 20, 25\n",
    "This example will result in:\n",
    "[[1, 2, 3, 4, 5], [2, 4, 6, 8, 10], [3, 6, 9, 12, 15], [4, 8, 12, 16, 20], [5, 10, 15, 20,\n",
    "25]]\n",
    "Examples\n",
    "multiplication_table(1) ➞ [[1]]\n",
    "multiplication_table(3) ➞ [[1, 2, 3], [2, 4, 6], [3, 6, 9]]"
   ]
  },
  {
   "cell_type": "code",
   "execution_count": 3,
   "metadata": {},
   "outputs": [
    {
     "name": "stdout",
     "output_type": "stream",
     "text": [
      "[[1]]\n",
      "[[1, 2, 3], [2, 4, 6], [3, 6, 9]]\n"
     ]
    }
   ],
   "source": [
    "def multiplication_table(n):\n",
    "    l = []\n",
    "    k = 1\n",
    "    \n",
    "    for i in range(n):\n",
    "        l1 = []\n",
    "        for j in range(1,n+1):\n",
    "            l1.append(j * k)\n",
    "        l.append(l1)    \n",
    "        k += 1\n",
    "        \n",
    "    return l \n",
    "\n",
    "print(multiplication_table(1))\n",
    "print(multiplication_table(3))\n"
   ]
  },
  {
   "attachments": {},
   "cell_type": "markdown",
   "metadata": {},
   "source": [
    "5. Create a function that returns True if two lines rhyme and False otherwise.\n",
    "For the purposes of this exercise, two lines rhyme if the last word from each\n",
    "sentence contains the same vowels.\n",
    "Examples\n",
    "does_rhyme(&quot;Sam I am!&quot;, &quot;Green eggs and ham.&quot;) ➞ True\n",
    "does_rhyme(&quot;Sam I am!&quot;, &quot;Green eggs and HAM.&quot;) ➞ True\n",
    "# Capitalization and punctuation should not matter.\n",
    "\n",
    "does_rhyme(&quot;You are off to the races&quot;, &quot;a splendid day.&quot;) ➞ False\n",
    "does_rhyme(&quot;and frequently do?&quot;, &quot;you gotta move.&quot;) ➞ False"
   ]
  },
  {
   "cell_type": "code",
   "execution_count": 4,
   "metadata": {},
   "outputs": [
    {
     "name": "stdout",
     "output_type": "stream",
     "text": [
      "True\n",
      "True\n",
      "False\n",
      "False\n"
     ]
    }
   ],
   "source": [
    "def does_rhyme(s,s1):\n",
    "    for letter in s.split()[-1]:\n",
    "        for letter1 in s1.split()[-1]:\n",
    "            if letter.lower() in \"aieou\" and letter1.lower() in \"aeiou\":\n",
    "                if letter.lower() != letter1.lower():\n",
    "                    return False\n",
    "    return True            \n",
    "            \n",
    "print(does_rhyme(\"Sam I am!\", \"Green eggs and ham.\"))\n",
    "print(does_rhyme(\"Sam I am!\", \"Green eggs and HAM.\") )\n",
    "print(does_rhyme(\"You are off to the races\", \"a splendid day.\"))\n",
    "print(does_rhyme(\"and frequently do?\", \"you gotta move.\"))"
   ]
  }
 ],
 "metadata": {
  "kernelspec": {
   "display_name": "base",
   "language": "python",
   "name": "python3"
  },
  "language_info": {
   "codemirror_mode": {
    "name": "ipython",
    "version": 3
   },
   "file_extension": ".py",
   "mimetype": "text/x-python",
   "name": "python",
   "nbconvert_exporter": "python",
   "pygments_lexer": "ipython3",
   "version": "3.8.5"
  },
  "orig_nbformat": 4,
  "vscode": {
   "interpreter": {
    "hash": "49dc65a12af44c144fa20877bc914b34e80c2deae3989fd7a634dfb096a0b906"
   }
  }
 },
 "nbformat": 4,
 "nbformat_minor": 2
}
