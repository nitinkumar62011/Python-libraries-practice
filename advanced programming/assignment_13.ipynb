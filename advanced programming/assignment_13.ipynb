{
 "cells": [
  {
   "cell_type": "code",
   "execution_count": null,
   "metadata": {},
   "outputs": [],
   "source": []
  },
  {
   "attachments": {},
   "cell_type": "markdown",
   "metadata": {},
   "source": [
    "1. Create a function that takes a list and string. The function should remove\n",
    "the letters in the string from the list, and return the list.\n",
    "Examples\n",
    "remove_letters([&quot;s&quot;, &quot;t&quot;, &quot;r&quot;, &quot;i&quot;, &quot;n&quot;, &quot;g&quot;, &quot;w&quot;], &quot;string&quot;) ➞ [&quot;w&quot;]\n",
    "remove_letters([&quot;b&quot;, &quot;b&quot;, &quot;l&quot;, &quot;l&quot;, &quot;g&quot;, &quot;n&quot;, &quot;o&quot;, &quot;a&quot;, &quot;w&quot;], &quot;balloon&quot;) ➞ [&quot;b&quot;, &quot;g&quot;,\n",
    "&quot;w&quot;]\n",
    "remove_letters([&quot;d&quot;, &quot;b&quot;, &quot;t&quot;, &quot;e&quot;, &quot;a&quot;, &quot;i&quot;], &quot;edabit&quot;) ➞ []"
   ]
  },
  {
   "cell_type": "code",
   "execution_count": 1,
   "metadata": {},
   "outputs": [
    {
     "name": "stdout",
     "output_type": "stream",
     "text": [
      "['w']\n",
      "['b', 'g', 'w']\n",
      "[]\n"
     ]
    }
   ],
   "source": [
    "def remove_letters(l,s):\n",
    "    i = 0\n",
    "    while True:\n",
    "        if len(s) == 0:\n",
    "            break\n",
    "        else:\n",
    "            if s[i] in l:\n",
    "                if s.count(s[i]) > 1 and(s.count(s[i]) != l.count(s[i])):\n",
    "                    l.remove(s[i])\n",
    "                    s = s.replace(s[i],'')\n",
    "                else:\n",
    "                    l.remove(s[i])                    \n",
    "                    s = s.replace(s[i],'',1)\n",
    "            else:\n",
    "                i += 1\n",
    "    return l\n",
    "\n",
    "print(remove_letters([\"s\", \"t\", \"r\", \"i\", \"n\", \"g\", \"w\"], \"string\"))\n",
    "print(remove_letters([\"b\", \"b\", \"l\", \"l\", \"g\", \"n\", \"o\", \"a\", \"w\"], \"balloon\"))\n",
    "print(remove_letters([\"d\", \"b\", \"t\", \"e\", \"a\", \"i\"], \"edabit\") )"
   ]
  },
  {
   "attachments": {},
   "cell_type": "markdown",
   "metadata": {},
   "source": [
    "2. A block sequence in three dimensions. We can write a formula for this one:\n",
    "\n",
    "Create a function that takes a number (step) as an argument and returns the\n",
    "amount of blocks in that step.\n",
    "Examples\n",
    "blocks(1) ➞ 5\n",
    "blocks(5) ➞ 39\n",
    "blocks(2) ➞ 12"
   ]
  },
  {
   "cell_type": "code",
   "execution_count": 2,
   "metadata": {},
   "outputs": [
    {
     "name": "stdout",
     "output_type": "stream",
     "text": [
      "5\n",
      "39\n",
      "12\n"
     ]
    }
   ],
   "source": [
    "def fun(n):\n",
    "    if n == 1:\n",
    "        return 1\n",
    "    else:\n",
    "        return n + fun(n-1)\n",
    "    \n",
    "def blocks(step):\n",
    "    return fun(step) + step * 3 + step * 2 -1\n",
    "\n",
    "\n",
    "print(blocks(1))\n",
    "print(blocks(5))\n",
    "print(blocks(2))"
   ]
  },
  {
   "attachments": {},
   "cell_type": "markdown",
   "metadata": {},
   "source": [
    "3. Create a function that subtracts one positive integer from another, without\n",
    "using any arithmetic operators such as -, %, /, +, etc.\n",
    "Examples\n",
    "my_sub(5, 9) ➞ 4\n",
    "my_sub(10, 30) ➞ 20\n",
    "my_sub(0, 0) ➞ 0"
   ]
  },
  {
   "cell_type": "code",
   "execution_count": 3,
   "metadata": {},
   "outputs": [
    {
     "name": "stdout",
     "output_type": "stream",
     "text": [
      "4\n",
      "20\n",
      "0\n"
     ]
    }
   ],
   "source": [
    "def my_sub(n1,n2):\n",
    "    if n2 > n1:\n",
    "        return n2 - n1 % n2\n",
    "    elif n1 > n2:\n",
    "        return n1 - n2 % n1\n",
    "    elif n1 == 0 and n2 == 0:\n",
    "        return 0\n",
    "    \n",
    "print(my_sub(5,9))\n",
    "print(my_sub(10,30))\n",
    "print(my_sub(0,0))"
   ]
  },
  {
   "attachments": {},
   "cell_type": "markdown",
   "metadata": {},
   "source": [
    "4. Create a function that takes a string containing money in dollars and\n",
    "pounds sterling (seperated by comma) and returns the sum of dollar bills only,\n",
    "as an integer.\n",
    "For the input string:\n",
    "- Each amount is prefixed by the currency symbol: $ for dollars and £ for\n",
    "pounds.\n",
    "- Thousands are represented by the suffix k.\n",
    "i.e. $4k = $4,000 and £40k = £40,000\n",
    "Examples\n",
    "add_bill(&quot;d20,p40,p60,d50&quot;) ➞ 20 + 50 = 70\n",
    "add_bill(&quot;p30,d20,p60,d150,p360&quot;) ➞ 20 + 150 = 170\n",
    "add_bill(&quot;p30,d2k,p60,d200,p360&quot;) ➞ 2 * 1000 + 200 = 2200"
   ]
  },
  {
   "cell_type": "code",
   "execution_count": 4,
   "metadata": {},
   "outputs": [
    {
     "name": "stdout",
     "output_type": "stream",
     "text": [
      "70\n",
      "170\n",
      "2200\n"
     ]
    }
   ],
   "source": [
    "def add_bill(s):\n",
    "    sum1 = ''\n",
    "    for i in s.split(','):\n",
    "        if 'd' in i:\n",
    "            sum1 += i\n",
    "    sum1 = sum1.replace('k','000')\n",
    "    bill = 0\n",
    "    for i in sum1.split('d')[1:]:\n",
    "        bill += int(i)\n",
    "    \n",
    "    return bill    \n",
    "                \n",
    "print(add_bill(\"d20,p40,p60,d50\"))\n",
    "print(add_bill(\"p30,d20,p60,d150,p360\"))\n",
    "print(add_bill(\"p30,d2k,p60,d200,p360\"))"
   ]
  },
  {
   "attachments": {},
   "cell_type": "markdown",
   "metadata": {},
   "source": [
    "5. Create a function that flips a horizontal list into a vertical list, and a vertical\n",
    "list into a horizontal list.\n",
    "In other words, take an 1 x n list (1 row + n columns) and flip it into a n x 1 list\n",
    "(n rows and 1 column), and vice versa.\n",
    "Examples\n",
    "flip_list([1, 2, 3, 4]) ➞ [[1], [2], [3], [4]]\n",
    "# Take a horizontal list and flip it vertical.\n",
    "flip_list([[5], [6], [9]]) ➞ [5, 6, 9]\n",
    "# Take a vertical list and flip it horizontal.\n",
    "flip_list([]) ➞ []"
   ]
  },
  {
   "cell_type": "code",
   "execution_count": 6,
   "metadata": {},
   "outputs": [
    {
     "name": "stdout",
     "output_type": "stream",
     "text": [
      "[[1], [2], [3], [4]]\n",
      "[5, 6, 7]\n",
      "[]\n"
     ]
    }
   ],
   "source": [
    "def flip_list1(l):\n",
    "    j = 0\n",
    "    for i in range(len(l)):\n",
    "        if type(l[i]) == list:\n",
    "            l[i] = int(str(l[i]).replace('[','').replace(']',''))\n",
    "        elif type(l[i]) == int:\n",
    "            l[i] = [l[i]]\n",
    "\n",
    "    return l       \n",
    "\n",
    "print(flip_list1([1,2,3,4]))\n",
    "\n",
    "print(flip_list1([[5],[6],[7]]))\n",
    "print(flip_list1([]))"
   ]
  }
 ],
 "metadata": {
  "kernelspec": {
   "display_name": "base",
   "language": "python",
   "name": "python3"
  },
  "language_info": {
   "codemirror_mode": {
    "name": "ipython",
    "version": 3
   },
   "file_extension": ".py",
   "mimetype": "text/x-python",
   "name": "python",
   "nbconvert_exporter": "python",
   "pygments_lexer": "ipython3",
   "version": "3.8.5"
  },
  "orig_nbformat": 4,
  "vscode": {
   "interpreter": {
    "hash": "49dc65a12af44c144fa20877bc914b34e80c2deae3989fd7a634dfb096a0b906"
   }
  }
 },
 "nbformat": 4,
 "nbformat_minor": 2
}
