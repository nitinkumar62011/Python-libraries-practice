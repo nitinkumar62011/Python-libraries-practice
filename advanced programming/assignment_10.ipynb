{
 "cells": [
  {
   "cell_type": "code",
   "execution_count": null,
   "metadata": {},
   "outputs": [],
   "source": []
  },
  {
   "attachments": {},
   "cell_type": "markdown",
   "metadata": {},
   "source": [
    "1. Create a function that takes the width, height and character and returns a\n",
    "picture frame as a 2D list.\n",
    "Examples\n",
    "get_frame(4, 5, &quot;#&quot;) ➞ [\n",
    "[&quot;####&quot;],\n",
    "[&quot;# #&quot;],\n",
    "[&quot;# #&quot;],\n",
    "[&quot;# #&quot;],\n",
    "[&quot;####&quot;]\n",
    "]\n",
    "# Frame is 4 characters wide and 5 characters tall.\n",
    "\n",
    "get_frame(10, 3, &quot;*&quot;) ➞ [\n",
    "[&quot;**********&quot;],\n",
    "[&quot;* *&quot;],\n",
    "[&quot;**********&quot;]\n",
    "]\n",
    "# Frame is 10 characters and wide and 3 characters tall.\n",
    "\n",
    "get_frame(2, 5, &quot;0&quot;) ➞ &quot;invalid&quot;\n",
    "# Frame&#39;s width is not more than 2."
   ]
  },
  {
   "cell_type": "code",
   "execution_count": 1,
   "metadata": {},
   "outputs": [
    {
     "name": "stdout",
     "output_type": "stream",
     "text": [
      "[['####'], ['#  #'], ['#  #'], ['#  #'], ['####']]\n",
      "[['**********'], ['*        *'], ['**********']]\n",
      "[['++++++'], ['+    +'], ['+    +'], ['+    +'], ['+    +'], ['+    +'], ['++++++']]\n",
      "Invalid\n"
     ]
    }
   ],
   "source": [
    "def get_frame(w,t,char):\n",
    "    l = []\n",
    "    if w > 2:\n",
    "        for i in range(t):\n",
    "            l1 = []\n",
    "            if i == 0 or i == t-1:\n",
    "                l1.append(char*w)\n",
    "            else:\n",
    "                pattern = char + ' ' * (w-2) + char\n",
    "                l1.append(pattern)\n",
    "            l.append(l1)                \n",
    "        return l\n",
    "    else:\n",
    "        return 'Invalid'\n",
    "            \n",
    "print(get_frame(4,5,'#')) \n",
    "print(get_frame(10,3,'*'))\n",
    "print(get_frame(6,7,'+'))\n",
    "print(get_frame(2,5,'0'))"
   ]
  },
  {
   "attachments": {},
   "cell_type": "markdown",
   "metadata": {},
   "source": [
    "2. Write three functions:\n",
    "1. boolean_and\n",
    "2. boolean_or\n",
    "3. boolean_xor\n",
    "These functions should evaluate a list of True and False values, starting from\n",
    "the leftmost element and evaluating pairwise.\n",
    "Examples\n",
    "boolean_and([True, True, False, True]) ➞ False\n",
    "# [True, True, False, True] =&gt; [True, False, True] =&gt; [False, True] =&gt; False\n",
    "boolean_or([True, True, False, False]) ➞ True\n",
    "# [True, True, False, True] =&gt; [True, False, False] =&gt; [True, False] =&gt; True\n",
    "boolean_xor([True, True, False, False]) ➞ False\n",
    "# [True, True, False, False] =&gt; [False, False, False] =&gt; [False, False] =&gt;\n",
    "False"
   ]
  },
  {
   "cell_type": "code",
   "execution_count": 2,
   "metadata": {},
   "outputs": [
    {
     "name": "stdout",
     "output_type": "stream",
     "text": [
      "False\n",
      "True\n",
      "False\n"
     ]
    }
   ],
   "source": [
    "def boolean_and(l):\n",
    "    res = True\n",
    "    i = 0\n",
    "    while i < len(l):\n",
    "        res = res and l[i]\n",
    "        l.pop(i)\n",
    "        l[0] = res\n",
    "        length = len(l)\n",
    "        i += 1\n",
    "    return l[0] and l[1]\n",
    "\n",
    "def boolean_or(l):\n",
    "    res = False\n",
    "    i = 0\n",
    "    while i < len(l):\n",
    "        res = res or l[i]\n",
    "        l.pop(i)\n",
    "        l[0] = res\n",
    "        length = len(l)\n",
    "        i += 1\n",
    "    return l[0] or l[1]\n",
    "\n",
    "def boolean_xor(l):\n",
    "    res = True\n",
    "    i = 0\n",
    "    while i < len(l):\n",
    "        res = res ^ l[i]\n",
    "        l.pop(i)\n",
    "        l[0] = res\n",
    "        length = len(l)\n",
    "        i += 1\n",
    "    return l[0] ^ l[1]\n",
    "\n",
    "print(boolean_and([False, True, False, True]) )        \n",
    "print(boolean_or([True, True, False, False])) \n",
    "print(boolean_xor([True, True, False, False]))"
   ]
  },
  {
   "attachments": {},
   "cell_type": "markdown",
   "metadata": {},
   "source": [
    "3. Create a function that creates a box based on dimension n.\n",
    "Examples\n",
    "make_box(5) ➞ [\n",
    "&quot;#####&quot;,\n",
    "&quot;# #&quot;,\n",
    "&quot;# #&quot;,\n",
    "&quot;# #&quot;,\n",
    "&quot;#####&quot;\n",
    "]\n",
    "make_box(3) ➞ [\n",
    "&quot;###&quot;,\n",
    "&quot;# #&quot;,\n",
    "&quot;###&quot;\n",
    "]\n",
    "make_box(2) ➞ [\n",
    "&quot;##&quot;,\n",
    "&quot;##&quot;\n",
    "]\n",
    "make_box(1) ➞ [\n",
    "&quot;#&quot;\n",
    "]"
   ]
  },
  {
   "cell_type": "code",
   "execution_count": 3,
   "metadata": {},
   "outputs": [
    {
     "name": "stdout",
     "output_type": "stream",
     "text": [
      "Output is::\n",
      "['#####', '#   #', '#   #', '#   #', '#####']\n",
      "Output is::\n",
      "['###', '# #', '###']\n",
      "Output is::\n",
      "['##', '##']\n",
      "Output is::\n",
      "['#']\n"
     ]
    }
   ],
   "source": [
    "def make_box(n):\n",
    "    l = []\n",
    "    print('Output is::')\n",
    "    for i in range(n):\n",
    "        pattern = ''\n",
    "        if i == 0 or i == n-1:\n",
    "            pattern += '#'*n\n",
    "        else:\n",
    "            pattern += '#' + ' ' * (n-2) + '#'\n",
    "        l.append(pattern)    \n",
    "    return l\n",
    "\n",
    "print(make_box(5))\n",
    "print(make_box(3))\n",
    "print(make_box(2))\n",
    "print(make_box(1))"
   ]
  },
  {
   "attachments": {},
   "cell_type": "markdown",
   "metadata": {},
   "source": [
    "4. Given a common phrase, return False if any individual word in the phrase\n",
    "contains duplicate letters. Return True otherwise.\n",
    "Examples\n",
    "no_duplicate_letters(&quot;Fortune favours the bold.&quot;) ➞ True\n",
    "no_duplicate_letters(&quot;You can lead a horse to water, but you can&#39;t make him\n",
    "drink.&quot;) ➞ True\n",
    "no_duplicate_letters(&quot;Look before you leap.&quot;) ➞ False\n",
    "# Duplicate letters in &quot;Look&quot; and &quot;before&quot;.\n",
    "no_duplicate_letters(&quot;An apple a day keeps the doctor away.&quot;) ➞ False\n",
    "# Duplicate letters in &quot;apple&quot;, &quot;keeps&quot;, &quot;doctor&quot;, and &quot;away&quot;."
   ]
  },
  {
   "cell_type": "code",
   "execution_count": 5,
   "metadata": {},
   "outputs": [
    {
     "name": "stdout",
     "output_type": "stream",
     "text": [
      "True\n",
      "False\n"
     ]
    }
   ],
   "source": [
    "def no_duplicate_letters(text):\n",
    "    words=text.split()\n",
    "    for i in words:\n",
    "        for j in i:\n",
    "            if i.count(j)==2:\n",
    "                return False\n",
    "    return True\n",
    "print(no_duplicate_letters(\"Fortune favours the bold.\"))\n",
    "print(no_duplicate_letters(\"Look before you leap.\"))\n"
   ]
  },
  {
   "attachments": {},
   "cell_type": "markdown",
   "metadata": {},
   "source": [
    "5. Write a regular expression that will match the states that voted yes to\n",
    "President Trump&#39;s impeachment. You must use RegEx positive lookahead.\n",
    "Example\n",
    "txt = &quot;Texas = no, California = yes, Florida = yes, Michigan = no&quot;\n",
    "pattern = &quot;yourregularexpressionhere&quot;\n",
    "re.findall(pattern, txt) ➞ [&quot;California&quot;, &quot;Florida&quot;]"
   ]
  },
  {
   "cell_type": "code",
   "execution_count": 6,
   "metadata": {},
   "outputs": [
    {
     "name": "stdout",
     "output_type": "stream",
     "text": [
      "['California', 'Florida']\n"
     ]
    }
   ],
   "source": [
    "import re\n",
    "\n",
    "txt = \"Texas = no, California = yes, Florida = yes, Michigan = no\" \n",
    "\n",
    "pattern = r'[a-zA-Z]+(?= = yes)'\n",
    "\n",
    "match = re.findall(pattern, txt)\n",
    "\n",
    "print(match)"
   ]
  },
  {
   "cell_type": "code",
   "execution_count": null,
   "metadata": {},
   "outputs": [],
   "source": []
  }
 ],
 "metadata": {
  "kernelspec": {
   "display_name": "base",
   "language": "python",
   "name": "python3"
  },
  "language_info": {
   "codemirror_mode": {
    "name": "ipython",
    "version": 3
   },
   "file_extension": ".py",
   "mimetype": "text/x-python",
   "name": "python",
   "nbconvert_exporter": "python",
   "pygments_lexer": "ipython3",
   "version": "3.8.5"
  },
  "orig_nbformat": 4,
  "vscode": {
   "interpreter": {
    "hash": "49dc65a12af44c144fa20877bc914b34e80c2deae3989fd7a634dfb096a0b906"
   }
  }
 },
 "nbformat": 4,
 "nbformat_minor": 2
}
