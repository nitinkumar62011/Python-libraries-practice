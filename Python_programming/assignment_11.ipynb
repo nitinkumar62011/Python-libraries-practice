{
 "cells": [
  {
   "cell_type": "markdown",
   "metadata": {},
   "source": [
    "1. Write a Python program to find words which are greater than given length k?"
   ]
  },
  {
   "cell_type": "code",
   "execution_count": 2,
   "metadata": {},
   "outputs": [
    {
     "name": "stdout",
     "output_type": "stream",
     "text": [
      "words are who's legth greater than3  ['name', 'nitin', 'kumar']\n"
     ]
    }
   ],
   "source": [
    "def greater_length(sentence,k):\n",
    "    words=sentence.split()\n",
    "    greaterthan_K_wordlength=[]\n",
    "    for i in words:\n",
    "        if len(i)>k:\n",
    "            greaterthan_K_wordlength.append(i)\n",
    "    return greaterthan_K_wordlength\n",
    "\n",
    "sentence=input(\"Enter the sentences\")\n",
    "k=int(input(\"enter the length of word\"))\n",
    "print(f\"words are who's legth greater than{str(k)} \",greater_length(sentence,k))"
   ]
  },
  {
   "cell_type": "markdown",
   "metadata": {},
   "source": [
    "2. Write a Python program for removing i-th character from a string?"
   ]
  },
  {
   "cell_type": "code",
   "execution_count": 4,
   "metadata": {},
   "outputs": [
    {
     "name": "stdout",
     "output_type": "stream",
     "text": [
      "new string after removel 2position  niin\n"
     ]
    }
   ],
   "source": [
    "def removeIthChar(string,ith):\n",
    "    new_str=''\n",
    "    for i in range(len(string)):\n",
    "        if i==ith:\n",
    "            pass\n",
    "        else:\n",
    "            new_str+=string[i]\n",
    "    return new_str\n",
    "\n",
    "string=input(\"Enter the string\")\n",
    "ith=int(input(\"Enter the ith position\"))\n",
    "print(f\"new string after removel {str(ith) }position \",removeIthChar(string,ith))"
   ]
  },
  {
   "cell_type": "markdown",
   "metadata": {},
   "source": [
    "3. Write a Python program to split and join a string?"
   ]
  },
  {
   "cell_type": "code",
   "execution_count": 10,
   "metadata": {},
   "outputs": [
    {
     "name": "stdout",
     "output_type": "stream",
     "text": [
      "new string after split and join  (['my', 'name', 'is', 'nitin', 'kumar'], 'mnyn nnnanmnen ninsn nnnintninnn nknunmnanr')\n"
     ]
    }
   ],
   "source": [
    "def split_join(string,joining_word,split_word=''):\n",
    "    split_string=string.split(split_word)\n",
    "    new_join=joining_word.join(string)\n",
    "    return split_string,new_join\n",
    "\n",
    "string=input(\"Enter the string\")\n",
    "split_word=input(\"Enter the split_word\")\n",
    "joining_word=input(\"Enter the  joining_word\")\n",
    "print(f\"new string after split and join \",split_join(string,joining_word,split_word))"
   ]
  },
  {
   "cell_type": "markdown",
   "metadata": {},
   "source": [
    "4. Write a Python to check if a given string is binary string or not?"
   ]
  },
  {
   "cell_type": "code",
   "execution_count": 14,
   "metadata": {},
   "outputs": [
    {
     "name": "stdout",
     "output_type": "stream",
     "text": [
      "Given number  0101001  Number is binary\n"
     ]
    }
   ],
   "source": [
    "def binaery_check(bin):\n",
    "    bin_num='01'\n",
    "    for i in bin:\n",
    "        if i not in bin_num:\n",
    "            return \" Number is not binary number\"\n",
    "        else:\n",
    "            pass\n",
    "    return \" Number is binary\"\n",
    "number=input(\"Enter the binary number\")\n",
    "print(f\"Given number  {number}\",binaery_check(number))"
   ]
  },
  {
   "cell_type": "markdown",
   "metadata": {},
   "source": [
    "5. Write a Python program to find uncommon words from two Strings?"
   ]
  },
  {
   "cell_type": "code",
   "execution_count": 18,
   "metadata": {},
   "outputs": [
    {
     "name": "stdout",
     "output_type": "stream",
     "text": [
      "Uncommon words are  ['nitin', 'nik']\n"
     ]
    }
   ],
   "source": [
    "def uncommonWords(sen1,sen2):\n",
    "    sen1_word=sen1.split()\n",
    "    sen2_word=sen2.split()\n",
    "    uncommom=[]\n",
    "    for i in sen1_word:\n",
    "        if i not in sen2_word:\n",
    "            uncommom.append(i)\n",
    "    for i in sen2_word:\n",
    "        if i not in sen1_word:\n",
    "            uncommom.append(i)\n",
    "    return uncommom\n",
    "sen1=input(\"Enter sentence 1\")\n",
    "sen2=input(\"Enter sentence 2\")\n",
    "print(\"Uncommon words are \",uncommonWords(sen1,sen2))\n",
    "\n"
   ]
  },
  {
   "cell_type": "markdown",
   "metadata": {},
   "source": [
    "6. Write a Python to find all duplicate characters in string?"
   ]
  },
  {
   "cell_type": "code",
   "execution_count": 19,
   "metadata": {},
   "outputs": [
    {
     "data": {
      "text/plain": [
       "['i', ' ']"
      ]
     },
     "execution_count": 19,
     "metadata": {},
     "output_type": "execute_result"
    }
   ],
   "source": [
    "str = input(\"Enter the string a : \").lower()\n",
    "duplicate = []\n",
    "\n",
    "for i in str:\n",
    "    if str.count(i) > 1 :\n",
    "        if i not in duplicate:\n",
    "            duplicate.append(i)\n",
    "        \n",
    "duplicate"
   ]
  },
  {
   "cell_type": "code",
   "execution_count": 22,
   "metadata": {},
   "outputs": [],
   "source": [
    "#7. Write a Python Program to check if a string contains any special character"
   ]
  },
  {
   "cell_type": "code",
   "execution_count": 21,
   "metadata": {},
   "outputs": [
    {
     "name": "stdout",
     "output_type": "stream",
     "text": [
      "String my $ has special charecter/s : ['$']\n"
     ]
    }
   ],
   "source": [
    "import string\n",
    "\n",
    "string_char = string.punctuation\n",
    "spChar = []\n",
    "\n",
    "str = input(\"Enter the string a : \").lower()\n",
    "for i in str:\n",
    "    if i in string_char:\n",
    "        spChar.append(i)\n",
    "if len(spChar) > 0:\n",
    "    print(\"String {} has special charecter/s : {}\".format(str,spChar))\n"
   ]
  },
  {
   "cell_type": "code",
   "execution_count": null,
   "metadata": {},
   "outputs": [],
   "source": []
  }
 ],
 "metadata": {
  "kernelspec": {
   "display_name": "Python 3.6.13 ('dogcat')",
   "language": "python",
   "name": "python3"
  },
  "language_info": {
   "codemirror_mode": {
    "name": "ipython",
    "version": 3
   },
   "file_extension": ".py",
   "mimetype": "text/x-python",
   "name": "python",
   "nbconvert_exporter": "python",
   "pygments_lexer": "ipython3",
   "version": "3.6.13"
  },
  "orig_nbformat": 4,
  "vscode": {
   "interpreter": {
    "hash": "2e8543ae9f21516f2c119dce958e3bd727b59b5836fec464d61cecf8c27b1534"
   }
  }
 },
 "nbformat": 4,
 "nbformat_minor": 2
}
