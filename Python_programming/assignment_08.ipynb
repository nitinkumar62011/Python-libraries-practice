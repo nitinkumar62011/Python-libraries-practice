{
 "cells": [
  {
   "cell_type": "code",
   "execution_count": null,
   "metadata": {},
   "outputs": [],
   "source": []
  },
  {
   "cell_type": "markdown",
   "metadata": {},
   "source": [
    "# 1. Write a Python Program to Add Two Matrices?"
   ]
  },
  {
   "cell_type": "code",
   "execution_count": 3,
   "metadata": {},
   "outputs": [
    {
     "name": "stdout",
     "output_type": "stream",
     "text": [
      "Addition of two matrix [[23, 34, 23, 23], [23, 23, 23, 23], [4, 5, 3, 4]] and [[34, 4, 5, 2], [3443, 3, 33, 44], [67, 56, 56, 56]] is [[57, 38, 28, 25], [3466, 26, 56, 67], [71, 61, 59, 60]]\n"
     ]
    }
   ],
   "source": [
    "def matrix_Addition(mat1,mat2):\n",
    "    row1=len(mat1)\n",
    "    col1=len(mat1[0])\n",
    "    row2=len(mat2)\n",
    "    col2=len(mat2[0])\n",
    "    addition_mat=[]\n",
    "    if row1==row2 and col1==col2:\n",
    "        \n",
    "        for i in range(row1):\n",
    "            temp_add=[]\n",
    "            for j in range(col1):\n",
    "                temp_add.append(mat1[i][j]+mat2[i][j])\n",
    "            addition_mat.append(temp_add)\n",
    "    return addition_mat\n",
    "\n",
    "\n",
    "\n",
    "\n",
    "\n",
    "col1=int(input(\"Enter the no of coloumn 1 \"))\n",
    "row1=int(input(\"Enter the no of row 1\"))\n",
    "mat1=[]\n",
    "mat2=[]\n",
    "for i in range(row1):\n",
    "    temp_row=[]\n",
    "    for j in range(col1):\n",
    "        temp_row.append(int(input(f\"Enter the element{i,j}\" )))\n",
    "    mat1.append(temp_row)\n",
    "col2=int(input(\"Enter the no of coloumn 2 \"))\n",
    "row2=int(input(\"Enter the no of row 2\"))\n",
    "for i in range(row2):\n",
    "    temp_row=[]\n",
    "    for j in range(col2):\n",
    "        temp_row.append(int(input(f\"Enter the element{i,j}\" )))\n",
    "    mat2.append(temp_row)\n",
    "print(f\"Addition of two matrix {mat1} and {mat2} is\",matrix_Addition(mat1,mat2))\n"
   ]
  },
  {
   "cell_type": "markdown",
   "metadata": {},
   "source": [
    "# 2. Write a Python Program to Multiply Two Matrices?"
   ]
  },
  {
   "cell_type": "code",
   "execution_count": 5,
   "metadata": {},
   "outputs": [
    {
     "name": "stdout",
     "output_type": "stream",
     "text": [
      "Multiplication  of two matrix [[3, 4], [3, 4]] and [[3, 4], [3, 4]] is [[21, 28], [21, 28]]\n"
     ]
    }
   ],
   "source": [
    "def Matrix_multiplication(mat1,mat2):\n",
    "    row1=len(mat1)\n",
    "    col1=len(mat1[0])\n",
    "    row2=len(mat2)\n",
    "    col2=len(mat2[0])\n",
    "    multiplication_mat=[]\n",
    "    if col1==row2 :\n",
    "        for i in range(row1):\n",
    "            temp=[]\n",
    "            for j in range(col2):\n",
    "                sumMat=0\n",
    "                for k in range(row1):\n",
    "                    sumMat+=mat1[i][k]*mat2[k][j]\n",
    "                temp.append(sumMat)\n",
    "            multiplication_mat.append(temp)\n",
    "    return multiplication_mat\n",
    "\n",
    "    \n",
    "\n",
    "\n",
    "\n",
    "col1=int(input(\"Enter the no of coloumn 1 \"))\n",
    "row1=int(input(\"Enter the no of row 1\"))\n",
    "mat1=[]\n",
    "mat2=[]\n",
    "for i in range(row1):\n",
    "    temp_row=[]\n",
    "    for j in range(col1):\n",
    "        temp_row.append(int(input(f\"Enter the element{i,j}\" )))\n",
    "    mat1.append(temp_row)\n",
    "col2=int(input(\"Enter the no of coloumn 2 \"))\n",
    "row2=int(input(\"Enter the no of row 2\"))\n",
    "for i in range(row2):\n",
    "    temp_row=[]\n",
    "    for j in range(col2):\n",
    "        temp_row.append(int(input(f\"Enter the element{i,j}\" )))\n",
    "    mat2.append(temp_row)\n",
    "print(f\"Multiplication  of two matrix {mat1} and {mat2} is\",Matrix_multiplication(mat1,mat2))"
   ]
  },
  {
   "cell_type": "markdown",
   "metadata": {},
   "source": [
    "# 3. Write a Python Program to Transpose a Matrix?"
   ]
  },
  {
   "cell_type": "code",
   "execution_count": 6,
   "metadata": {},
   "outputs": [
    {
     "name": "stdout",
     "output_type": "stream",
     "text": [
      "Tranpose   of  matrix  [[3, 4], [5, 6], [5, 5]] is [[3, 5, 5], [4, 6, 5]]\n"
     ]
    }
   ],
   "source": [
    "def Matrix_Transpose(mat2):\n",
    "    row2=len(mat2)\n",
    "    col2=len(mat2[0])\n",
    "    transPose_mat=[]\n",
    "    for i in range(col2):\n",
    "        temp=[]\n",
    "        for j in range(row2):\n",
    "            temp.append(mat2[j][i])\n",
    "        transPose_mat.append(temp)\n",
    "    return transPose_mat\n",
    "\n",
    "col2=int(input(\"Enter the no of coloumn 2 \"))\n",
    "mat2=[]\n",
    "row2=int(input(\"Enter the no of row 2\"))\n",
    "for i in range(row2):\n",
    "    temp_row=[]\n",
    "    for j in range(col2):\n",
    "        temp_row.append(int(input(f\"Enter the element{i,j}\" )))\n",
    "    mat2.append(temp_row)\n",
    "print(f\"Tranpose   of  matrix  {mat2} is\",Matrix_Transpose(mat2))"
   ]
  },
  {
   "cell_type": "markdown",
   "metadata": {},
   "source": [
    "# 4. Write a Python Program to Sort Words in Alphabetic Order?"
   ]
  },
  {
   "cell_type": "code",
   "execution_count": 8,
   "metadata": {},
   "outputs": [
    {
     "name": "stdout",
     "output_type": "stream",
     "text": [
      "Sorted words in alphabetic order ['nhikan', 'nitin']\n"
     ]
    }
   ],
   "source": [
    "def SortedWord(sentence):\n",
    "    words=sentence.split()\n",
    "    return sorted(words)\n",
    "sentence=input(\"Enter the sentences\")\n",
    "print(\"Sorted words in alphabetic order\",SortedWord(sentence))"
   ]
  },
  {
   "cell_type": "markdown",
   "metadata": {},
   "source": [
    "# 5. Write a Python Program to Remove Punctuation From a String?"
   ]
  },
  {
   "cell_type": "code",
   "execution_count": 11,
   "metadata": {},
   "outputs": [
    {
     "name": "stdout",
     "output_type": "stream",
     "text": [
      "After removed string is  i ma nitin  \n"
     ]
    }
   ],
   "source": [
    "def removePunctuation(string):\n",
    "    punctuations = '''!()-[]{};:'\"\\,<>./?@#$%^&*_~'''\n",
    "    new_str=''\n",
    "    for i in string:\n",
    "        if i in punctuations:\n",
    "            pass\n",
    "        else :\n",
    "            new_str=new_str+i\n",
    "    return new_str\n",
    "string=input(\"Enter the string \")\n",
    "print(\"After removed string is \",removePunctuation(string))"
   ]
  },
  {
   "cell_type": "code",
   "execution_count": null,
   "metadata": {},
   "outputs": [],
   "source": []
  }
 ],
 "metadata": {
  "kernelspec": {
   "display_name": "Python 3.6.13 ('dogcat')",
   "language": "python",
   "name": "python3"
  },
  "language_info": {
   "codemirror_mode": {
    "name": "ipython",
    "version": 3
   },
   "file_extension": ".py",
   "mimetype": "text/x-python",
   "name": "python",
   "nbconvert_exporter": "python",
   "pygments_lexer": "ipython3",
   "version": "3.6.13"
  },
  "orig_nbformat": 4,
  "vscode": {
   "interpreter": {
    "hash": "2e8543ae9f21516f2c119dce958e3bd727b59b5836fec464d61cecf8c27b1534"
   }
  }
 },
 "nbformat": 4,
 "nbformat_minor": 2
}
