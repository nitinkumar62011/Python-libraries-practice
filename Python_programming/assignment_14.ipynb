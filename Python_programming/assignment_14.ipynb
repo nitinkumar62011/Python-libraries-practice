{
 "cells": [
  {
   "attachments": {},
   "cell_type": "markdown",
   "metadata": {},
   "source": [
    " # 1 Define a class with a generator which can iterate the numbers, which are divisible by\n",
    " # 7, between a given range 0 and n."
   ]
  },
  {
   "cell_type": "code",
   "execution_count": 21,
   "metadata": {},
   "outputs": [
    {
     "name": "stdout",
     "output_type": "stream",
     "text": [
      "0\n",
      "7\n",
      "14\n",
      "21\n",
      "28\n",
      "35\n",
      "42\n",
      "49\n",
      "56\n",
      "63\n",
      "70\n",
      "77\n",
      "84\n",
      "91\n",
      "98\n"
     ]
    }
   ],
   "source": [
    "def generate_division_By_7(n):\n",
    "    for i in range(n):\n",
    "        if i%7==0:\n",
    "            yield i\n",
    "\n",
    "iter(generate_division_By_7(99))\n",
    "next(generate_division_By_7(99))\n",
    "next(generate_division_By_7(99))\n",
    "\n",
    "for i in (generate_division_By_7(99)):\n",
    "    print(i)"
   ]
  },
  {
   "cell_type": "markdown",
   "metadata": {},
   "source": [
    "Question 2:\n",
    "Write a program to compute the frequency of the words from the input. The output\n",
    "should output after sorting the key alphanumerically.\n",
    "Suppose the following input is supplied to the program:\n",
    "New to Python or choosing between Python 2 and Python 3? Read Python 2 or\n",
    "Python 3.\n",
    "Then, the output should be:\n",
    "2:2\n",
    "3.:1\n",
    "3?:1\n",
    "New:1\n",
    "Python:5\n",
    "Read:1\n",
    "and:1\n",
    "between:1\n",
    "choosing:1\n",
    "or:2\n",
    "to:1"
   ]
  },
  {
   "cell_type": "code",
   "execution_count": 3,
   "metadata": {},
   "outputs": [
    {
     "name": "stdout",
     "output_type": "stream",
     "text": [
      "Output are\n",
      "New 1\n",
      "to 1\n",
      "Python 5\n",
      "or 2\n",
      "choosing 1\n",
      "between 1\n",
      "2 2\n",
      "and 1\n",
      "3? 1\n",
      "Read 1\n",
      "3. 1\n"
     ]
    }
   ],
   "source": [
    "def checkWordFreq(sen):\n",
    "    word_list=sen.split()\n",
    "    dict={}\n",
    "    for i in word_list:\n",
    "        if i in dict:\n",
    "            dict[i]+=1\n",
    "        else:\n",
    "            dict[i]=1\n",
    "    return dict\n",
    "print(\"Output are\")\n",
    "sen=input()\n",
    "for key,value in checkWordFreq(sen).items():\n",
    "    print(key,value)\n"
   ]
  },
  {
   "cell_type": "markdown",
   "metadata": {},
   "source": [
    "Question 3:\n",
    "\n",
    "Define a class Person and its two child classes: Male and Female. All classes have a\n",
    "method &quot;getGender&quot; which can print &quot;Male&quot; for Male class and &quot;Female&quot; for Female\n",
    "class."
   ]
  },
  {
   "cell_type": "code",
   "execution_count": 7,
   "metadata": {},
   "outputs": [
    {
     "name": "stdout",
     "output_type": "stream",
     "text": [
      "Female\n",
      "Male\n"
     ]
    }
   ],
   "source": [
    "class Person:\n",
    "    def __init__(self):\n",
    "        self.gender='Not defined gender'\n",
    "    def getGender(self):\n",
    "        print(self.gender)\n",
    "class Male(Person):\n",
    "    def __init__(self):\n",
    "        self.gender=\"Male\"\n",
    "    \n",
    "class Female(Person):\n",
    "    def __init__(self):\n",
    "        self.gender=\"Female\"\n",
    "    \n",
    "female=Female()\n",
    "male=Male()\n",
    "female.getGender()\n",
    "male.getGender()"
   ]
  },
  {
   "attachments": {},
   "cell_type": "markdown",
   "metadata": {},
   "source": [
    "Question 4:\n",
    "Please write a program to generate all sentences where subject is in [&quot;I&quot;, &quot;You&quot;] and\n",
    "verb is in [&quot;Play&quot;, &quot;Love&quot;] and the object is in [&quot;Hockey&quot;,&quot;Football&quot;]."
   ]
  },
  {
   "cell_type": "code",
   "execution_count": 6,
   "metadata": {},
   "outputs": [
    {
     "name": "stdout",
     "output_type": "stream",
     "text": [
      " I Play Hockey\n",
      " I Play Football\n",
      " I Love Hockey\n",
      " I Love Football\n",
      " You Play Hockey\n",
      " You Play Football\n",
      " You Love Hockey\n",
      " You Love Football\n"
     ]
    }
   ],
   "source": [
    "subjects = [\"I\", \"You\"]\n",
    "verbs = [\"Play\", \"Love\"]\n",
    "objects = [\"Hockey\", \"Football\"]\n",
    "for i in subjects:\n",
    "    for j in verbs:\n",
    "        for k in objects:\n",
    "            print( f\" {i} {j} {k}\")\n",
    "            "
   ]
  },
  {
   "attachments": {},
   "cell_type": "markdown",
   "metadata": {},
   "source": [
    "Question 5:\n",
    "Please write a program to compress and decompress the string &quot;hello world!hello\n",
    "world!hello world!hello world!&quot;."
   ]
  },
  {
   "cell_type": "code",
   "execution_count": 15,
   "metadata": {},
   "outputs": [
    {
     "name": "stdout",
     "output_type": "stream",
     "text": [
      "Compressed:  b'x\\x9c\\xcbH\\xcd\\xc9\\xc9W(\\xcf/\\xcaIQ\\xcc\\x00\\xb2\\x014\\x94\\x06#'\n",
      "Decompressed:  b'hello world!hell'\n"
     ]
    }
   ],
   "source": [
    "import zlib\n",
    "text=input(\"Enter the text   ...\")\n",
    "comp=zlib.compress(text.encode(\"utf-8\"))\n",
    "print(\"Compressed: \", comp)\n",
    "decomp=zlib.decompress(comp)\n",
    "print(\"Decompressed: \", decomp)"
   ]
  },
  {
   "attachments": {},
   "cell_type": "markdown",
   "metadata": {},
   "source": [
    "Question 6:\n",
    "Please write a binary search function which searches an item in a sorted list. The\n",
    "function should return the index of element to be searched in the list."
   ]
  },
  {
   "cell_type": "code",
   "execution_count": 4,
   "metadata": {},
   "outputs": [
    {
     "name": "stdout",
     "output_type": "stream",
     "text": [
      "Enter the Number\n",
      "Elemet after sorted [3, 4, 5, 6, 7, 34, 45]\n",
      "Enter the key to be searched\n",
      "Elment 7 postion is  4\n"
     ]
    }
   ],
   "source": [
    "def binarySearch(sorted_number,low,high,key):\n",
    "    if low>high:\n",
    "        return -1\n",
    "    else :\n",
    "        mid=low+(high-low)//2\n",
    "        if sorted_number[mid]==key:\n",
    "            return mid\n",
    "        if sorted_number[mid]<key:\n",
    "            return binarySearch(sorted_number,mid+1,high,key)\n",
    "        elif sorted_number[mid]>key:\n",
    "            return binarySearch(sorted_number,low,mid-1,key)\n",
    "        \n",
    "    \n",
    "\n",
    "\n",
    "print(\"Enter the Number\")\n",
    "number=input().split()\n",
    "number=[int(i) for i in number]\n",
    "sorted_number=sorted(number)\n",
    "print(\"Elemet after sorted\",sorted_number)\n",
    "n=len(sorted_number)\n",
    "print(\"Enter the key to be searched\")\n",
    "key=int(input())\n",
    "print(f\"Elment {key} postion is \",binarySearch(sorted_number,0,n,key))\n"
   ]
  },
  {
   "cell_type": "code",
   "execution_count": null,
   "metadata": {},
   "outputs": [],
   "source": []
  }
 ],
 "metadata": {
  "kernelspec": {
   "display_name": "Python 3.9.7 ('mlflow_P')",
   "language": "python",
   "name": "python3"
  },
  "language_info": {
   "codemirror_mode": {
    "name": "ipython",
    "version": 3
   },
   "file_extension": ".py",
   "mimetype": "text/x-python",
   "name": "python",
   "nbconvert_exporter": "python",
   "pygments_lexer": "ipython3",
   "version": "3.9.7"
  },
  "orig_nbformat": 4,
  "vscode": {
   "interpreter": {
    "hash": "84a8255b5310c3fc3d793eccb8d6973103a193bf5559a61140ca4bea19180625"
   }
  }
 },
 "nbformat": 4,
 "nbformat_minor": 2
}
