{
 "cells": [
  {
   "cell_type": "markdown",
   "metadata": {},
   "source": [
    "# 1. Write a Python program to Extract Unique values dictionary values?"
   ]
  },
  {
   "cell_type": "code",
   "execution_count": 1,
   "metadata": {},
   "outputs": [
    {
     "name": "stdout",
     "output_type": "stream",
     "text": [
      "unique values are{2, 3, 78, 23}\n"
     ]
    }
   ],
   "source": [
    "dict1={'a':[2,3,23,23,2,2,3],\n",
    "'b':[2,3,23,23,78]}\n",
    "temp=[]\n",
    "for i in dict1.keys():\n",
    "    temp.extend(dict1[i])\n",
    "unique_val=set(temp)\n",
    "print(f\"unique values are{unique_val}\")"
   ]
  },
  {
   "cell_type": "markdown",
   "metadata": {},
   "source": [
    "# 2. Write a Python program to find the sum of all items in a dictionary?"
   ]
  },
  {
   "cell_type": "code",
   "execution_count": 3,
   "metadata": {},
   "outputs": [
    {
     "name": "stdout",
     "output_type": "stream",
     "text": [
      "sum of all items in dictionary is  187\n"
     ]
    }
   ],
   "source": [
    "dict1={'a':[2,3,23,23,2,2,3],\n",
    "'b':[2,3,23,23,78]}\n",
    "allSum=0\n",
    "for i in dict1.keys():\n",
    "    allSum+=sum(dict1[i])\n",
    "print(\"sum of all items in dictionary is \",allSum)"
   ]
  },
  {
   "cell_type": "markdown",
   "metadata": {},
   "source": [
    "# 3. Write a Python program to Merging two Dictionaries?"
   ]
  },
  {
   "cell_type": "code",
   "execution_count": 10,
   "metadata": {},
   "outputs": [
    {
     "name": "stdout",
     "output_type": "stream",
     "text": [
      "Merged dictionary   {'x': 4, 'y': 8, 'z': 5, 1: 8, 2: 6}\n",
      "Merged dictionary   {'x': 4, 'y': 8, 'z': 5, 2: 6}\n"
     ]
    }
   ],
   "source": [
    "dict1= {'x': [3,4], 'y' : 8, 'z': 5 }\n",
    "dict2= {1: 8, 'x': 4, 2: 6}\n",
    "\n",
    "merged_dict= {**dict1,**dict2}\n",
    "\n",
    "\n",
    "print(\"Merged dictionary  \",merged_dict)\n",
    "\n",
    "\n",
    "#   -------------------------------- Or ____----->\n",
    "for i in dict2.keys():\n",
    "    if dict2[i] in dict1.values():\n",
    "        pass\n",
    "    else :\n",
    "        dict1[i]=dict2[i]\n",
    "\n",
    "print(\"Merged dictionary  \",dict1)"
   ]
  },
  {
   "cell_type": "markdown",
   "metadata": {},
   "source": [
    "# 4. Write a Python program to convert key-values list to flat dictionary?"
   ]
  },
  {
   "cell_type": "code",
   "execution_count": 19,
   "metadata": {},
   "outputs": [
    {
     "name": "stdout",
     "output_type": "stream",
     "text": [
      "Original dictionary is :  {'1': [1, 2, 3], '2': ['M', 'T', 'd']}\n",
      "flaated dict:  {1: 'M', 2: 'T', 3: 'd'}\n"
     ]
    }
   ],
   "source": [
    "dict1= { \"1\": [1, 2, 3], \"2\": ['M', 'T', 'd' ] }\n",
    "print(\"Original dictionary is : \",dict1)\n",
    "\n",
    "\n",
    "\n",
    "flat_dic= dict(zip(dict1[\"1\"], dict1[\"2\"]))\n",
    "print(\"flaated dict: \", flat_dic)"
   ]
  },
  {
   "cell_type": "markdown",
   "metadata": {},
   "source": [
    "# 5. Write a Python program to insertion at the beginning in OrderedDict?"
   ]
  },
  {
   "cell_type": "code",
   "execution_count": 15,
   "metadata": {},
   "outputs": [
    {
     "data": {
      "text/plain": [
       "OrderedDict([(32, 345), (2, 34), (8, 45), (5, 234)])"
      ]
     },
     "execution_count": 15,
     "metadata": {},
     "output_type": "execute_result"
    }
   ],
   "source": [
    "from collections import OrderedDict\n",
    "dict1={2:34,8:45,5:234}\n",
    "Orderdict = OrderedDict(dict1)\n",
    "Orderdict.update({32:345})\n",
    "Orderdict.move_to_end(32,last=False)\n",
    "Orderdict"
   ]
  },
  {
   "cell_type": "markdown",
   "metadata": {},
   "source": [
    "# 6. Write a Python program to check order of character in string using OrderedDict()?"
   ]
  },
  {
   "cell_type": "code",
   "execution_count": 18,
   "metadata": {},
   "outputs": [
    {
     "name": "stdout",
     "output_type": "stream",
     "text": [
      "True\n",
      "False\n"
     ]
    }
   ],
   "source": [
    "from collections import OrderedDict \n",
    "def checkOrder(string, pattern): \n",
    "    dic = OrderedDict.fromkeys(string) \n",
    "    count = 0\n",
    "    for key,value in dic.items(): \n",
    "        if (key == pattern[count]): \n",
    "            count = count + 1\n",
    "        if (count == (len(pattern))): \n",
    "            return 'True'\n",
    "    return 'False'\n",
    "\n",
    "string = 'I am nitin kumar'\n",
    "pattern = 'nit'\n",
    "print (checkOrder(string,pattern))\n",
    "\n",
    "string2= 'where are you'\n",
    "pattern2= 're'\n",
    "print (checkOrder(string2,pattern2)) "
   ]
  },
  {
   "cell_type": "markdown",
   "metadata": {},
   "source": [
    "# 7. Write a Python program to sort Python Dictionaries by Key or Value?"
   ]
  },
  {
   "cell_type": "code",
   "execution_count": 13,
   "metadata": {},
   "outputs": [
    {
     "name": "stdout",
     "output_type": "stream",
     "text": [
      "(-59, 677) (2, 45) (5, 67) "
     ]
    }
   ],
   "source": [
    "dict1={2:45,5:67,-59:677}\n",
    "for i in sorted(dict1):\n",
    "        print((i, dict1[i]), end=\" \")"
   ]
  },
  {
   "cell_type": "code",
   "execution_count": null,
   "metadata": {},
   "outputs": [],
   "source": []
  }
 ],
 "metadata": {
  "kernelspec": {
   "display_name": "Python 3.6.13 ('dogcat')",
   "language": "python",
   "name": "python3"
  },
  "language_info": {
   "codemirror_mode": {
    "name": "ipython",
    "version": 3
   },
   "file_extension": ".py",
   "mimetype": "text/x-python",
   "name": "python",
   "nbconvert_exporter": "python",
   "pygments_lexer": "ipython3",
   "version": "3.6.13"
  },
  "orig_nbformat": 4,
  "vscode": {
   "interpreter": {
    "hash": "2e8543ae9f21516f2c119dce958e3bd727b59b5836fec464d61cecf8c27b1534"
   }
  }
 },
 "nbformat": 4,
 "nbformat_minor": 2
}
