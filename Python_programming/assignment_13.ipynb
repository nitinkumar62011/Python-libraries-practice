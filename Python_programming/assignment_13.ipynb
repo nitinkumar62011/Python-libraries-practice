{
 "cells": [
  {
   "cell_type": "markdown",
   "metadata": {},
   "source": [
    "# Question 1:\n",
    "# Write a program that calculates and prints the value according to the given formula:\n",
    "# Q = Square root of [(2 * C * D)/H]\n",
    "# Following are the fixed values of C and H:\n",
    "# C is 50. H is 30.\n",
    "# D is the variable whose values should be input to your program in a comma-separated\n",
    "# sequence.\n",
    "# Example\n",
    "# Let us assume the following comma separated input sequence is given to the program:\n",
    "# 100,150,180\n",
    "# The output of the program should be:\n",
    "# 18,22,24"
   ]
  },
  {
   "cell_type": "code",
   "execution_count": 4,
   "metadata": {},
   "outputs": [
    {
     "name": "stdout",
     "output_type": "stream",
     "text": [
      "Enter the value of D (comma-seperated like 100,150,180\n",
      "18,22,24,"
     ]
    }
   ],
   "source": [
    "c=50; h=30\n",
    "print(\"Enter the value of D (comma-seperated like 100,150,180\")\n",
    "d=input().split(\",\")\n",
    "d_list=[int(i) for i in d ]\n",
    "Q=[]\n",
    "for d in d_list:\n",
    "    Q.append(str(int(((2*c*d)/h)**0.5)))\n",
    "for i in Q:\n",
    "    print(str(i)+\",\",end='')"
   ]
  },
  {
   "cell_type": "markdown",
   "metadata": {},
   "source": [
    "# Question 2:\n",
    "# Write a program which takes 2 digits, X,Y as input and generates a 2-dimensional array. The\n",
    "# element value in the i-th row and j-th column of the array should be i*j.\n",
    "# Note: i=0,1.., X-1; j=0,1,¡Y-1.\n",
    "# Example\n",
    "# Suppose the following inputs are given to the program:\n",
    "# 3,5\n",
    "# T hen, the output of the program should be:\n",
    "# [[0, 0, 0, 0, 0], [0, 1, 2, 3, 4], [0, 2, 4, 6, 8]]"
   ]
  },
  {
   "cell_type": "code",
   "execution_count": 7,
   "metadata": {},
   "outputs": [
    {
     "name": "stdout",
     "output_type": "stream",
     "text": [
      "Generated 2- D Array of i*j is  [[0, 0, 0, 0, 0], [0, 1, 2, 3, 4], [0, 2, 4, 6, 8]]\n"
     ]
    }
   ],
   "source": [
    "def generatedXY(r,c):\n",
    "    generated=[]\n",
    "    for i in range(r):\n",
    "        temp=[]\n",
    "        for j in range(c):\n",
    "            temp.append(i*j)\n",
    "        generated.append(temp)\n",
    "    return generated\n",
    "\n",
    "row=int(input(\"Enter the row number\"))\n",
    "col=int(input(\"Enter the col number\"))\n",
    "print(\"Generated 2- D Array of i*j is \",generatedXY(row,col))"
   ]
  },
  {
   "cell_type": "markdown",
   "metadata": {},
   "source": [
    "# Question 3:\n",
    "# Write a program that accepts a comma separated sequence of words as input and prints the\n",
    "# words in a comma-separated sequence after sorting them alphabetically.\n",
    "# Suppose the following input is supplied to the program:\n",
    "# without,hello,bag,world\n",
    "# Then, the output should be:\n",
    "# bag,hello,without,world"
   ]
  },
  {
   "cell_type": "code",
   "execution_count": 9,
   "metadata": {},
   "outputs": [
    {
     "name": "stdout",
     "output_type": "stream",
     "text": [
      " sorted words are \n",
      "am, i, nitin, "
     ]
    }
   ],
   "source": [
    "words=input().split(',')\n",
    "new_words=sorted(words)\n",
    "\n",
    "\n",
    "print(\" sorted words are \")\n",
    "for i in new_words:\n",
    "    print(i+', ',end='')"
   ]
  },
  {
   "cell_type": "markdown",
   "metadata": {},
   "source": [
    "Question 4:\n",
    "Write a program that accepts a sequence of whitespace separated words as input and prints\n",
    "the words after removing all duplicate words and sorting them alphanumerically.\n",
    "Suppose the following input is supplied to the program:\n",
    "hello world and practice makes perfect and hello world again\n",
    "Then, the output should be:\n",
    "again and hello makes perfect practice world"
   ]
  },
  {
   "cell_type": "code",
   "execution_count": 11,
   "metadata": {},
   "outputs": [
    {
     "name": "stdout",
     "output_type": "stream",
     "text": [
      "again hello i ma niitn worls======\n"
     ]
    }
   ],
   "source": [
    "sentence = input()\n",
    "words = sentence.split(' ')\n",
    "\n",
    "word_list = []\n",
    "for i in words:\n",
    "    if i not in word_list:\n",
    "        word_list.append(i)\n",
    "    else:\n",
    "        continue\n",
    "word_list.sort()\n",
    "print((' ').join(word_list))"
   ]
  },
  {
   "cell_type": "markdown",
   "metadata": {},
   "source": [
    "Question 5:\n",
    "Write a program that accepts a sentence and calculate the number of letters and digits.\n",
    "Suppose the following input is supplied to the program:\n",
    "hello world! 123\n",
    "Then, the output should be:\n",
    "LETTERS 10\n",
    "\n",
    "DIGITS 3"
   ]
  },
  {
   "cell_type": "code",
   "execution_count": 12,
   "metadata": {},
   "outputs": [
    {
     "name": "stdout",
     "output_type": "stream",
     "text": [
      "3\n",
      "10\n"
     ]
    }
   ],
   "source": [
    "number=range(10)\n",
    "letters=0\n",
    "digits=0\n",
    "string=input()\n",
    "for i in string:\n",
    "    if ord(i)>=48 and ord(i)<=57:\n",
    "        digits+=1\n",
    "    elif ord(i)>=65 and ord(i)<=122:\n",
    "        letters+=1\n",
    "print(digits)\n",
    "print(letters)\n"
   ]
  },
  {
   "cell_type": "markdown",
   "metadata": {},
   "source": [
    "Question 6:\n",
    "A website requires the users to input username and password to register. Write a program to\n",
    "check the validity of password input by users.\n",
    "Following are the criteria for checking the password:\n",
    "1. At least 1 letter between [a-z]\n",
    "2. At least 1 number between [0-9]\n",
    "1. At least 1 letter between [A-Z]\n",
    "3. At least 1 character from [$#@]\n",
    "4. Minimum length of transaction password: 6\n",
    "5. Maximum length of transaction password: 12\n",
    "Your program should accept a sequence of comma separated passwords and will check them\n",
    "according to the above criteria. Passwords that match the criteria are to be printed, each\n",
    "separated by a comma.\n",
    "Example\n",
    "If the following passwords are given as input to the program:\n",
    "ABd1234@1,a F1#,2w3E*,2We3345\n",
    "Then, the output of the program should be:\n",
    "ABd1234@1"
   ]
  },
  {
   "cell_type": "code",
   "execution_count": 26,
   "metadata": {},
   "outputs": [
    {
     "name": "stdout",
     "output_type": "stream",
     "text": [
      "Enter the password comma seperated\n"
     ]
    },
    {
     "data": {
      "text/plain": [
       "['Abcv@123']"
      ]
     },
     "execution_count": 26,
     "metadata": {},
     "output_type": "execute_result"
    }
   ],
   "source": [
    "print(\"Enter the password comma seperated\")\n",
    "\n",
    "\n",
    "passwordList=input().split(\",\")\n",
    "\n",
    "validatedPassword=[]\n",
    "for password in passwordList:\n",
    "    if len(password)>=6 and len(password)<=12:\n",
    "        num=False\n",
    "        specialC=False\n",
    "        small=False\n",
    "        capitals=False\n",
    "        special='@#$'\n",
    "        for j in password: # for checking the number\n",
    "            if ord(j)>=48 and ord(j)<=57:\n",
    "                num=True\n",
    "            if j in special:\n",
    "                specialC=True\n",
    "                \n",
    "            if ord(j)>=65 and ord(j)<=90:\n",
    "                capitals=True\n",
    "            if ord(j)>=97 and ord(j)<=122:\n",
    "                small   = True\n",
    "            if num==True and small==True and capitals==True and special ==True:\n",
    "                break\n",
    "        validatedPassword.append(password)\n",
    "\n",
    "validatedPassword\n",
    "        \n"
   ]
  },
  {
   "cell_type": "code",
   "execution_count": 25,
   "metadata": {},
   "outputs": [
    {
     "data": {
      "text/plain": [
       "90"
      ]
     },
     "execution_count": 25,
     "metadata": {},
     "output_type": "execute_result"
    }
   ],
   "source": [
    "ord('Z')"
   ]
  },
  {
   "cell_type": "code",
   "execution_count": null,
   "metadata": {},
   "outputs": [],
   "source": []
  }
 ],
 "metadata": {
  "kernelspec": {
   "display_name": "Python 3.6.13 ('dogcat')",
   "language": "python",
   "name": "python3"
  },
  "language_info": {
   "codemirror_mode": {
    "name": "ipython",
    "version": 3
   },
   "file_extension": ".py",
   "mimetype": "text/x-python",
   "name": "python",
   "nbconvert_exporter": "python",
   "pygments_lexer": "ipython3",
   "version": "3.6.13"
  },
  "orig_nbformat": 4,
  "vscode": {
   "interpreter": {
    "hash": "2e8543ae9f21516f2c119dce958e3bd727b59b5836fec464d61cecf8c27b1534"
   }
  }
 },
 "nbformat": 4,
 "nbformat_minor": 2
}
