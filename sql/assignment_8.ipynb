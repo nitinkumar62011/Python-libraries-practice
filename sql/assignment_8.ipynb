{
 "cells": [
  {
   "cell_type": "markdown",
   "metadata": {},
   "source": [
    "Q-15. Write an SQL query to fetch intersecting records of two tables.\n"
   ]
  },
  {
   "cell_type": "markdown",
   "metadata": {},
   "source": [
    "Ans - > select worker.empno, worker.first_name, workerclone.empno, workerclone.first_name from worker \n",
    "inner join workerclone on workerclone.name = worker.name"
   ]
  },
  {
   "cell_type": "markdown",
   "metadata": {},
   "source": [
    "Q-16. Write an SQL query to show records from one table that another table does not\n",
    "have."
   ]
  },
  {
   "cell_type": "markdown",
   "metadata": {},
   "source": [
    "Ans - . > \n",
    "SELECT w.empno,  w.first_name , wc.empno,  wc.first_name\n",
    "FROM workerclone w\n",
    "LEFT JOIN worker wc\n",
    "ON w.first_name = wc.first_name;\n"
   ]
  },
  {
   "cell_type": "code",
   "execution_count": null,
   "metadata": {},
   "outputs": [],
   "source": [
    "a=8\n",
    "a"
   ]
  },
  {
   "cell_type": "markdown",
   "metadata": {},
   "source": []
  }
 ],
 "metadata": {
  "kernelspec": {
   "display_name": "Python 3.9.7 ('mlflow_P')",
   "language": "python",
   "name": "python3"
  },
  "language_info": {
   "name": "python",
   "version": "3.9.7"
  },
  "orig_nbformat": 4,
  "vscode": {
   "interpreter": {
    "hash": "84a8255b5310c3fc3d793eccb8d6973103a193bf5559a61140ca4bea19180625"
   }
  }
 },
 "nbformat": 4,
 "nbformat_minor": 2
}
